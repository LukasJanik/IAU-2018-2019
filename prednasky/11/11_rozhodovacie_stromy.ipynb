{
 "cells": [
  {
   "cell_type": "markdown",
   "metadata": {
    "slideshow": {
     "slide_type": "slide"
    }
   },
   "source": [
    "# Rozhodovacie stromy\n",
    "\n",
    "### Jakub Ševcech, Róbert Móro\n",
    "\n",
    "IAU, 29.11.2018"
   ]
  },
  {
   "cell_type": "markdown",
   "metadata": {
    "slideshow": {
     "slide_type": "slide"
    }
   },
   "source": [
    "## Spätnú väzbu nám môžete nechať tu: https://tinyurl.com/iau2018-19"
   ]
  },
  {
   "cell_type": "markdown",
   "metadata": {
    "slideshow": {
     "slide_type": "slide"
    }
   },
   "source": [
    "## Pýtať sa môžete na http://slido.com#iau2018-w11"
   ]
  },
  {
   "cell_type": "markdown",
   "metadata": {
    "slideshow": {
     "slide_type": "slide"
    }
   },
   "source": [
    "# 1. Rozhodovacie stromy\n",
    "\n",
    "# 2. Preučenie\n",
    "\n",
    "# 3. Vyber atributov"
   ]
  },
  {
   "cell_type": "markdown",
   "metadata": {
    "slideshow": {
     "slide_type": "slide"
    }
   },
   "source": [
    "# Rozhodovacie stromy"
   ]
  },
  {
   "cell_type": "markdown",
   "metadata": {
    "slideshow": {
     "slide_type": "slide"
    }
   },
   "source": [
    "<img src=\"img/binary_tree.png\" alt=\"Drawing\" style=\"width: 500px;\"/>"
   ]
  },
  {
   "cell_type": "markdown",
   "metadata": {
    "slideshow": {
     "slide_type": "slide"
    }
   },
   "source": [
    "<img src=\"img/flowchart.jpg\" alt=\"Drawing\" style=\"width: 500px;\"/>"
   ]
  },
  {
   "cell_type": "markdown",
   "metadata": {
    "slideshow": {
     "slide_type": "slide"
    }
   },
   "source": [
    "<img src=\"img/one_does_not.jpg\" alt=\"Drawing\" style=\"width: 500px;\"/>"
   ]
  },
  {
   "cell_type": "markdown",
   "metadata": {
    "slideshow": {
     "slide_type": "slide"
    }
   },
   "source": [
    "<img src=\"img/guess-ill-just-explain-it.jpg\" alt=\"Drawing\" style=\"width: 500px;\"/>"
   ]
  },
  {
   "cell_type": "markdown",
   "metadata": {
    "slideshow": {
     "slide_type": "slide"
    }
   },
   "source": [
    "Priklad a casti vysvetlenia prebrate z:\n",
    "* [IAML: Decision Trees - slides](http://www.inf.ed.ac.uk/teaching/courses/iaml/2011/slides/dt.pdf)\n",
    "* [IAML: Decision Trees - video](https://www.youtube.com/playlist?list=PLBv09BD7ez_4temBw7vLA19p3tdQH6FYO)\n",
    "* [Decision tree pruning](https://www.ismll.uni-hildesheim.de/lehre/ml-08w/skript/decision_trees2.pdf)\n",
    "\n",
    "Odporucam pozriest si vo volnom case"
   ]
  },
  {
   "cell_type": "markdown",
   "metadata": {
    "slideshow": {
     "slide_type": "slide"
    }
   },
   "source": [
    "\n",
    "Predstavte si, ze mate taketo data o tom ako niekto (volajme ho Jano) chodi hrat tenis a ku kazdemu riadku mate informacie o pocasi. Chcete vytvorit model, ktory bude predpovedat, ci Jano pojde hrat v novy den.\n",
    "<img src=\"img/data1.png\" alt=\"Drawing\" style=\"width: 500px;\"/>"
   ]
  },
  {
   "cell_type": "markdown",
   "metadata": {
    "slideshow": {
     "slide_type": "slide"
    }
   },
   "source": [
    "Ako by sa na takychto datach snazil predikciu spravit rozhodovaci strom?\n",
    "\n",
    "Tento algoritmus by sa snazil vytvorit pravidla, kedy Jano chodi a kedy nechodi hrat. Snazil by sa \"pochopit\" pravidlam v datach. Ako?"
   ]
  },
  {
   "cell_type": "markdown",
   "metadata": {
    "slideshow": {
     "slide_type": "slide"
    }
   },
   "source": [
    "# Rozhodovaci strom je greedy, devide & conquer algoritmus.\n",
    "\n",
    "Snazi sa rozdelit data na zaklade hodnot zvoleneho atributu tak, aby boli v podmnozinach pozorovania jednotne (idealne len z jednej triedy).\n",
    "\n",
    "Devide & conquer kvoli rozdelovaniu na podmnoziny.\n",
    "\n",
    "Greedy kvoli sposobu vyberu atributu, ktory pouzije ako pravidlo."
   ]
  },
  {
   "cell_type": "markdown",
   "metadata": {
    "slideshow": {
     "slide_type": "fragment"
    }
   },
   "source": [
    "<img src=\"img/test.jpg\" alt=\"Drawing\" style=\"width: 500px;\"/>"
   ]
  },
  {
   "cell_type": "markdown",
   "metadata": {
    "slideshow": {
     "slide_type": "slide"
    }
   },
   "source": [
    "#  Kostra algoritmu:\n",
    "\n",
    "1. Rozdel na podmnoziny\n",
    "2. Su podmnoziny ciste (obsahuju len pozorovania jednej triedy)?\n",
    "3. Ak ano: stop\n",
    "4. Ak nie: rekurzivne opakuj"
   ]
  },
  {
   "cell_type": "markdown",
   "metadata": {
    "slideshow": {
     "slide_type": "slide"
    }
   },
   "source": [
    "Skusime si to vyskusat na tychto datach.\n",
    "\n",
    "<img src=\"img/data2.png\" alt=\"Drawing\" style=\"width: 500px;\"/>\n",
    "\n",
    "Vyberme si atribut *Outlook* na zaklade ktoreho to rozdelime."
   ]
  },
  {
   "cell_type": "markdown",
   "metadata": {
    "slideshow": {
     "slide_type": "slide"
    }
   },
   "source": [
    "\n",
    "<img src=\"img/split-outlook.PNG\" alt=\"Drawing\" style=\"width: 500px;\"/>\n",
    "Rozdelilo sa nam to na 3 skupiny. jedna je uz cista, takze na nej sme uz skoncili a tie dalsie dve budeme musiet este rekurzivne riesit.\n",
    "\n",
    "Ked je jasno, tak sa zda, ze ked si vyberieme vlhkost, tak nam vzniknu ciste podmnoziny."
   ]
  },
  {
   "cell_type": "markdown",
   "metadata": {
    "slideshow": {
     "slide_type": "slide"
    }
   },
   "source": [
    "\n",
    "<img src=\"img/split-humidity.PNG\" alt=\"Drawing\" style=\"width: 500px;\"/>\n",
    "Teraz nam uz vznikli ciste podmnoziny, takze tusme skoncili.\n",
    "\n",
    "Teraz este prava vetva. Tu sa da podla vetra."
   ]
  },
  {
   "cell_type": "markdown",
   "metadata": {
    "slideshow": {
     "slide_type": "slide"
    }
   },
   "source": [
    "\n",
    "<img src=\"img/split-wind.PNG\" alt=\"Drawing\" style=\"width: 500px;\"/>\n",
    "\n",
    "Vsetky podmnoziny su ciste, takze sme skoncili a vznikol nam rozhodovaci strom."
   ]
  },
  {
   "cell_type": "markdown",
   "metadata": {
    "slideshow": {
     "slide_type": "slide"
    }
   },
   "source": [
    "Ako teraz budeme klasifikovat nove pozorovanie?\n",
    "<img src=\"img/dt-classif.PNG\" alt=\"Drawing\" style=\"width: 500px;\"/>"
   ]
  },
  {
   "cell_type": "markdown",
   "metadata": {
    "slideshow": {
     "slide_type": "slide"
    }
   },
   "source": [
    "# Teraz sme si vlastne ukazali priebeh algoritmu ID3 na vytvorenie rozhodovacieho stromu\n",
    "\n",
    "<img src=\"img/id3.PNG\" alt=\"Drawing\" style=\"width: 500px;\"/>\n",
    "\n",
    "Tento algoritmus viac menej naraz vymysleli dvaja ludia. Boli ale z roznej domeny, takze o sebe nevedeli. Stale plati rozdelenie medzi komunitami. ID3 mate implementovany v Pythne a CART v R.\n",
    "\n",
    "Otazne je, ako vybrat ten spravny atribut na rozdelenie"
   ]
  },
  {
   "cell_type": "markdown",
   "metadata": {
    "slideshow": {
     "slide_type": "slide"
    }
   },
   "source": [
    "<img src=\"img/which_attribute.PNG\" alt=\"Drawing\" style=\"width: 500px;\"/>"
   ]
  },
  {
   "cell_type": "markdown",
   "metadata": {
    "slideshow": {
     "slide_type": "slide"
    }
   },
   "source": [
    "Chceme metriku, ktora nam da vysoku hodnotu pre ciste podmnoziny a nizku pre neciste (alebo naopak)\n",
    "\n",
    "Podmienena pravdepodobnost nieje dobra, kedze ta nieje symetricka. Ma dve extremne hodnoty, ktore by nas zaujimali, ale medzi nimi je presne to, co nechceme. Ak by sme porovnavali dve pravdepodobnosti, tak nevieme jednoducho povedat, ktora je lepsia."
   ]
  },
  {
   "cell_type": "markdown",
   "metadata": {
    "slideshow": {
     "slide_type": "slide"
    }
   },
   "source": [
    "<img src=\"img/entropy.PNG\" alt=\"Drawing\" style=\"width: 500px;\"/>"
   ]
  },
  {
   "cell_type": "markdown",
   "metadata": {
    "slideshow": {
     "slide_type": "slide"
    }
   },
   "source": [
    "# Interpretacia Entropie\n",
    "\n",
    "Mnosstvo bitov informacie (per pozorovanie), ktore potrebujeme na to, aby sme zaradili kazde pozoorvanie do spravnej triedy.\n",
    "\n",
    "Ak je to 50/50, tak pre kazde pozoorvanie potrebujeme 1 bit na to ab ysme oznacili ci patri do triedy alebo nie. Ak to je iny pomer, tak potrebujeme menej, pretoze nam staci oznacit pozorovania z menej pocetnej triedy. Ak su vsetky pozorovania z jednej triedy, tak ich nepotrebujeme oznacovat vobec."
   ]
  },
  {
   "cell_type": "markdown",
   "metadata": {
    "slideshow": {
     "slide_type": "slide"
    }
   },
   "source": [
    "Pre Multiclass kalsifikaciu je vzorec entropie\n",
    "\n",
    "<img src=\"img/multiclass.PNG\" alt=\"Drawing\" style=\"width: 300px;\"/>"
   ]
  },
  {
   "cell_type": "markdown",
   "metadata": {
    "slideshow": {
     "slide_type": "slide"
    }
   },
   "source": [
    "<img src=\"img/information_gain.PNG\" alt=\"Drawing\" style=\"width: 500px;\"/>"
   ]
  },
  {
   "cell_type": "markdown",
   "metadata": {
    "slideshow": {
     "slide_type": "fragment"
    }
   },
   "source": [
    "### information gain = mutual information"
   ]
  },
  {
   "cell_type": "markdown",
   "metadata": {
    "slideshow": {
     "slide_type": "slide"
    }
   },
   "source": [
    "# Interpretacia Information gain\n",
    "\n",
    "Kolko bitov istoty ziskame ak pouzijeme zvoleny atribut na rozdelenie?\n",
    "\n",
    "Ide vlastne o zmenu entropie pri pouziti rozdelenia pomocou zvoleneho atributu. Kolko informacie vlastne dane rozdelenie do dat pridava."
   ]
  },
  {
   "cell_type": "markdown",
   "metadata": {
    "slideshow": {
     "slide_type": "slide"
    }
   },
   "source": [
    "## Velka vyhoda rozhodovacich stromov je priamociara interpretovatelnost natrenovaneho modelu. Daju sa z neho priamo vytvorit pravidla.\n",
    "\n",
    "<img src=\"img/interpretable.PNG\" alt=\"Drawing\" style=\"width: 500px;\"/>"
   ]
  },
  {
   "cell_type": "markdown",
   "metadata": {
    "slideshow": {
     "slide_type": "slide"
    }
   },
   "source": [
    "# Co s datami, ktore niesu kategoricke?\n",
    "\n",
    "## Thrashold split\n",
    "\n",
    "Usporiadajte hodnoty atributu a vyskusajte hodnoty medzi hodnotami atributu ako potencialne hranicne hodnoty. \n",
    "\n",
    "<img src=\"img/threshold_split.PNG\" alt=\"Drawing\" style=\"width: 500px;\"/>\n",
    "\n",
    "Vyhodnotenie vhodnosti roznych hranicnych bodov pomocou zvolenej metriky (Entropy, Information gain, ...)\n",
    "\n",
    "Staci pozerat na hranicne body medzi pozorovaniami, kde sa meni trieda.\n",
    "\n",
    "Vacsina kniznic to uz ma v sebe zabudovane a nemusite sa o to starat."
   ]
  },
  {
   "cell_type": "markdown",
   "metadata": {
    "slideshow": {
     "slide_type": "slide"
    }
   },
   "source": [
    "# Preucenie\n",
    "\n",
    "Zastavovacia podmienka vytvarania stromu su ciste listy. Co ak nam v liste zostane len velmi malo pozorovani. Dajme tomu 1. \n",
    "\n",
    "* Vtedy je list urcite cisty, ale bude sa dat taky strom pouzit aj na testovacej sade? \n",
    "* Chyba na trenovacej sade bude 0, ale na testovacej bude asi pomerne vysoka. \n",
    "* Pravidla, ktore vytvori budu velmi zlozite a budu velmi zle zovseobecnitelne. V podstate sa len nauci celu trenovaciu sadu naspamat. \n",
    "* Bude pretrenovany. \n",
    "\n",
    "<img src=\"img/overfitting.PNG\" alt=\"Drawing\" style=\"width: 500px;\"/>"
   ]
  },
  {
   "cell_type": "markdown",
   "metadata": {
    "slideshow": {
     "slide_type": "slide"
    }
   },
   "source": [
    "# Bias / Variance\n",
    "\n",
    "S pretrenovanim uzko suvisia terminy bias (skreslenie) a viarance (variancia)"
   ]
  },
  {
   "cell_type": "markdown",
   "metadata": {
    "slideshow": {
     "slide_type": "slide"
    }
   },
   "source": [
    "* **Bias** je chyba spôsobená aproximáciou zložitého problému jednoduchším modelom \n",
    "\n",
    "> Nieco nam v tom modely chyba\n",
    "\n",
    "> Robime nejaku systematicku chybu. \n",
    "\n",
    "* **Variancia** nám hovorí, ako velmi by sa zmenil model, ak by sme použili inú trénovaciu sadu\n",
    "\n",
    "> Hovori nam to aky nestaly bude model na datach, ktore predtym nevidel\n",
    "\n",
    "![bias-variance](img/bias-variance2.jpg)"
   ]
  },
  {
   "cell_type": "markdown",
   "metadata": {
    "slideshow": {
     "slide_type": "slide"
    }
   },
   "source": [
    "## Pekne sa to vizualizuje na regresii\n",
    "\n",
    "![overfit](img/overfit.png)\n",
    "\n",
    "* Ak máme velmi velky bias, tak to znamena, ze mame nedotrenovany model (underfitting) a nieco nam v nom chyba\n",
    "* Ak mame velku varianciu, tak to indikuje, ze sme model pretrenovali (overfitting)"
   ]
  },
  {
   "cell_type": "markdown",
   "metadata": {
    "slideshow": {
     "slide_type": "slide"
    }
   },
   "source": [
    "## Celkova chyba je zlozena z variancie a biasu\n",
    "\n",
    "A z nahodneho sumu v datach\n",
    "\n",
    "Tieto dve chyby nevieme od seba oddelit, ale snazime sa najst bod, kde je ich sucet minimalny\n",
    "\n",
    "![bias-variance](img/bias-variance.png)"
   ]
  },
  {
   "cell_type": "markdown",
   "metadata": {
    "slideshow": {
     "slide_type": "slide"
    }
   },
   "source": [
    "## Tie dve chyby nevieme od seba oddelit, ale ich sucet vieme odhadnut pomocou chyby na validacnej vzorke\n",
    "\n",
    "Snazime sa najst taku zlozitost modelu, aby som mal co najmensiu chybu na datach, ktore model nikdy nevidel\n",
    "\n",
    "![validation error](img/validation-error.png)\n",
    "\n",
    "Toto je vlastne prevrateny obrazok oproti tomu, ktory som ukazoval pri preuceni stromu pretoz sme pouzili metriku merajucu chybu a nie uspesnost.\n",
    "\n",
    "\n",
    "zdroj obrazkov:\n",
    "* [http://puremonkey2010.blogspot.sk/2016/09/ml-bias-variance-and-overfitting.html](http://puremonkey2010.blogspot.sk/2016/09/ml-bias-variance-and-overfitting.html),\n",
    "* [https://datascience.stackexchange.com/questions/361/when-is-a-model-underfitted](https://datascience.stackexchange.com/questions/361/when-is-a-model-underfitted) a \n",
    "* [http://scott.fortmann-roe.com/docs/BiasVariance.html](http://scott.fortmann-roe.com/docs/BiasVariance.html)"
   ]
  },
  {
   "cell_type": "markdown",
   "metadata": {
    "slideshow": {
     "slide_type": "slide"
    }
   },
   "source": [
    "# Co sa da spravit na zabranenie pretrenovaniu\n",
    "\n",
    "* Obmedzit rast stromu (maximalna hlbka, minimalna velkost listu, minimalna velkost vnutorneho uzlu, minimalny prirastok entropie pri rozdeleni ...)\n",
    "* Dodatocne orezavanie stromu (odstranenie podstromov a nahradenie predikciou majtoritnej triedy v podstrome)"
   ]
  },
  {
   "cell_type": "markdown",
   "metadata": {
    "slideshow": {
     "slide_type": "slide"
    }
   },
   "source": [
    "# Orezavanie (Pruning)\n",
    "Vela roznych algoritmov. Vacsinou vyzaduju validacnu vzorku na overenie ci orezanie zlepsilo strom. Pri pretrenovanom strome je chyba na trenovacej sade velmi mala a kazde orezanie by ju zhorsilo. Preto potrebujeme validacnu sadu aby sme zistili ci sa orezanie nejak prejavi aj na nej.\n",
    "\n",
    "## Reduced-Error Pruning\n",
    "Najpopularnejsi algoritmus orezavania\n",
    "\n",
    "1. Klasifikuj pozorvania z validacnej vzorky\n",
    "2. Pre kazdy vnutorny uzol:\n",
    "> a. Spocitaj chyby na pozorovaniach z validacnej vzorky, ktore spadaju do podstromu. \n",
    "> b. Spocitaj chybu ak by sa podstrom nahradil predikciou majoritnej triedy trenovacich pozorovani, ktore spadaju do podstromu.\n",
    "> Rozdiel tychto dvoch chyb je redukcia chyby na podstrome\n",
    "3. Odstran podstrom s najvacsou redukciou chyby na validacnej vzorke\n",
    "4. Opakuj pokial nastava nejaka redukcia\n"
   ]
  },
  {
   "cell_type": "markdown",
   "metadata": {
    "slideshow": {
     "slide_type": "slide"
    }
   },
   "source": [
    "## Rule Post-Pruning\n",
    "\n",
    "1) Transformuj strom na pravidla (jedno pravidlo pre kazdy prechod od korena k listom)\n",
    "\n",
    "> Outlook=sunny ^ humidity=high -> No\n",
    "\n",
    "> Outlook=sunny ^ humidity=normal -> Yes\n",
    "\n",
    "> Outlook=overcast -> Yes\n",
    "\n",
    "> Outlook=rain ^ wind=strong -> No\n",
    "\n",
    "> Outlook=rain ^ wind=weak -> Yes\n",
    "\n",
    "2) Pre kazdeho predchodcu v pravdle: odstran ho ak jeho odstranenim klesne chyba na validacnej vzorke (v ramci jedneho pravidla sa zastav ak uz chyba neklesa)\n",
    "\n",
    "3) Usporiadaj zostavajuce pravidla podla uspesnosti."
   ]
  },
  {
   "cell_type": "markdown",
   "metadata": {
    "slideshow": {
     "slide_type": "slide"
    }
   },
   "source": [
    "# Ukazka v Pythone"
   ]
  },
  {
   "cell_type": "code",
   "execution_count": 1,
   "metadata": {
    "slideshow": {
     "slide_type": "skip"
    }
   },
   "outputs": [],
   "source": [
    "%matplotlib inline\n",
    "import pandas as pd\n",
    "import numpy as np\n",
    "import matplotlib.pyplot as plt\n",
    "import seaborn"
   ]
  },
  {
   "cell_type": "code",
   "execution_count": 2,
   "metadata": {
    "slideshow": {
     "slide_type": "skip"
    }
   },
   "outputs": [],
   "source": [
    "plt.rcParams['figure.figsize'] = 9, 6"
   ]
  },
  {
   "cell_type": "markdown",
   "metadata": {
    "slideshow": {
     "slide_type": "slide"
    }
   },
   "source": [
    "# Nacitam si vsetky data. Trenovacie a aj jedno testovacie pozorovanie"
   ]
  },
  {
   "cell_type": "code",
   "execution_count": 3,
   "metadata": {
    "slideshow": {
     "slide_type": "fragment"
    }
   },
   "outputs": [
    {
     "data": {
      "text/html": [
       "<div>\n",
       "<style scoped>\n",
       "    .dataframe tbody tr th:only-of-type {\n",
       "        vertical-align: middle;\n",
       "    }\n",
       "\n",
       "    .dataframe tbody tr th {\n",
       "        vertical-align: top;\n",
       "    }\n",
       "\n",
       "    .dataframe thead th {\n",
       "        text-align: right;\n",
       "    }\n",
       "</style>\n",
       "<table border=\"1\" class=\"dataframe\">\n",
       "  <thead>\n",
       "    <tr style=\"text-align: right;\">\n",
       "      <th></th>\n",
       "      <th>Humidity</th>\n",
       "      <th>Outlook</th>\n",
       "      <th>Play</th>\n",
       "      <th>Wind</th>\n",
       "    </tr>\n",
       "  </thead>\n",
       "  <tbody>\n",
       "    <tr>\n",
       "      <th>0</th>\n",
       "      <td>High</td>\n",
       "      <td>Sunny</td>\n",
       "      <td>No</td>\n",
       "      <td>Weak</td>\n",
       "    </tr>\n",
       "    <tr>\n",
       "      <th>1</th>\n",
       "      <td>High</td>\n",
       "      <td>Sunny</td>\n",
       "      <td>No</td>\n",
       "      <td>Strong</td>\n",
       "    </tr>\n",
       "    <tr>\n",
       "      <th>2</th>\n",
       "      <td>High</td>\n",
       "      <td>Overcast</td>\n",
       "      <td>Yes</td>\n",
       "      <td>Weak</td>\n",
       "    </tr>\n",
       "    <tr>\n",
       "      <th>3</th>\n",
       "      <td>High</td>\n",
       "      <td>Rain</td>\n",
       "      <td>Yes</td>\n",
       "      <td>Weak</td>\n",
       "    </tr>\n",
       "    <tr>\n",
       "      <th>4</th>\n",
       "      <td>Normal</td>\n",
       "      <td>Rain</td>\n",
       "      <td>Yes</td>\n",
       "      <td>Weak</td>\n",
       "    </tr>\n",
       "    <tr>\n",
       "      <th>5</th>\n",
       "      <td>Normal</td>\n",
       "      <td>Rain</td>\n",
       "      <td>No</td>\n",
       "      <td>Strong</td>\n",
       "    </tr>\n",
       "    <tr>\n",
       "      <th>6</th>\n",
       "      <td>Normal</td>\n",
       "      <td>Overcast</td>\n",
       "      <td>Yes</td>\n",
       "      <td>Strong</td>\n",
       "    </tr>\n",
       "    <tr>\n",
       "      <th>7</th>\n",
       "      <td>High</td>\n",
       "      <td>Sunny</td>\n",
       "      <td>No</td>\n",
       "      <td>Weak</td>\n",
       "    </tr>\n",
       "    <tr>\n",
       "      <th>8</th>\n",
       "      <td>Normal</td>\n",
       "      <td>Sunny</td>\n",
       "      <td>Yes</td>\n",
       "      <td>Weak</td>\n",
       "    </tr>\n",
       "    <tr>\n",
       "      <th>9</th>\n",
       "      <td>Normal</td>\n",
       "      <td>Rain</td>\n",
       "      <td>Yes</td>\n",
       "      <td>Weak</td>\n",
       "    </tr>\n",
       "    <tr>\n",
       "      <th>10</th>\n",
       "      <td>Normal</td>\n",
       "      <td>Sunny</td>\n",
       "      <td>Yes</td>\n",
       "      <td>Strong</td>\n",
       "    </tr>\n",
       "    <tr>\n",
       "      <th>11</th>\n",
       "      <td>High</td>\n",
       "      <td>Overcast</td>\n",
       "      <td>Yes</td>\n",
       "      <td>Strong</td>\n",
       "    </tr>\n",
       "    <tr>\n",
       "      <th>12</th>\n",
       "      <td>Normal</td>\n",
       "      <td>Overcast</td>\n",
       "      <td>Yes</td>\n",
       "      <td>Weak</td>\n",
       "    </tr>\n",
       "    <tr>\n",
       "      <th>13</th>\n",
       "      <td>High</td>\n",
       "      <td>Rain</td>\n",
       "      <td>No</td>\n",
       "      <td>Strong</td>\n",
       "    </tr>\n",
       "    <tr>\n",
       "      <th>14</th>\n",
       "      <td>High</td>\n",
       "      <td>Rain</td>\n",
       "      <td>Yes</td>\n",
       "      <td>Weak</td>\n",
       "    </tr>\n",
       "  </tbody>\n",
       "</table>\n",
       "</div>"
      ],
      "text/plain": [
       "   Humidity   Outlook Play    Wind\n",
       "0      High     Sunny   No    Weak\n",
       "1      High     Sunny   No  Strong\n",
       "2      High  Overcast  Yes    Weak\n",
       "3      High      Rain  Yes    Weak\n",
       "4    Normal      Rain  Yes    Weak\n",
       "5    Normal      Rain   No  Strong\n",
       "6    Normal  Overcast  Yes  Strong\n",
       "7      High     Sunny   No    Weak\n",
       "8    Normal     Sunny  Yes    Weak\n",
       "9    Normal      Rain  Yes    Weak\n",
       "10   Normal     Sunny  Yes  Strong\n",
       "11     High  Overcast  Yes  Strong\n",
       "12   Normal  Overcast  Yes    Weak\n",
       "13     High      Rain   No  Strong\n",
       "14     High      Rain  Yes    Weak"
      ]
     },
     "execution_count": 3,
     "metadata": {},
     "output_type": "execute_result"
    }
   ],
   "source": [
    "data = pd.read_csv('tenis.csv')\n",
    "data"
   ]
  },
  {
   "cell_type": "code",
   "execution_count": 5,
   "metadata": {
    "slideshow": {
     "slide_type": "slide"
    }
   },
   "outputs": [
    {
     "ename": "ValueError",
     "evalue": "could not convert string to float: 'Strong'",
     "output_type": "error",
     "traceback": [
      "\u001b[0;31m---------------------------------------------------------------------------\u001b[0m",
      "\u001b[0;31mValueError\u001b[0m                                Traceback (most recent call last)",
      "\u001b[0;32m<ipython-input-5-12fddc32c13c>\u001b[0m in \u001b[0;36m<module>\u001b[0;34m()\u001b[0m\n\u001b[1;32m      4\u001b[0m \u001b[0mX\u001b[0m \u001b[0;34m=\u001b[0m \u001b[0mdata\u001b[0m\u001b[0;34m.\u001b[0m\u001b[0mloc\u001b[0m\u001b[0;34m[\u001b[0m\u001b[0mdata\u001b[0m\u001b[0;34m.\u001b[0m\u001b[0mindex\u001b[0m \u001b[0;34m<\u001b[0m \u001b[0;36m14\u001b[0m\u001b[0;34m,\u001b[0m \u001b[0;34m[\u001b[0m\u001b[0;34m'Humidity'\u001b[0m\u001b[0;34m,\u001b[0m \u001b[0;34m'Outlook'\u001b[0m\u001b[0;34m,\u001b[0m \u001b[0;34m'Wind'\u001b[0m\u001b[0;34m]\u001b[0m\u001b[0;34m]\u001b[0m\u001b[0;34m\u001b[0m\u001b[0m\n\u001b[1;32m      5\u001b[0m \u001b[0my\u001b[0m \u001b[0;34m=\u001b[0m \u001b[0mdata\u001b[0m\u001b[0;34m.\u001b[0m\u001b[0mloc\u001b[0m\u001b[0;34m[\u001b[0m\u001b[0mdata\u001b[0m\u001b[0;34m.\u001b[0m\u001b[0mindex\u001b[0m \u001b[0;34m<\u001b[0m \u001b[0;36m14\u001b[0m\u001b[0;34m,\u001b[0m \u001b[0;34m'Play'\u001b[0m\u001b[0;34m]\u001b[0m\u001b[0;34m\u001b[0m\u001b[0m\n\u001b[0;32m----> 6\u001b[0;31m \u001b[0mcls\u001b[0m\u001b[0;34m.\u001b[0m\u001b[0mfit\u001b[0m\u001b[0;34m(\u001b[0m\u001b[0mX\u001b[0m\u001b[0;34m,\u001b[0m \u001b[0my\u001b[0m\u001b[0;34m)\u001b[0m\u001b[0;34m\u001b[0m\u001b[0m\n\u001b[0m",
      "\u001b[0;32m/home/ganimedes/anaconda3/lib/python3.6/site-packages/sklearn/tree/tree.py\u001b[0m in \u001b[0;36mfit\u001b[0;34m(self, X, y, sample_weight, check_input, X_idx_sorted)\u001b[0m\n\u001b[1;32m    788\u001b[0m             \u001b[0msample_weight\u001b[0m\u001b[0;34m=\u001b[0m\u001b[0msample_weight\u001b[0m\u001b[0;34m,\u001b[0m\u001b[0;34m\u001b[0m\u001b[0m\n\u001b[1;32m    789\u001b[0m             \u001b[0mcheck_input\u001b[0m\u001b[0;34m=\u001b[0m\u001b[0mcheck_input\u001b[0m\u001b[0;34m,\u001b[0m\u001b[0;34m\u001b[0m\u001b[0m\n\u001b[0;32m--> 790\u001b[0;31m             X_idx_sorted=X_idx_sorted)\n\u001b[0m\u001b[1;32m    791\u001b[0m         \u001b[0;32mreturn\u001b[0m \u001b[0mself\u001b[0m\u001b[0;34m\u001b[0m\u001b[0m\n\u001b[1;32m    792\u001b[0m \u001b[0;34m\u001b[0m\u001b[0m\n",
      "\u001b[0;32m/home/ganimedes/anaconda3/lib/python3.6/site-packages/sklearn/tree/tree.py\u001b[0m in \u001b[0;36mfit\u001b[0;34m(self, X, y, sample_weight, check_input, X_idx_sorted)\u001b[0m\n\u001b[1;32m    114\u001b[0m         \u001b[0mrandom_state\u001b[0m \u001b[0;34m=\u001b[0m \u001b[0mcheck_random_state\u001b[0m\u001b[0;34m(\u001b[0m\u001b[0mself\u001b[0m\u001b[0;34m.\u001b[0m\u001b[0mrandom_state\u001b[0m\u001b[0;34m)\u001b[0m\u001b[0;34m\u001b[0m\u001b[0m\n\u001b[1;32m    115\u001b[0m         \u001b[0;32mif\u001b[0m \u001b[0mcheck_input\u001b[0m\u001b[0;34m:\u001b[0m\u001b[0;34m\u001b[0m\u001b[0m\n\u001b[0;32m--> 116\u001b[0;31m             \u001b[0mX\u001b[0m \u001b[0;34m=\u001b[0m \u001b[0mcheck_array\u001b[0m\u001b[0;34m(\u001b[0m\u001b[0mX\u001b[0m\u001b[0;34m,\u001b[0m \u001b[0mdtype\u001b[0m\u001b[0;34m=\u001b[0m\u001b[0mDTYPE\u001b[0m\u001b[0;34m,\u001b[0m \u001b[0maccept_sparse\u001b[0m\u001b[0;34m=\u001b[0m\u001b[0;34m\"csc\"\u001b[0m\u001b[0;34m)\u001b[0m\u001b[0;34m\u001b[0m\u001b[0m\n\u001b[0m\u001b[1;32m    117\u001b[0m             \u001b[0my\u001b[0m \u001b[0;34m=\u001b[0m \u001b[0mcheck_array\u001b[0m\u001b[0;34m(\u001b[0m\u001b[0my\u001b[0m\u001b[0;34m,\u001b[0m \u001b[0mensure_2d\u001b[0m\u001b[0;34m=\u001b[0m\u001b[0;32mFalse\u001b[0m\u001b[0;34m,\u001b[0m \u001b[0mdtype\u001b[0m\u001b[0;34m=\u001b[0m\u001b[0;32mNone\u001b[0m\u001b[0;34m)\u001b[0m\u001b[0;34m\u001b[0m\u001b[0m\n\u001b[1;32m    118\u001b[0m             \u001b[0;32mif\u001b[0m \u001b[0missparse\u001b[0m\u001b[0;34m(\u001b[0m\u001b[0mX\u001b[0m\u001b[0;34m)\u001b[0m\u001b[0;34m:\u001b[0m\u001b[0;34m\u001b[0m\u001b[0m\n",
      "\u001b[0;32m/home/ganimedes/anaconda3/lib/python3.6/site-packages/sklearn/utils/validation.py\u001b[0m in \u001b[0;36mcheck_array\u001b[0;34m(array, accept_sparse, dtype, order, copy, force_all_finite, ensure_2d, allow_nd, ensure_min_samples, ensure_min_features, warn_on_dtype, estimator)\u001b[0m\n\u001b[1;32m    431\u001b[0m                                       force_all_finite)\n\u001b[1;32m    432\u001b[0m     \u001b[0;32melse\u001b[0m\u001b[0;34m:\u001b[0m\u001b[0;34m\u001b[0m\u001b[0m\n\u001b[0;32m--> 433\u001b[0;31m         \u001b[0marray\u001b[0m \u001b[0;34m=\u001b[0m \u001b[0mnp\u001b[0m\u001b[0;34m.\u001b[0m\u001b[0marray\u001b[0m\u001b[0;34m(\u001b[0m\u001b[0marray\u001b[0m\u001b[0;34m,\u001b[0m \u001b[0mdtype\u001b[0m\u001b[0;34m=\u001b[0m\u001b[0mdtype\u001b[0m\u001b[0;34m,\u001b[0m \u001b[0morder\u001b[0m\u001b[0;34m=\u001b[0m\u001b[0morder\u001b[0m\u001b[0;34m,\u001b[0m \u001b[0mcopy\u001b[0m\u001b[0;34m=\u001b[0m\u001b[0mcopy\u001b[0m\u001b[0;34m)\u001b[0m\u001b[0;34m\u001b[0m\u001b[0m\n\u001b[0m\u001b[1;32m    434\u001b[0m \u001b[0;34m\u001b[0m\u001b[0m\n\u001b[1;32m    435\u001b[0m         \u001b[0;32mif\u001b[0m \u001b[0mensure_2d\u001b[0m\u001b[0;34m:\u001b[0m\u001b[0;34m\u001b[0m\u001b[0m\n",
      "\u001b[0;31mValueError\u001b[0m: could not convert string to float: 'Strong'"
     ]
    }
   ],
   "source": [
    "from sklearn.tree import DecisionTreeClassifier\n",
    "cls = DecisionTreeClassifier(criterion='entropy')\n",
    "\n",
    "X = data.loc[data.index < 14, ['Humidity', 'Outlook', 'Wind']]\n",
    "y = data.loc[data.index < 14, 'Play']\n",
    "cls.fit(X, y)"
   ]
  },
  {
   "cell_type": "markdown",
   "metadata": {
    "slideshow": {
     "slide_type": "slide"
    }
   },
   "source": [
    "# Scikit-learn vie pracovat len s numerickymi hodnotami\n",
    "\n",
    "Potrebujeme teda spravit kodovanie"
   ]
  },
  {
   "cell_type": "code",
   "execution_count": 6,
   "metadata": {
    "slideshow": {
     "slide_type": "slide"
    }
   },
   "outputs": [
    {
     "data": {
      "text/html": [
       "<div>\n",
       "<style scoped>\n",
       "    .dataframe tbody tr th:only-of-type {\n",
       "        vertical-align: middle;\n",
       "    }\n",
       "\n",
       "    .dataframe tbody tr th {\n",
       "        vertical-align: top;\n",
       "    }\n",
       "\n",
       "    .dataframe thead th {\n",
       "        text-align: right;\n",
       "    }\n",
       "</style>\n",
       "<table border=\"1\" class=\"dataframe\">\n",
       "  <thead>\n",
       "    <tr style=\"text-align: right;\">\n",
       "      <th></th>\n",
       "      <th>Wind_Strong</th>\n",
       "      <th>Wind_Weak</th>\n",
       "      <th>Humidity_High</th>\n",
       "      <th>Humidity_Normal</th>\n",
       "      <th>Outlook_Overcast</th>\n",
       "      <th>Outlook_Rain</th>\n",
       "      <th>Outlook_Sunny</th>\n",
       "    </tr>\n",
       "  </thead>\n",
       "  <tbody>\n",
       "    <tr>\n",
       "      <th>0</th>\n",
       "      <td>0</td>\n",
       "      <td>1</td>\n",
       "      <td>1</td>\n",
       "      <td>0</td>\n",
       "      <td>0</td>\n",
       "      <td>0</td>\n",
       "      <td>1</td>\n",
       "    </tr>\n",
       "    <tr>\n",
       "      <th>1</th>\n",
       "      <td>1</td>\n",
       "      <td>0</td>\n",
       "      <td>1</td>\n",
       "      <td>0</td>\n",
       "      <td>0</td>\n",
       "      <td>0</td>\n",
       "      <td>1</td>\n",
       "    </tr>\n",
       "    <tr>\n",
       "      <th>2</th>\n",
       "      <td>0</td>\n",
       "      <td>1</td>\n",
       "      <td>1</td>\n",
       "      <td>0</td>\n",
       "      <td>1</td>\n",
       "      <td>0</td>\n",
       "      <td>0</td>\n",
       "    </tr>\n",
       "    <tr>\n",
       "      <th>3</th>\n",
       "      <td>0</td>\n",
       "      <td>1</td>\n",
       "      <td>1</td>\n",
       "      <td>0</td>\n",
       "      <td>0</td>\n",
       "      <td>1</td>\n",
       "      <td>0</td>\n",
       "    </tr>\n",
       "    <tr>\n",
       "      <th>4</th>\n",
       "      <td>0</td>\n",
       "      <td>1</td>\n",
       "      <td>0</td>\n",
       "      <td>1</td>\n",
       "      <td>0</td>\n",
       "      <td>1</td>\n",
       "      <td>0</td>\n",
       "    </tr>\n",
       "    <tr>\n",
       "      <th>5</th>\n",
       "      <td>1</td>\n",
       "      <td>0</td>\n",
       "      <td>0</td>\n",
       "      <td>1</td>\n",
       "      <td>0</td>\n",
       "      <td>1</td>\n",
       "      <td>0</td>\n",
       "    </tr>\n",
       "    <tr>\n",
       "      <th>6</th>\n",
       "      <td>1</td>\n",
       "      <td>0</td>\n",
       "      <td>0</td>\n",
       "      <td>1</td>\n",
       "      <td>1</td>\n",
       "      <td>0</td>\n",
       "      <td>0</td>\n",
       "    </tr>\n",
       "    <tr>\n",
       "      <th>7</th>\n",
       "      <td>0</td>\n",
       "      <td>1</td>\n",
       "      <td>1</td>\n",
       "      <td>0</td>\n",
       "      <td>0</td>\n",
       "      <td>0</td>\n",
       "      <td>1</td>\n",
       "    </tr>\n",
       "    <tr>\n",
       "      <th>8</th>\n",
       "      <td>0</td>\n",
       "      <td>1</td>\n",
       "      <td>0</td>\n",
       "      <td>1</td>\n",
       "      <td>0</td>\n",
       "      <td>0</td>\n",
       "      <td>1</td>\n",
       "    </tr>\n",
       "    <tr>\n",
       "      <th>9</th>\n",
       "      <td>0</td>\n",
       "      <td>1</td>\n",
       "      <td>0</td>\n",
       "      <td>1</td>\n",
       "      <td>0</td>\n",
       "      <td>1</td>\n",
       "      <td>0</td>\n",
       "    </tr>\n",
       "    <tr>\n",
       "      <th>10</th>\n",
       "      <td>1</td>\n",
       "      <td>0</td>\n",
       "      <td>0</td>\n",
       "      <td>1</td>\n",
       "      <td>0</td>\n",
       "      <td>0</td>\n",
       "      <td>1</td>\n",
       "    </tr>\n",
       "    <tr>\n",
       "      <th>11</th>\n",
       "      <td>1</td>\n",
       "      <td>0</td>\n",
       "      <td>1</td>\n",
       "      <td>0</td>\n",
       "      <td>1</td>\n",
       "      <td>0</td>\n",
       "      <td>0</td>\n",
       "    </tr>\n",
       "    <tr>\n",
       "      <th>12</th>\n",
       "      <td>0</td>\n",
       "      <td>1</td>\n",
       "      <td>0</td>\n",
       "      <td>1</td>\n",
       "      <td>1</td>\n",
       "      <td>0</td>\n",
       "      <td>0</td>\n",
       "    </tr>\n",
       "    <tr>\n",
       "      <th>13</th>\n",
       "      <td>1</td>\n",
       "      <td>0</td>\n",
       "      <td>1</td>\n",
       "      <td>0</td>\n",
       "      <td>0</td>\n",
       "      <td>1</td>\n",
       "      <td>0</td>\n",
       "    </tr>\n",
       "    <tr>\n",
       "      <th>14</th>\n",
       "      <td>0</td>\n",
       "      <td>1</td>\n",
       "      <td>1</td>\n",
       "      <td>0</td>\n",
       "      <td>0</td>\n",
       "      <td>1</td>\n",
       "      <td>0</td>\n",
       "    </tr>\n",
       "  </tbody>\n",
       "</table>\n",
       "</div>"
      ],
      "text/plain": [
       "    Wind_Strong  Wind_Weak  Humidity_High  Humidity_Normal  Outlook_Overcast  \\\n",
       "0             0          1              1                0                 0   \n",
       "1             1          0              1                0                 0   \n",
       "2             0          1              1                0                 1   \n",
       "3             0          1              1                0                 0   \n",
       "4             0          1              0                1                 0   \n",
       "5             1          0              0                1                 0   \n",
       "6             1          0              0                1                 1   \n",
       "7             0          1              1                0                 0   \n",
       "8             0          1              0                1                 0   \n",
       "9             0          1              0                1                 0   \n",
       "10            1          0              0                1                 0   \n",
       "11            1          0              1                0                 1   \n",
       "12            0          1              0                1                 1   \n",
       "13            1          0              1                0                 0   \n",
       "14            0          1              1                0                 0   \n",
       "\n",
       "    Outlook_Rain  Outlook_Sunny  \n",
       "0              0              1  \n",
       "1              0              1  \n",
       "2              0              0  \n",
       "3              1              0  \n",
       "4              1              0  \n",
       "5              1              0  \n",
       "6              0              0  \n",
       "7              0              1  \n",
       "8              0              1  \n",
       "9              1              0  \n",
       "10             0              1  \n",
       "11             0              0  \n",
       "12             0              0  \n",
       "13             1              0  \n",
       "14             1              0  "
      ]
     },
     "execution_count": 6,
     "metadata": {},
     "output_type": "execute_result"
    }
   ],
   "source": [
    "# One-hot kodovanie vsetkych dat okrem predikovaneho stlpcu\n",
    "encoded = pd.concat([pd.get_dummies(data[column], prefix=column) for column in set(data.columns) - {'Play'}], axis=1)\n",
    "encoded"
   ]
  },
  {
   "cell_type": "markdown",
   "metadata": {
    "slideshow": {
     "slide_type": "slide"
    }
   },
   "source": [
    "# Pozor, v predchadzajucom kode som trochu podvadzal. Kto vie co som spravil zle?"
   ]
  },
  {
   "cell_type": "markdown",
   "metadata": {
    "slideshow": {
     "slide_type": "fragment"
    }
   },
   "source": [
    "# Pouzil som testovacie data na natrenovanie transformacie. \n",
    "\n",
    "Posledne pozorovanie patri do testovacich dat. One hot encoder, ktory som pouzil sa pozrel na vsetky unikatne hodnoty v datach v ratane testovacich a vytvoril pre kazdu unikatnu hodnotu novy stlpec. \n",
    "\n",
    "Co by sa stalo ak by som v testovacich datach mal hodnotu, ktora sa v trenovacich nenachadza?\n",
    "\n",
    "Co by sa malo stat pospravnosti?"
   ]
  },
  {
   "cell_type": "markdown",
   "metadata": {
    "slideshow": {
     "slide_type": "slide"
    }
   },
   "source": [
    "# Vyberiem si len trenovacie data a natrenujem klasifikator"
   ]
  },
  {
   "cell_type": "code",
   "execution_count": 7,
   "metadata": {
    "slideshow": {
     "slide_type": "fragment"
    }
   },
   "outputs": [
    {
     "data": {
      "text/plain": [
       "DecisionTreeClassifier(class_weight=None, criterion='entropy', max_depth=None,\n",
       "            max_features=None, max_leaf_nodes=None,\n",
       "            min_impurity_decrease=0.0, min_impurity_split=None,\n",
       "            min_samples_leaf=1, min_samples_split=2,\n",
       "            min_weight_fraction_leaf=0.0, presort=False, random_state=None,\n",
       "            splitter='best')"
      ]
     },
     "execution_count": 7,
     "metadata": {},
     "output_type": "execute_result"
    }
   ],
   "source": [
    "X = encoded[encoded.index < 14]\n",
    "y = data.loc[data.index < 14, 'Play']\n",
    "\n",
    "cls.fit(X, y)"
   ]
  },
  {
   "cell_type": "code",
   "execution_count": 8,
   "metadata": {
    "slideshow": {
     "slide_type": "fragment"
    }
   },
   "outputs": [
    {
     "data": {
      "text/plain": [
       "array(['Yes'], dtype=object)"
      ]
     },
     "execution_count": 8,
     "metadata": {},
     "output_type": "execute_result"
    }
   ],
   "source": [
    "test = encoded[encoded.index == 14]\n",
    "cls.predict(test)"
   ]
  },
  {
   "cell_type": "markdown",
   "metadata": {
    "slideshow": {
     "slide_type": "slide"
    }
   },
   "source": [
    "# Natrenovany strom si mozem vyzualizovat"
   ]
  },
  {
   "cell_type": "code",
   "execution_count": 9,
   "metadata": {
    "slideshow": {
     "slide_type": "slide"
    }
   },
   "outputs": [
    {
     "data": {
      "image/svg+xml": [
       "<svg height=\"552pt\" viewBox=\"0.00 0.00 538.00 552.00\" width=\"538pt\" xmlns=\"http://www.w3.org/2000/svg\" xmlns:xlink=\"http://www.w3.org/1999/xlink\">\n",
       "<g class=\"graph\" id=\"graph0\" transform=\"scale(1 1) rotate(0) translate(4 548)\">\n",
       "<title>Tree</title>\n",
       "<polygon fill=\"white\" points=\"-4,4 -4,-548 534,-548 534,4 -4,4\" stroke=\"none\"/>\n",
       "<!-- 0 -->\n",
       "<g class=\"node\" id=\"node1\"><title>0</title>\n",
       "<polygon fill=\"#399de5\" fill-opacity=\"0.443137\" points=\"425.5,-544 268.5,-544 268.5,-461 425.5,-461 425.5,-544\" stroke=\"black\"/>\n",
       "<text font-family=\"Times,serif\" font-size=\"14.00\" text-anchor=\"middle\" x=\"347\" y=\"-528.8\">Outlook_Overcast &lt;= 0.5</text>\n",
       "<text font-family=\"Times,serif\" font-size=\"14.00\" text-anchor=\"middle\" x=\"347\" y=\"-513.8\">entropy = 0.94</text>\n",
       "<text font-family=\"Times,serif\" font-size=\"14.00\" text-anchor=\"middle\" x=\"347\" y=\"-498.8\">samples = 14</text>\n",
       "<text font-family=\"Times,serif\" font-size=\"14.00\" text-anchor=\"middle\" x=\"347\" y=\"-483.8\">value = [5, 9]</text>\n",
       "<text font-family=\"Times,serif\" font-size=\"14.00\" text-anchor=\"middle\" x=\"347\" y=\"-468.8\">class = yes</text>\n",
       "</g>\n",
       "<!-- 1 -->\n",
       "<g class=\"node\" id=\"node2\"><title>1</title>\n",
       "<polygon fill=\"none\" points=\"354.5,-425 195.5,-425 195.5,-342 354.5,-342 354.5,-425\" stroke=\"black\"/>\n",
       "<text font-family=\"Times,serif\" font-size=\"14.00\" text-anchor=\"middle\" x=\"275\" y=\"-409.8\">Humidity_Normal &lt;= 0.5</text>\n",
       "<text font-family=\"Times,serif\" font-size=\"14.00\" text-anchor=\"middle\" x=\"275\" y=\"-394.8\">entropy = 1.0</text>\n",
       "<text font-family=\"Times,serif\" font-size=\"14.00\" text-anchor=\"middle\" x=\"275\" y=\"-379.8\">samples = 10</text>\n",
       "<text font-family=\"Times,serif\" font-size=\"14.00\" text-anchor=\"middle\" x=\"275\" y=\"-364.8\">value = [5, 5]</text>\n",
       "<text font-family=\"Times,serif\" font-size=\"14.00\" text-anchor=\"middle\" x=\"275\" y=\"-349.8\">class = no</text>\n",
       "</g>\n",
       "<!-- 0&#45;&gt;1 -->\n",
       "<g class=\"edge\" id=\"edge1\"><title>0-&gt;1</title>\n",
       "<path d=\"M322.02,-460.907C316.603,-452.105 310.817,-442.703 305.223,-433.612\" fill=\"none\" stroke=\"black\"/>\n",
       "<polygon fill=\"black\" points=\"308.158,-431.703 299.936,-425.021 302.196,-435.372 308.158,-431.703\" stroke=\"black\"/>\n",
       "<text font-family=\"Times,serif\" font-size=\"14.00\" text-anchor=\"middle\" x=\"294.145\" y=\"-445.641\">True</text>\n",
       "</g>\n",
       "<!-- 12 -->\n",
       "<g class=\"node\" id=\"node13\"><title>12</title>\n",
       "<polygon fill=\"#399de5\" points=\"465,-417.5 373,-417.5 373,-349.5 465,-349.5 465,-417.5\" stroke=\"black\"/>\n",
       "<text font-family=\"Times,serif\" font-size=\"14.00\" text-anchor=\"middle\" x=\"419\" y=\"-402.3\">entropy = 0.0</text>\n",
       "<text font-family=\"Times,serif\" font-size=\"14.00\" text-anchor=\"middle\" x=\"419\" y=\"-387.3\">samples = 4</text>\n",
       "<text font-family=\"Times,serif\" font-size=\"14.00\" text-anchor=\"middle\" x=\"419\" y=\"-372.3\">value = [0, 4]</text>\n",
       "<text font-family=\"Times,serif\" font-size=\"14.00\" text-anchor=\"middle\" x=\"419\" y=\"-357.3\">class = yes</text>\n",
       "</g>\n",
       "<!-- 0&#45;&gt;12 -->\n",
       "<g class=\"edge\" id=\"edge12\"><title>0-&gt;12</title>\n",
       "<path d=\"M371.98,-460.907C378.838,-449.763 386.287,-437.658 393.191,-426.439\" fill=\"none\" stroke=\"black\"/>\n",
       "<polygon fill=\"black\" points=\"396.329,-428.018 398.59,-417.667 390.368,-424.349 396.329,-428.018\" stroke=\"black\"/>\n",
       "<text font-family=\"Times,serif\" font-size=\"14.00\" text-anchor=\"middle\" x=\"404.38\" y=\"-438.287\">False</text>\n",
       "</g>\n",
       "<!-- 2 -->\n",
       "<g class=\"node\" id=\"node3\"><title>2</title>\n",
       "<polygon fill=\"#e58139\" fill-opacity=\"0.749020\" points=\"269.5,-306 126.5,-306 126.5,-223 269.5,-223 269.5,-306\" stroke=\"black\"/>\n",
       "<text font-family=\"Times,serif\" font-size=\"14.00\" text-anchor=\"middle\" x=\"198\" y=\"-290.8\">Outlook_Sunny &lt;= 0.5</text>\n",
       "<text font-family=\"Times,serif\" font-size=\"14.00\" text-anchor=\"middle\" x=\"198\" y=\"-275.8\">entropy = 0.722</text>\n",
       "<text font-family=\"Times,serif\" font-size=\"14.00\" text-anchor=\"middle\" x=\"198\" y=\"-260.8\">samples = 5</text>\n",
       "<text font-family=\"Times,serif\" font-size=\"14.00\" text-anchor=\"middle\" x=\"198\" y=\"-245.8\">value = [4, 1]</text>\n",
       "<text font-family=\"Times,serif\" font-size=\"14.00\" text-anchor=\"middle\" x=\"198\" y=\"-230.8\">class = no</text>\n",
       "</g>\n",
       "<!-- 1&#45;&gt;2 -->\n",
       "<g class=\"edge\" id=\"edge2\"><title>1-&gt;2</title>\n",
       "<path d=\"M248.285,-341.907C242.492,-333.105 236.305,-323.703 230.322,-314.612\" fill=\"none\" stroke=\"black\"/>\n",
       "<polygon fill=\"black\" points=\"233.089,-312.45 224.668,-306.021 227.241,-316.298 233.089,-312.45\" stroke=\"black\"/>\n",
       "</g>\n",
       "<!-- 7 -->\n",
       "<g class=\"node\" id=\"node8\"><title>7</title>\n",
       "<polygon fill=\"#399de5\" fill-opacity=\"0.749020\" points=\"416,-306 288,-306 288,-223 416,-223 416,-306\" stroke=\"black\"/>\n",
       "<text font-family=\"Times,serif\" font-size=\"14.00\" text-anchor=\"middle\" x=\"352\" y=\"-290.8\">Wind_Weak &lt;= 0.5</text>\n",
       "<text font-family=\"Times,serif\" font-size=\"14.00\" text-anchor=\"middle\" x=\"352\" y=\"-275.8\">entropy = 0.722</text>\n",
       "<text font-family=\"Times,serif\" font-size=\"14.00\" text-anchor=\"middle\" x=\"352\" y=\"-260.8\">samples = 5</text>\n",
       "<text font-family=\"Times,serif\" font-size=\"14.00\" text-anchor=\"middle\" x=\"352\" y=\"-245.8\">value = [1, 4]</text>\n",
       "<text font-family=\"Times,serif\" font-size=\"14.00\" text-anchor=\"middle\" x=\"352\" y=\"-230.8\">class = yes</text>\n",
       "</g>\n",
       "<!-- 1&#45;&gt;7 -->\n",
       "<g class=\"edge\" id=\"edge7\"><title>1-&gt;7</title>\n",
       "<path d=\"M301.715,-341.907C307.508,-333.105 313.695,-323.703 319.678,-314.612\" fill=\"none\" stroke=\"black\"/>\n",
       "<polygon fill=\"black\" points=\"322.759,-316.298 325.332,-306.021 316.911,-312.45 322.759,-316.298\" stroke=\"black\"/>\n",
       "</g>\n",
       "<!-- 3 -->\n",
       "<g class=\"node\" id=\"node4\"><title>3</title>\n",
       "<polygon fill=\"none\" points=\"138.5,-187 7.5,-187 7.5,-104 138.5,-104 138.5,-187\" stroke=\"black\"/>\n",
       "<text font-family=\"Times,serif\" font-size=\"14.00\" text-anchor=\"middle\" x=\"73\" y=\"-171.8\">Wind_Strong &lt;= 0.5</text>\n",
       "<text font-family=\"Times,serif\" font-size=\"14.00\" text-anchor=\"middle\" x=\"73\" y=\"-156.8\">entropy = 1.0</text>\n",
       "<text font-family=\"Times,serif\" font-size=\"14.00\" text-anchor=\"middle\" x=\"73\" y=\"-141.8\">samples = 2</text>\n",
       "<text font-family=\"Times,serif\" font-size=\"14.00\" text-anchor=\"middle\" x=\"73\" y=\"-126.8\">value = [1, 1]</text>\n",
       "<text font-family=\"Times,serif\" font-size=\"14.00\" text-anchor=\"middle\" x=\"73\" y=\"-111.8\">class = no</text>\n",
       "</g>\n",
       "<!-- 2&#45;&gt;3 -->\n",
       "<g class=\"edge\" id=\"edge3\"><title>2-&gt;3</title>\n",
       "<path d=\"M154.632,-222.907C144.645,-213.56 133.938,-203.538 123.672,-193.929\" fill=\"none\" stroke=\"black\"/>\n",
       "<polygon fill=\"black\" points=\"125.984,-191.299 116.291,-187.021 121.201,-196.41 125.984,-191.299\" stroke=\"black\"/>\n",
       "</g>\n",
       "<!-- 6 -->\n",
       "<g class=\"node\" id=\"node7\"><title>6</title>\n",
       "<polygon fill=\"#e58139\" points=\"249,-179.5 157,-179.5 157,-111.5 249,-111.5 249,-179.5\" stroke=\"black\"/>\n",
       "<text font-family=\"Times,serif\" font-size=\"14.00\" text-anchor=\"middle\" x=\"203\" y=\"-164.3\">entropy = 0.0</text>\n",
       "<text font-family=\"Times,serif\" font-size=\"14.00\" text-anchor=\"middle\" x=\"203\" y=\"-149.3\">samples = 3</text>\n",
       "<text font-family=\"Times,serif\" font-size=\"14.00\" text-anchor=\"middle\" x=\"203\" y=\"-134.3\">value = [3, 0]</text>\n",
       "<text font-family=\"Times,serif\" font-size=\"14.00\" text-anchor=\"middle\" x=\"203\" y=\"-119.3\">class = no</text>\n",
       "</g>\n",
       "<!-- 2&#45;&gt;6 -->\n",
       "<g class=\"edge\" id=\"edge6\"><title>2-&gt;6</title>\n",
       "<path d=\"M199.735,-222.907C200.192,-212.204 200.687,-200.615 201.151,-189.776\" fill=\"none\" stroke=\"black\"/>\n",
       "<polygon fill=\"black\" points=\"204.652,-189.807 201.583,-179.667 197.659,-189.508 204.652,-189.807\" stroke=\"black\"/>\n",
       "</g>\n",
       "<!-- 4 -->\n",
       "<g class=\"node\" id=\"node5\"><title>4</title>\n",
       "<polygon fill=\"#399de5\" points=\"92,-68 0,-68 0,-0 92,-0 92,-68\" stroke=\"black\"/>\n",
       "<text font-family=\"Times,serif\" font-size=\"14.00\" text-anchor=\"middle\" x=\"46\" y=\"-52.8\">entropy = 0.0</text>\n",
       "<text font-family=\"Times,serif\" font-size=\"14.00\" text-anchor=\"middle\" x=\"46\" y=\"-37.8\">samples = 1</text>\n",
       "<text font-family=\"Times,serif\" font-size=\"14.00\" text-anchor=\"middle\" x=\"46\" y=\"-22.8\">value = [0, 1]</text>\n",
       "<text font-family=\"Times,serif\" font-size=\"14.00\" text-anchor=\"middle\" x=\"46\" y=\"-7.8\">class = yes</text>\n",
       "</g>\n",
       "<!-- 3&#45;&gt;4 -->\n",
       "<g class=\"edge\" id=\"edge4\"><title>3-&gt;4</title>\n",
       "<path d=\"M62.9462,-103.726C60.8996,-95.4263 58.7398,-86.6671 56.6726,-78.2834\" fill=\"none\" stroke=\"black\"/>\n",
       "<polygon fill=\"black\" points=\"60.0032,-77.1709 54.2109,-68.2996 53.2068,-78.8467 60.0032,-77.1709\" stroke=\"black\"/>\n",
       "</g>\n",
       "<!-- 5 -->\n",
       "<g class=\"node\" id=\"node6\"><title>5</title>\n",
       "<polygon fill=\"#e58139\" points=\"202,-68 110,-68 110,-0 202,-0 202,-68\" stroke=\"black\"/>\n",
       "<text font-family=\"Times,serif\" font-size=\"14.00\" text-anchor=\"middle\" x=\"156\" y=\"-52.8\">entropy = 0.0</text>\n",
       "<text font-family=\"Times,serif\" font-size=\"14.00\" text-anchor=\"middle\" x=\"156\" y=\"-37.8\">samples = 1</text>\n",
       "<text font-family=\"Times,serif\" font-size=\"14.00\" text-anchor=\"middle\" x=\"156\" y=\"-22.8\">value = [1, 0]</text>\n",
       "<text font-family=\"Times,serif\" font-size=\"14.00\" text-anchor=\"middle\" x=\"156\" y=\"-7.8\">class = no</text>\n",
       "</g>\n",
       "<!-- 3&#45;&gt;5 -->\n",
       "<g class=\"edge\" id=\"edge5\"><title>3-&gt;5</title>\n",
       "<path d=\"M103.906,-103.726C110.681,-94.7878 117.86,-85.3168 124.653,-76.3558\" fill=\"none\" stroke=\"black\"/>\n",
       "<polygon fill=\"black\" points=\"127.508,-78.3832 130.759,-68.2996 121.929,-74.1547 127.508,-78.3832\" stroke=\"black\"/>\n",
       "</g>\n",
       "<!-- 8 -->\n",
       "<g class=\"node\" id=\"node9\"><title>8</title>\n",
       "<polygon fill=\"none\" points=\"419.5,-187 276.5,-187 276.5,-104 419.5,-104 419.5,-187\" stroke=\"black\"/>\n",
       "<text font-family=\"Times,serif\" font-size=\"14.00\" text-anchor=\"middle\" x=\"348\" y=\"-171.8\">Outlook_Sunny &lt;= 0.5</text>\n",
       "<text font-family=\"Times,serif\" font-size=\"14.00\" text-anchor=\"middle\" x=\"348\" y=\"-156.8\">entropy = 1.0</text>\n",
       "<text font-family=\"Times,serif\" font-size=\"14.00\" text-anchor=\"middle\" x=\"348\" y=\"-141.8\">samples = 2</text>\n",
       "<text font-family=\"Times,serif\" font-size=\"14.00\" text-anchor=\"middle\" x=\"348\" y=\"-126.8\">value = [1, 1]</text>\n",
       "<text font-family=\"Times,serif\" font-size=\"14.00\" text-anchor=\"middle\" x=\"348\" y=\"-111.8\">class = no</text>\n",
       "</g>\n",
       "<!-- 7&#45;&gt;8 -->\n",
       "<g class=\"edge\" id=\"edge8\"><title>7-&gt;8</title>\n",
       "<path d=\"M350.612,-222.907C350.327,-214.558 350.023,-205.671 349.727,-197.02\" fill=\"none\" stroke=\"black\"/>\n",
       "<polygon fill=\"black\" points=\"353.225,-196.895 349.385,-187.021 346.229,-197.135 353.225,-196.895\" stroke=\"black\"/>\n",
       "</g>\n",
       "<!-- 11 -->\n",
       "<g class=\"node\" id=\"node12\"><title>11</title>\n",
       "<polygon fill=\"#399de5\" points=\"530,-179.5 438,-179.5 438,-111.5 530,-111.5 530,-179.5\" stroke=\"black\"/>\n",
       "<text font-family=\"Times,serif\" font-size=\"14.00\" text-anchor=\"middle\" x=\"484\" y=\"-164.3\">entropy = 0.0</text>\n",
       "<text font-family=\"Times,serif\" font-size=\"14.00\" text-anchor=\"middle\" x=\"484\" y=\"-149.3\">samples = 3</text>\n",
       "<text font-family=\"Times,serif\" font-size=\"14.00\" text-anchor=\"middle\" x=\"484\" y=\"-134.3\">value = [0, 3]</text>\n",
       "<text font-family=\"Times,serif\" font-size=\"14.00\" text-anchor=\"middle\" x=\"484\" y=\"-119.3\">class = yes</text>\n",
       "</g>\n",
       "<!-- 7&#45;&gt;11 -->\n",
       "<g class=\"edge\" id=\"edge11\"><title>7-&gt;11</title>\n",
       "<path d=\"M397.797,-222.907C411.117,-211.101 425.653,-198.217 438.929,-186.45\" fill=\"none\" stroke=\"black\"/>\n",
       "<polygon fill=\"black\" points=\"441.419,-188.919 446.581,-179.667 436.776,-183.681 441.419,-188.919\" stroke=\"black\"/>\n",
       "</g>\n",
       "<!-- 9 -->\n",
       "<g class=\"node\" id=\"node10\"><title>9</title>\n",
       "<polygon fill=\"#e58139\" points=\"353,-68 261,-68 261,-0 353,-0 353,-68\" stroke=\"black\"/>\n",
       "<text font-family=\"Times,serif\" font-size=\"14.00\" text-anchor=\"middle\" x=\"307\" y=\"-52.8\">entropy = 0.0</text>\n",
       "<text font-family=\"Times,serif\" font-size=\"14.00\" text-anchor=\"middle\" x=\"307\" y=\"-37.8\">samples = 1</text>\n",
       "<text font-family=\"Times,serif\" font-size=\"14.00\" text-anchor=\"middle\" x=\"307\" y=\"-22.8\">value = [1, 0]</text>\n",
       "<text font-family=\"Times,serif\" font-size=\"14.00\" text-anchor=\"middle\" x=\"307\" y=\"-7.8\">class = no</text>\n",
       "</g>\n",
       "<!-- 8&#45;&gt;9 -->\n",
       "<g class=\"edge\" id=\"edge9\"><title>8-&gt;9</title>\n",
       "<path d=\"M332.733,-103.726C329.557,-95.2439 326.201,-86.2819 323,-77.7312\" fill=\"none\" stroke=\"black\"/>\n",
       "<polygon fill=\"black\" points=\"326.253,-76.4373 319.468,-68.2996 319.697,-78.892 326.253,-76.4373\" stroke=\"black\"/>\n",
       "</g>\n",
       "<!-- 10 -->\n",
       "<g class=\"node\" id=\"node11\"><title>10</title>\n",
       "<polygon fill=\"#399de5\" points=\"463,-68 371,-68 371,-0 463,-0 463,-68\" stroke=\"black\"/>\n",
       "<text font-family=\"Times,serif\" font-size=\"14.00\" text-anchor=\"middle\" x=\"417\" y=\"-52.8\">entropy = 0.0</text>\n",
       "<text font-family=\"Times,serif\" font-size=\"14.00\" text-anchor=\"middle\" x=\"417\" y=\"-37.8\">samples = 1</text>\n",
       "<text font-family=\"Times,serif\" font-size=\"14.00\" text-anchor=\"middle\" x=\"417\" y=\"-22.8\">value = [0, 1]</text>\n",
       "<text font-family=\"Times,serif\" font-size=\"14.00\" text-anchor=\"middle\" x=\"417\" y=\"-7.8\">class = yes</text>\n",
       "</g>\n",
       "<!-- 8&#45;&gt;10 -->\n",
       "<g class=\"edge\" id=\"edge10\"><title>8-&gt;10</title>\n",
       "<path d=\"M373.693,-103.726C379.211,-94.9703 385.05,-85.7032 390.594,-76.9051\" fill=\"none\" stroke=\"black\"/>\n",
       "<polygon fill=\"black\" points=\"393.647,-78.6259 396.017,-68.2996 387.724,-74.8941 393.647,-78.6259\" stroke=\"black\"/>\n",
       "</g>\n",
       "</g>\n",
       "</svg>"
      ],
      "text/plain": [
       "<IPython.core.display.SVG object>"
      ]
     },
     "metadata": {},
     "output_type": "display_data"
    },
    {
     "data": {
      "text/html": [
       "<style>svg{width:70% !important;height:70% !important;}</style>"
      ],
      "text/plain": [
       "<IPython.core.display.HTML object>"
      ]
     },
     "execution_count": 9,
     "metadata": {},
     "output_type": "execute_result"
    }
   ],
   "source": [
    "from sklearn.tree import export_graphviz\n",
    "from graphviz import Source\n",
    "from IPython.display import SVG\n",
    "\n",
    "graph = Source(export_graphviz(cls, \n",
    "                               out_file=None,\n",
    "                               feature_names=encoded.columns,\n",
    "                               class_names=['no', 'yes'],\n",
    "                               filled = True))\n",
    "\n",
    "display(SVG(graph.pipe(format='svg')))\n",
    "\n",
    "from IPython.display import HTML # toto je tu len pre to aby sa mi obrazok zmestil na obrazovku\n",
    "style = \"<style>svg{width:70% !important;height:70% !important;}</style>\"\n",
    "HTML(style)"
   ]
  },
  {
   "cell_type": "markdown",
   "metadata": {
    "slideshow": {
     "slide_type": "slide"
    }
   },
   "source": [
    "# Stromcek nevyzera uplne rovnako ako ten, ktory sme ukazovali na zaciatku. je to sposobene one-hot kodovanim. Vieme robit len binarne rozhodnutia."
   ]
  },
  {
   "cell_type": "markdown",
   "metadata": {
    "slideshow": {
     "slide_type": "slide"
    }
   },
   "source": [
    "# Ukazka - Pretrenovanie"
   ]
  },
  {
   "cell_type": "code",
   "execution_count": 10,
   "metadata": {
    "slideshow": {
     "slide_type": "slide"
    }
   },
   "outputs": [],
   "source": [
    "from sklearn.datasets import load_breast_cancer\n",
    "\n",
    "data = load_breast_cancer()\n",
    "\n",
    "label_names = data['target_names']\n",
    "labels = data['target']\n",
    "feature_names = data['feature_names']\n",
    "features = data['data']"
   ]
  },
  {
   "cell_type": "code",
   "execution_count": 11,
   "metadata": {
    "slideshow": {
     "slide_type": "slide"
    }
   },
   "outputs": [
    {
     "name": "stdout",
     "output_type": "stream",
     "text": [
      "# train data:  455\n",
      "# test data:  114\n"
     ]
    }
   ],
   "source": [
    "from sklearn.metrics import accuracy_score\n",
    "from sklearn.model_selection import train_test_split\n",
    "\n",
    "# Rozdelíme údaje\n",
    "X_train, X_test, y_train, y_test = train_test_split(features, labels, test_size=0.2, random_state=4)\n",
    "\n",
    "print('# train data: ', len(X_train))\n",
    "print('# test data: ', len(X_test))"
   ]
  },
  {
   "cell_type": "markdown",
   "metadata": {
    "slideshow": {
     "slide_type": "slide"
    }
   },
   "source": [
    "## Natrenujem si viacero stromov, kde kazdemu obmedzim jeho maximalnu hlbku aby som vytvoril stromy s roznou zlozitostou"
   ]
  },
  {
   "cell_type": "code",
   "execution_count": 12,
   "metadata": {
    "slideshow": {
     "slide_type": "-"
    }
   },
   "outputs": [],
   "source": [
    "results = []\n",
    "estimators = []\n",
    "for i in range(1, X_train.shape[1] + 1):  \n",
    "    row = {'model_complexity': i}\n",
    "    # Vytvoríme rozhodovací strom\n",
    "    clf = DecisionTreeClassifier(max_depth = i) # strom s maximalnou hlbkou 1-pocet atributov,  simulujeme tak zlozitost modelu\n",
    "    \n",
    "    pred = clf.fit(X_train, y_train).predict(X_train) # natrenovanie modelu a predikovanie na trenovacej sade\n",
    "    row['train'] = 1-accuracy_score(y_train, pred) # chyba na trenovacej sade\n",
    "    \n",
    "    pred = clf.predict(X_test)\n",
    "    row['test'] = 1-accuracy_score(y_test, pred) # chyba na testovacej sade\n",
    "    results.append(row)\n",
    "    estimators.append(clf)"
   ]
  },
  {
   "cell_type": "code",
   "execution_count": 13,
   "metadata": {
    "slideshow": {
     "slide_type": "slide"
    }
   },
   "outputs": [
    {
     "data": {
      "text/html": [
       "<div>\n",
       "<style scoped>\n",
       "    .dataframe tbody tr th:only-of-type {\n",
       "        vertical-align: middle;\n",
       "    }\n",
       "\n",
       "    .dataframe tbody tr th {\n",
       "        vertical-align: top;\n",
       "    }\n",
       "\n",
       "    .dataframe thead th {\n",
       "        text-align: right;\n",
       "    }\n",
       "</style>\n",
       "<table border=\"1\" class=\"dataframe\">\n",
       "  <thead>\n",
       "    <tr style=\"text-align: right;\">\n",
       "      <th></th>\n",
       "      <th>model_complexity</th>\n",
       "      <th>test</th>\n",
       "      <th>train</th>\n",
       "    </tr>\n",
       "  </thead>\n",
       "  <tbody>\n",
       "    <tr>\n",
       "      <th>0</th>\n",
       "      <td>1</td>\n",
       "      <td>0.140351</td>\n",
       "      <td>0.065934</td>\n",
       "    </tr>\n",
       "    <tr>\n",
       "      <th>1</th>\n",
       "      <td>2</td>\n",
       "      <td>0.131579</td>\n",
       "      <td>0.052747</td>\n",
       "    </tr>\n",
       "    <tr>\n",
       "      <th>2</th>\n",
       "      <td>3</td>\n",
       "      <td>0.114035</td>\n",
       "      <td>0.021978</td>\n",
       "    </tr>\n",
       "    <tr>\n",
       "      <th>3</th>\n",
       "      <td>4</td>\n",
       "      <td>0.114035</td>\n",
       "      <td>0.017582</td>\n",
       "    </tr>\n",
       "    <tr>\n",
       "      <th>4</th>\n",
       "      <td>5</td>\n",
       "      <td>0.078947</td>\n",
       "      <td>0.008791</td>\n",
       "    </tr>\n",
       "  </tbody>\n",
       "</table>\n",
       "</div>"
      ],
      "text/plain": [
       "   model_complexity      test     train\n",
       "0                 1  0.140351  0.065934\n",
       "1                 2  0.131579  0.052747\n",
       "2                 3  0.114035  0.021978\n",
       "3                 4  0.114035  0.017582\n",
       "4                 5  0.078947  0.008791"
      ]
     },
     "execution_count": 13,
     "metadata": {},
     "output_type": "execute_result"
    }
   ],
   "source": [
    "complexity_df = pd.DataFrame(results)\n",
    "complexity_df.head()"
   ]
  },
  {
   "cell_type": "code",
   "execution_count": 14,
   "metadata": {
    "slideshow": {
     "slide_type": "slide"
    }
   },
   "outputs": [
    {
     "data": {
      "text/plain": [
       "<matplotlib.axes._subplots.AxesSubplot at 0x7f20ac9dd278>"
      ]
     },
     "execution_count": 14,
     "metadata": {},
     "output_type": "execute_result"
    },
    {
     "data": {
      "image/png": "[encoded data removed]",
      "text/plain": [
       "<Figure size 648x432 with 1 Axes>"
      ]
     },
     "metadata": {
      "needs_background": "light"
     },
     "output_type": "display_data"
    }
   ],
   "source": [
    "complexity_df.plot(x='model_complexity')"
   ]
  },
  {
   "cell_type": "markdown",
   "metadata": {
    "slideshow": {
     "slide_type": "fragment"
    }
   },
   "source": [
    "S rastucou zlozitostou modelu sa mi nijak nezmensuje chyba na trenovacej vzorke. Na testovacej tiez nie. Vacsinou sa dokonca zvacsuje. Toto je indikator toho, ze sme ten model preucili. Naucil sa data a nie vztahy za nimi. Ak skusame predikciu na inych datach, tak narazime na velku chybu sposobenu varianciou"
   ]
  },
  {
   "cell_type": "markdown",
   "metadata": {
    "slideshow": {
     "slide_type": "slide"
    }
   },
   "source": [
    "# Mozeme si skusit vizualizovat rozne natrenovane modely"
   ]
  },
  {
   "cell_type": "code",
   "execution_count": 15,
   "metadata": {
    "slideshow": {
     "slide_type": "slide"
    }
   },
   "outputs": [
    {
     "data": {
      "image/svg+xml": [
       "<svg height=\"195pt\" viewBox=\"0.00 0.00 251.50 195.00\" width=\"252pt\" xmlns=\"http://www.w3.org/2000/svg\" xmlns:xlink=\"http://www.w3.org/1999/xlink\">\n",
       "<g class=\"graph\" id=\"graph0\" transform=\"scale(1 1) rotate(0) translate(4 191)\">\n",
       "<title>Tree</title>\n",
       "<polygon fill=\"white\" points=\"-4,4 -4,-191 247.5,-191 247.5,4 -4,4\" stroke=\"none\"/>\n",
       "<!-- 0 -->\n",
       "<g class=\"node\" id=\"node1\"><title>0</title>\n",
       "<polygon fill=\"#399de5\" fill-opacity=\"0.356863\" points=\"203,-187 39,-187 39,-104 203,-104 203,-187\" stroke=\"black\"/>\n",
       "<text font-family=\"Times,serif\" font-size=\"14.00\" text-anchor=\"middle\" x=\"121\" y=\"-171.8\">worst perimeter &lt;= 105.95</text>\n",
       "<text font-family=\"Times,serif\" font-size=\"14.00\" text-anchor=\"middle\" x=\"121\" y=\"-156.8\">gini = 0.476</text>\n",
       "<text font-family=\"Times,serif\" font-size=\"14.00\" text-anchor=\"middle\" x=\"121\" y=\"-141.8\">samples = 455</text>\n",
       "<text font-family=\"Times,serif\" font-size=\"14.00\" text-anchor=\"middle\" x=\"121\" y=\"-126.8\">value = [178, 277]</text>\n",
       "<text font-family=\"Times,serif\" font-size=\"14.00\" text-anchor=\"middle\" x=\"121\" y=\"-111.8\">class = benign</text>\n",
       "</g>\n",
       "<!-- 1 -->\n",
       "<g class=\"node\" id=\"node2\"><title>1</title>\n",
       "<polygon fill=\"#399de5\" fill-opacity=\"0.945098\" points=\"112,-68 0,-68 0,-0 112,-0 112,-68\" stroke=\"black\"/>\n",
       "<text font-family=\"Times,serif\" font-size=\"14.00\" text-anchor=\"middle\" x=\"56\" y=\"-52.8\">gini = 0.097</text>\n",
       "<text font-family=\"Times,serif\" font-size=\"14.00\" text-anchor=\"middle\" x=\"56\" y=\"-37.8\">samples = 275</text>\n",
       "<text font-family=\"Times,serif\" font-size=\"14.00\" text-anchor=\"middle\" x=\"56\" y=\"-22.8\">value = [14, 261]</text>\n",
       "<text font-family=\"Times,serif\" font-size=\"14.00\" text-anchor=\"middle\" x=\"56\" y=\"-7.8\">class = benign</text>\n",
       "</g>\n",
       "<!-- 0&#45;&gt;1 -->\n",
       "<g class=\"edge\" id=\"edge1\"><title>0-&gt;1</title>\n",
       "<path d=\"M96.7964,-103.726C91.5988,-94.9703 86.0978,-85.7032 80.8752,-76.9051\" fill=\"none\" stroke=\"black\"/>\n",
       "<polygon fill=\"black\" points=\"83.8811,-75.1121 75.7669,-68.2996 77.8617,-78.6853 83.8811,-75.1121\" stroke=\"black\"/>\n",
       "<text font-family=\"Times,serif\" font-size=\"14.00\" text-anchor=\"middle\" x=\"69.5892\" y=\"-88.8243\">True</text>\n",
       "</g>\n",
       "<!-- 2 -->\n",
       "<g class=\"node\" id=\"node3\"><title>2</title>\n",
       "<polygon fill=\"#e58139\" fill-opacity=\"0.901961\" points=\"243.5,-68 130.5,-68 130.5,-0 243.5,-0 243.5,-68\" stroke=\"black\"/>\n",
       "<text font-family=\"Times,serif\" font-size=\"14.00\" text-anchor=\"middle\" x=\"187\" y=\"-52.8\">gini = 0.162</text>\n",
       "<text font-family=\"Times,serif\" font-size=\"14.00\" text-anchor=\"middle\" x=\"187\" y=\"-37.8\">samples = 180</text>\n",
       "<text font-family=\"Times,serif\" font-size=\"14.00\" text-anchor=\"middle\" x=\"187\" y=\"-22.8\">value = [164, 16]</text>\n",
       "<text font-family=\"Times,serif\" font-size=\"14.00\" text-anchor=\"middle\" x=\"187\" y=\"-7.8\">class = malignant</text>\n",
       "</g>\n",
       "<!-- 0&#45;&gt;2 -->\n",
       "<g class=\"edge\" id=\"edge2\"><title>0-&gt;2</title>\n",
       "<path d=\"M145.576,-103.726C150.854,-94.9703 156.439,-85.7032 161.742,-76.9051\" fill=\"none\" stroke=\"black\"/>\n",
       "<polygon fill=\"black\" points=\"164.764,-78.671 166.929,-68.2996 158.769,-75.0574 164.764,-78.671\" stroke=\"black\"/>\n",
       "<text font-family=\"Times,serif\" font-size=\"14.00\" text-anchor=\"middle\" x=\"172.944\" y=\"-88.8653\">False</text>\n",
       "</g>\n",
       "</g>\n",
       "</svg>"
      ],
      "text/plain": [
       "<IPython.core.display.SVG object>"
      ]
     },
     "metadata": {},
     "output_type": "display_data"
    },
    {
     "data": {
      "text/html": [
       "<style>svg{width:100% !important;height:100% !important;}</style>"
      ],
      "text/plain": [
       "<IPython.core.display.HTML object>"
      ]
     },
     "execution_count": 15,
     "metadata": {},
     "output_type": "execute_result"
    }
   ],
   "source": [
    "graph = Source(export_graphviz(estimators[0], # len jeden atribut pouzity na rozhodnutie\n",
    "                               out_file=None,\n",
    "                               feature_names=feature_names,\n",
    "                               class_names=label_names,\n",
    "                               filled = True))\n",
    "\n",
    "display(SVG(graph.pipe(format='svg')))\n",
    "\n",
    "from IPython.display import HTML # toto je tu len pre to aby sa mi obrazok zmestil na obrazovku\n",
    "style = \"<style>svg{width:100% !important;height:100% !important;}</style>\"\n",
    "HTML(style)"
   ]
  },
  {
   "cell_type": "code",
   "execution_count": 16,
   "metadata": {
    "slideshow": {
     "slide_type": "slide"
    }
   },
   "outputs": [
    {
     "data": {
      "image/svg+xml": [
       "<svg height=\"671pt\" viewBox=\"0.00 0.00 1226.00 671.00\" width=\"1226pt\" xmlns=\"http://www.w3.org/2000/svg\" xmlns:xlink=\"http://www.w3.org/1999/xlink\">\n",
       "<g class=\"graph\" id=\"graph0\" transform=\"scale(1 1) rotate(0) translate(4 667)\">\n",
       "<title>Tree</title>\n",
       "<polygon fill=\"white\" points=\"-4,4 -4,-667 1222,-667 1222,4 -4,4\" stroke=\"none\"/>\n",
       "<!-- 0 -->\n",
       "<g class=\"node\" id=\"node1\"><title>0</title>\n",
       "<polygon fill=\"#399de5\" fill-opacity=\"0.356863\" points=\"638.5,-663 474.5,-663 474.5,-580 638.5,-580 638.5,-663\" stroke=\"black\"/>\n",
       "<text font-family=\"Times,serif\" font-size=\"14.00\" text-anchor=\"middle\" x=\"556.5\" y=\"-647.8\">worst perimeter &lt;= 105.95</text>\n",
       "<text font-family=\"Times,serif\" font-size=\"14.00\" text-anchor=\"middle\" x=\"556.5\" y=\"-632.8\">gini = 0.476</text>\n",
       "<text font-family=\"Times,serif\" font-size=\"14.00\" text-anchor=\"middle\" x=\"556.5\" y=\"-617.8\">samples = 455</text>\n",
       "<text font-family=\"Times,serif\" font-size=\"14.00\" text-anchor=\"middle\" x=\"556.5\" y=\"-602.8\">value = [178, 277]</text>\n",
       "<text font-family=\"Times,serif\" font-size=\"14.00\" text-anchor=\"middle\" x=\"556.5\" y=\"-587.8\">class = benign</text>\n",
       "</g>\n",
       "<!-- 1 -->\n",
       "<g class=\"node\" id=\"node2\"><title>1</title>\n",
       "<polygon fill=\"#399de5\" fill-opacity=\"0.945098\" points=\"543.5,-544 357.5,-544 357.5,-461 543.5,-461 543.5,-544\" stroke=\"black\"/>\n",
       "<text font-family=\"Times,serif\" font-size=\"14.00\" text-anchor=\"middle\" x=\"450.5\" y=\"-528.8\">worst concave points &lt;= 0.159</text>\n",
       "<text font-family=\"Times,serif\" font-size=\"14.00\" text-anchor=\"middle\" x=\"450.5\" y=\"-513.8\">gini = 0.097</text>\n",
       "<text font-family=\"Times,serif\" font-size=\"14.00\" text-anchor=\"middle\" x=\"450.5\" y=\"-498.8\">samples = 275</text>\n",
       "<text font-family=\"Times,serif\" font-size=\"14.00\" text-anchor=\"middle\" x=\"450.5\" y=\"-483.8\">value = [14, 261]</text>\n",
       "<text font-family=\"Times,serif\" font-size=\"14.00\" text-anchor=\"middle\" x=\"450.5\" y=\"-468.8\">class = benign</text>\n",
       "</g>\n",
       "<!-- 0&#45;&gt;1 -->\n",
       "<g class=\"edge\" id=\"edge1\"><title>0-&gt;1</title>\n",
       "<path d=\"M519.724,-579.907C511.42,-570.742 502.528,-560.927 493.977,-551.489\" fill=\"none\" stroke=\"black\"/>\n",
       "<polygon fill=\"black\" points=\"496.519,-549.082 487.211,-544.021 491.331,-553.782 496.519,-549.082\" stroke=\"black\"/>\n",
       "<text font-family=\"Times,serif\" font-size=\"14.00\" text-anchor=\"middle\" x=\"485.979\" y=\"-565.29\">True</text>\n",
       "</g>\n",
       "<!-- 14 -->\n",
       "<g class=\"node\" id=\"node15\"><title>14</title>\n",
       "<polygon fill=\"#e58139\" fill-opacity=\"0.901961\" points=\"727.5,-544 599.5,-544 599.5,-461 727.5,-461 727.5,-544\" stroke=\"black\"/>\n",
       "<text font-family=\"Times,serif\" font-size=\"14.00\" text-anchor=\"middle\" x=\"663.5\" y=\"-528.8\">worst area &lt;= 868.2</text>\n",
       "<text font-family=\"Times,serif\" font-size=\"14.00\" text-anchor=\"middle\" x=\"663.5\" y=\"-513.8\">gini = 0.162</text>\n",
       "<text font-family=\"Times,serif\" font-size=\"14.00\" text-anchor=\"middle\" x=\"663.5\" y=\"-498.8\">samples = 180</text>\n",
       "<text font-family=\"Times,serif\" font-size=\"14.00\" text-anchor=\"middle\" x=\"663.5\" y=\"-483.8\">value = [164, 16]</text>\n",
       "<text font-family=\"Times,serif\" font-size=\"14.00\" text-anchor=\"middle\" x=\"663.5\" y=\"-468.8\">class = malignant</text>\n",
       "</g>\n",
       "<!-- 0&#45;&gt;14 -->\n",
       "<g class=\"edge\" id=\"edge14\"><title>0-&gt;14</title>\n",
       "<path d=\"M593.623,-579.907C602.006,-570.742 610.982,-560.927 619.613,-551.489\" fill=\"none\" stroke=\"black\"/>\n",
       "<polygon fill=\"black\" points=\"622.277,-553.762 626.443,-544.021 617.111,-549.038 622.277,-553.762\" stroke=\"black\"/>\n",
       "<text font-family=\"Times,serif\" font-size=\"14.00\" text-anchor=\"middle\" x=\"627.557\" y=\"-565.296\">False</text>\n",
       "</g>\n",
       "<!-- 2 -->\n",
       "<g class=\"node\" id=\"node3\"><title>2</title>\n",
       "<polygon fill=\"#399de5\" fill-opacity=\"0.972549\" points=\"323,-425 162,-425 162,-342 323,-342 323,-425\" stroke=\"black\"/>\n",
       "<text font-family=\"Times,serif\" font-size=\"14.00\" text-anchor=\"middle\" x=\"242.5\" y=\"-409.8\">worst symmetry &lt;= 0.157</text>\n",
       "<text font-family=\"Times,serif\" font-size=\"14.00\" text-anchor=\"middle\" x=\"242.5\" y=\"-394.8\">gini = 0.051</text>\n",
       "<text font-family=\"Times,serif\" font-size=\"14.00\" text-anchor=\"middle\" x=\"242.5\" y=\"-379.8\">samples = 267</text>\n",
       "<text font-family=\"Times,serif\" font-size=\"14.00\" text-anchor=\"middle\" x=\"242.5\" y=\"-364.8\">value = [7, 260]</text>\n",
       "<text font-family=\"Times,serif\" font-size=\"14.00\" text-anchor=\"middle\" x=\"242.5\" y=\"-349.8\">class = benign</text>\n",
       "</g>\n",
       "<!-- 1&#45;&gt;2 -->\n",
       "<g class=\"edge\" id=\"edge2\"><title>1-&gt;2</title>\n",
       "<path d=\"M378.335,-460.907C360.589,-450.925 341.473,-440.172 323.346,-429.976\" fill=\"none\" stroke=\"black\"/>\n",
       "<polygon fill=\"black\" points=\"324.969,-426.873 314.537,-425.021 321.537,-432.974 324.969,-426.873\" stroke=\"black\"/>\n",
       "</g>\n",
       "<!-- 11 -->\n",
       "<g class=\"node\" id=\"node12\"><title>11</title>\n",
       "<polygon fill=\"#e58139\" fill-opacity=\"0.858824\" points=\"522,-425 379,-425 379,-342 522,-342 522,-425\" stroke=\"black\"/>\n",
       "<text font-family=\"Times,serif\" font-size=\"14.00\" text-anchor=\"middle\" x=\"450.5\" y=\"-409.8\">worst texture &lt;= 23.47</text>\n",
       "<text font-family=\"Times,serif\" font-size=\"14.00\" text-anchor=\"middle\" x=\"450.5\" y=\"-394.8\">gini = 0.219</text>\n",
       "<text font-family=\"Times,serif\" font-size=\"14.00\" text-anchor=\"middle\" x=\"450.5\" y=\"-379.8\">samples = 8</text>\n",
       "<text font-family=\"Times,serif\" font-size=\"14.00\" text-anchor=\"middle\" x=\"450.5\" y=\"-364.8\">value = [7, 1]</text>\n",
       "<text font-family=\"Times,serif\" font-size=\"14.00\" text-anchor=\"middle\" x=\"450.5\" y=\"-349.8\">class = malignant</text>\n",
       "</g>\n",
       "<!-- 1&#45;&gt;11 -->\n",
       "<g class=\"edge\" id=\"edge11\"><title>1-&gt;11</title>\n",
       "<path d=\"M450.5,-460.907C450.5,-452.649 450.5,-443.864 450.5,-435.302\" fill=\"none\" stroke=\"black\"/>\n",
       "<polygon fill=\"black\" points=\"454,-435.021 450.5,-425.021 447,-435.021 454,-435.021\" stroke=\"black\"/>\n",
       "</g>\n",
       "<!-- 3 -->\n",
       "<g class=\"node\" id=\"node4\"><title>3</title>\n",
       "<polygon fill=\"#e58139\" points=\"140,-298.5 27,-298.5 27,-230.5 140,-230.5 140,-298.5\" stroke=\"black\"/>\n",
       "<text font-family=\"Times,serif\" font-size=\"14.00\" text-anchor=\"middle\" x=\"83.5\" y=\"-283.3\">gini = 0.0</text>\n",
       "<text font-family=\"Times,serif\" font-size=\"14.00\" text-anchor=\"middle\" x=\"83.5\" y=\"-268.3\">samples = 1</text>\n",
       "<text font-family=\"Times,serif\" font-size=\"14.00\" text-anchor=\"middle\" x=\"83.5\" y=\"-253.3\">value = [1, 0]</text>\n",
       "<text font-family=\"Times,serif\" font-size=\"14.00\" text-anchor=\"middle\" x=\"83.5\" y=\"-238.3\">class = malignant</text>\n",
       "</g>\n",
       "<!-- 2&#45;&gt;3 -->\n",
       "<g class=\"edge\" id=\"edge3\"><title>2-&gt;3</title>\n",
       "<path d=\"M187.336,-341.907C170.991,-329.88 153.126,-316.735 136.895,-304.791\" fill=\"none\" stroke=\"black\"/>\n",
       "<polygon fill=\"black\" points=\"138.702,-301.775 128.573,-298.667 134.553,-307.413 138.702,-301.775\" stroke=\"black\"/>\n",
       "</g>\n",
       "<!-- 4 -->\n",
       "<g class=\"node\" id=\"node5\"><title>4</title>\n",
       "<polygon fill=\"#399de5\" fill-opacity=\"0.976471\" points=\"327,-306 158,-306 158,-223 327,-223 327,-306\" stroke=\"black\"/>\n",
       "<text font-family=\"Times,serif\" font-size=\"14.00\" text-anchor=\"middle\" x=\"242.5\" y=\"-290.8\">worst smoothness &lt;= 0.178</text>\n",
       "<text font-family=\"Times,serif\" font-size=\"14.00\" text-anchor=\"middle\" x=\"242.5\" y=\"-275.8\">gini = 0.044</text>\n",
       "<text font-family=\"Times,serif\" font-size=\"14.00\" text-anchor=\"middle\" x=\"242.5\" y=\"-260.8\">samples = 266</text>\n",
       "<text font-family=\"Times,serif\" font-size=\"14.00\" text-anchor=\"middle\" x=\"242.5\" y=\"-245.8\">value = [6, 260]</text>\n",
       "<text font-family=\"Times,serif\" font-size=\"14.00\" text-anchor=\"middle\" x=\"242.5\" y=\"-230.8\">class = benign</text>\n",
       "</g>\n",
       "<!-- 2&#45;&gt;4 -->\n",
       "<g class=\"edge\" id=\"edge4\"><title>2-&gt;4</title>\n",
       "<path d=\"M242.5,-341.907C242.5,-333.649 242.5,-324.864 242.5,-316.302\" fill=\"none\" stroke=\"black\"/>\n",
       "<polygon fill=\"black\" points=\"246,-316.021 242.5,-306.021 239,-316.021 246,-316.021\" stroke=\"black\"/>\n",
       "</g>\n",
       "<!-- 5 -->\n",
       "<g class=\"node\" id=\"node6\"><title>5</title>\n",
       "<polygon fill=\"#399de5\" fill-opacity=\"0.984314\" points=\"224,-187 93,-187 93,-104 224,-104 224,-187\" stroke=\"black\"/>\n",
       "<text font-family=\"Times,serif\" font-size=\"14.00\" text-anchor=\"middle\" x=\"158.5\" y=\"-171.8\">area error &lt;= 48.975</text>\n",
       "<text font-family=\"Times,serif\" font-size=\"14.00\" text-anchor=\"middle\" x=\"158.5\" y=\"-156.8\">gini = 0.03</text>\n",
       "<text font-family=\"Times,serif\" font-size=\"14.00\" text-anchor=\"middle\" x=\"158.5\" y=\"-141.8\">samples = 262</text>\n",
       "<text font-family=\"Times,serif\" font-size=\"14.00\" text-anchor=\"middle\" x=\"158.5\" y=\"-126.8\">value = [4, 258]</text>\n",
       "<text font-family=\"Times,serif\" font-size=\"14.00\" text-anchor=\"middle\" x=\"158.5\" y=\"-111.8\">class = benign</text>\n",
       "</g>\n",
       "<!-- 4&#45;&gt;5 -->\n",
       "<g class=\"edge\" id=\"edge5\"><title>4-&gt;5</title>\n",
       "<path d=\"M213.357,-222.907C206.971,-214.014 200.148,-204.509 193.558,-195.331\" fill=\"none\" stroke=\"black\"/>\n",
       "<polygon fill=\"black\" points=\"196.267,-193.103 187.592,-187.021 190.581,-197.185 196.267,-193.103\" stroke=\"black\"/>\n",
       "</g>\n",
       "<!-- 8 -->\n",
       "<g class=\"node\" id=\"node9\"><title>8</title>\n",
       "<polygon fill=\"none\" points=\"411,-187 242,-187 242,-104 411,-104 411,-187\" stroke=\"black\"/>\n",
       "<text font-family=\"Times,serif\" font-size=\"14.00\" text-anchor=\"middle\" x=\"326.5\" y=\"-171.8\">mean smoothness &lt;= 0.124</text>\n",
       "<text font-family=\"Times,serif\" font-size=\"14.00\" text-anchor=\"middle\" x=\"326.5\" y=\"-156.8\">gini = 0.5</text>\n",
       "<text font-family=\"Times,serif\" font-size=\"14.00\" text-anchor=\"middle\" x=\"326.5\" y=\"-141.8\">samples = 4</text>\n",
       "<text font-family=\"Times,serif\" font-size=\"14.00\" text-anchor=\"middle\" x=\"326.5\" y=\"-126.8\">value = [2, 2]</text>\n",
       "<text font-family=\"Times,serif\" font-size=\"14.00\" text-anchor=\"middle\" x=\"326.5\" y=\"-111.8\">class = malignant</text>\n",
       "</g>\n",
       "<!-- 4&#45;&gt;8 -->\n",
       "<g class=\"edge\" id=\"edge8\"><title>4-&gt;8</title>\n",
       "<path d=\"M271.643,-222.907C278.029,-214.014 284.852,-204.509 291.442,-195.331\" fill=\"none\" stroke=\"black\"/>\n",
       "<polygon fill=\"black\" points=\"294.419,-197.185 297.408,-187.021 288.733,-193.103 294.419,-197.185\" stroke=\"black\"/>\n",
       "</g>\n",
       "<!-- 6 -->\n",
       "<g class=\"node\" id=\"node7\"><title>6</title>\n",
       "<polygon fill=\"#399de5\" fill-opacity=\"0.988235\" points=\"105,-68 0,-68 0,-0 105,-0 105,-68\" stroke=\"black\"/>\n",
       "<text font-family=\"Times,serif\" font-size=\"14.00\" text-anchor=\"middle\" x=\"52.5\" y=\"-52.8\">gini = 0.023</text>\n",
       "<text font-family=\"Times,serif\" font-size=\"14.00\" text-anchor=\"middle\" x=\"52.5\" y=\"-37.8\">samples = 259</text>\n",
       "<text font-family=\"Times,serif\" font-size=\"14.00\" text-anchor=\"middle\" x=\"52.5\" y=\"-22.8\">value = [3, 256]</text>\n",
       "<text font-family=\"Times,serif\" font-size=\"14.00\" text-anchor=\"middle\" x=\"52.5\" y=\"-7.8\">class = benign</text>\n",
       "</g>\n",
       "<!-- 5&#45;&gt;6 -->\n",
       "<g class=\"edge\" id=\"edge6\"><title>5-&gt;6</title>\n",
       "<path d=\"M119.03,-103.726C110.112,-94.5142 100.647,-84.7364 91.7387,-75.5343\" fill=\"none\" stroke=\"black\"/>\n",
       "<polygon fill=\"black\" points=\"94.2053,-73.0502 84.7352,-68.2996 89.1758,-77.919 94.2053,-73.0502\" stroke=\"black\"/>\n",
       "</g>\n",
       "<!-- 7 -->\n",
       "<g class=\"node\" id=\"node8\"><title>7</title>\n",
       "<polygon fill=\"#399de5\" fill-opacity=\"0.498039\" points=\"218,-68 123,-68 123,-0 218,-0 218,-68\" stroke=\"black\"/>\n",
       "<text font-family=\"Times,serif\" font-size=\"14.00\" text-anchor=\"middle\" x=\"170.5\" y=\"-52.8\">gini = 0.444</text>\n",
       "<text font-family=\"Times,serif\" font-size=\"14.00\" text-anchor=\"middle\" x=\"170.5\" y=\"-37.8\">samples = 3</text>\n",
       "<text font-family=\"Times,serif\" font-size=\"14.00\" text-anchor=\"middle\" x=\"170.5\" y=\"-22.8\">value = [1, 2]</text>\n",
       "<text font-family=\"Times,serif\" font-size=\"14.00\" text-anchor=\"middle\" x=\"170.5\" y=\"-7.8\">class = benign</text>\n",
       "</g>\n",
       "<!-- 5&#45;&gt;7 -->\n",
       "<g class=\"edge\" id=\"edge7\"><title>5-&gt;7</title>\n",
       "<path d=\"M162.968,-103.726C163.878,-95.4263 164.838,-86.6671 165.757,-78.2834\" fill=\"none\" stroke=\"black\"/>\n",
       "<polygon fill=\"black\" points=\"169.24,-78.6214 166.851,-68.2996 162.282,-77.8588 169.24,-78.6214\" stroke=\"black\"/>\n",
       "</g>\n",
       "<!-- 9 -->\n",
       "<g class=\"node\" id=\"node10\"><title>9</title>\n",
       "<polygon fill=\"#e58139\" points=\"372,-68 259,-68 259,-0 372,-0 372,-68\" stroke=\"black\"/>\n",
       "<text font-family=\"Times,serif\" font-size=\"14.00\" text-anchor=\"middle\" x=\"315.5\" y=\"-52.8\">gini = 0.0</text>\n",
       "<text font-family=\"Times,serif\" font-size=\"14.00\" text-anchor=\"middle\" x=\"315.5\" y=\"-37.8\">samples = 2</text>\n",
       "<text font-family=\"Times,serif\" font-size=\"14.00\" text-anchor=\"middle\" x=\"315.5\" y=\"-22.8\">value = [2, 0]</text>\n",
       "<text font-family=\"Times,serif\" font-size=\"14.00\" text-anchor=\"middle\" x=\"315.5\" y=\"-7.8\">class = malignant</text>\n",
       "</g>\n",
       "<!-- 8&#45;&gt;9 -->\n",
       "<g class=\"edge\" id=\"edge9\"><title>8-&gt;9</title>\n",
       "<path d=\"M322.404,-103.726C321.57,-95.4263 320.69,-86.6671 319.848,-78.2834\" fill=\"none\" stroke=\"black\"/>\n",
       "<polygon fill=\"black\" points=\"323.327,-77.8997 318.845,-68.2996 316.362,-78.5994 323.327,-77.8997\" stroke=\"black\"/>\n",
       "</g>\n",
       "<!-- 10 -->\n",
       "<g class=\"node\" id=\"node11\"><title>10</title>\n",
       "<polygon fill=\"#399de5\" points=\"485,-68 390,-68 390,-0 485,-0 485,-68\" stroke=\"black\"/>\n",
       "<text font-family=\"Times,serif\" font-size=\"14.00\" text-anchor=\"middle\" x=\"437.5\" y=\"-52.8\">gini = 0.0</text>\n",
       "<text font-family=\"Times,serif\" font-size=\"14.00\" text-anchor=\"middle\" x=\"437.5\" y=\"-37.8\">samples = 2</text>\n",
       "<text font-family=\"Times,serif\" font-size=\"14.00\" text-anchor=\"middle\" x=\"437.5\" y=\"-22.8\">value = [0, 2]</text>\n",
       "<text font-family=\"Times,serif\" font-size=\"14.00\" text-anchor=\"middle\" x=\"437.5\" y=\"-7.8\">class = benign</text>\n",
       "</g>\n",
       "<!-- 8&#45;&gt;10 -->\n",
       "<g class=\"edge\" id=\"edge10\"><title>8-&gt;10</title>\n",
       "<path d=\"M367.832,-103.726C377.171,-94.5142 387.082,-84.7364 396.41,-75.5343\" fill=\"none\" stroke=\"black\"/>\n",
       "<polygon fill=\"black\" points=\"399.083,-77.8141 403.744,-68.2996 394.167,-72.8308 399.083,-77.8141\" stroke=\"black\"/>\n",
       "</g>\n",
       "<!-- 12 -->\n",
       "<g class=\"node\" id=\"node13\"><title>12</title>\n",
       "<polygon fill=\"#399de5\" points=\"440,-298.5 345,-298.5 345,-230.5 440,-230.5 440,-298.5\" stroke=\"black\"/>\n",
       "<text font-family=\"Times,serif\" font-size=\"14.00\" text-anchor=\"middle\" x=\"392.5\" y=\"-283.3\">gini = 0.0</text>\n",
       "<text font-family=\"Times,serif\" font-size=\"14.00\" text-anchor=\"middle\" x=\"392.5\" y=\"-268.3\">samples = 1</text>\n",
       "<text font-family=\"Times,serif\" font-size=\"14.00\" text-anchor=\"middle\" x=\"392.5\" y=\"-253.3\">value = [0, 1]</text>\n",
       "<text font-family=\"Times,serif\" font-size=\"14.00\" text-anchor=\"middle\" x=\"392.5\" y=\"-238.3\">class = benign</text>\n",
       "</g>\n",
       "<!-- 11&#45;&gt;12 -->\n",
       "<g class=\"edge\" id=\"edge12\"><title>11-&gt;12</title>\n",
       "<path d=\"M430.377,-341.907C424.907,-330.873 418.971,-318.898 413.456,-307.773\" fill=\"none\" stroke=\"black\"/>\n",
       "<polygon fill=\"black\" points=\"416.519,-306.072 408.942,-298.667 410.247,-309.181 416.519,-306.072\" stroke=\"black\"/>\n",
       "</g>\n",
       "<!-- 13 -->\n",
       "<g class=\"node\" id=\"node14\"><title>13</title>\n",
       "<polygon fill=\"#e58139\" points=\"571,-298.5 458,-298.5 458,-230.5 571,-230.5 571,-298.5\" stroke=\"black\"/>\n",
       "<text font-family=\"Times,serif\" font-size=\"14.00\" text-anchor=\"middle\" x=\"514.5\" y=\"-283.3\">gini = 0.0</text>\n",
       "<text font-family=\"Times,serif\" font-size=\"14.00\" text-anchor=\"middle\" x=\"514.5\" y=\"-268.3\">samples = 7</text>\n",
       "<text font-family=\"Times,serif\" font-size=\"14.00\" text-anchor=\"middle\" x=\"514.5\" y=\"-253.3\">value = [7, 0]</text>\n",
       "<text font-family=\"Times,serif\" font-size=\"14.00\" text-anchor=\"middle\" x=\"514.5\" y=\"-238.3\">class = malignant</text>\n",
       "</g>\n",
       "<!-- 11&#45;&gt;13 -->\n",
       "<g class=\"edge\" id=\"edge13\"><title>11-&gt;13</title>\n",
       "<path d=\"M472.704,-341.907C478.74,-330.873 485.291,-318.898 491.376,-307.773\" fill=\"none\" stroke=\"black\"/>\n",
       "<polygon fill=\"black\" points=\"494.629,-309.12 496.357,-298.667 488.488,-305.76 494.629,-309.12\" stroke=\"black\"/>\n",
       "</g>\n",
       "<!-- 15 -->\n",
       "<g class=\"node\" id=\"node16\"><title>15</title>\n",
       "<polygon fill=\"#e58139\" fill-opacity=\"0.066667\" points=\"748,-425 579,-425 579,-342 748,-342 748,-425\" stroke=\"black\"/>\n",
       "<text font-family=\"Times,serif\" font-size=\"14.00\" text-anchor=\"middle\" x=\"663.5\" y=\"-409.8\">worst smoothness &lt;= 0.125</text>\n",
       "<text font-family=\"Times,serif\" font-size=\"14.00\" text-anchor=\"middle\" x=\"663.5\" y=\"-394.8\">gini = 0.499</text>\n",
       "<text font-family=\"Times,serif\" font-size=\"14.00\" text-anchor=\"middle\" x=\"663.5\" y=\"-379.8\">samples = 29</text>\n",
       "<text font-family=\"Times,serif\" font-size=\"14.00\" text-anchor=\"middle\" x=\"663.5\" y=\"-364.8\">value = [15, 14]</text>\n",
       "<text font-family=\"Times,serif\" font-size=\"14.00\" text-anchor=\"middle\" x=\"663.5\" y=\"-349.8\">class = malignant</text>\n",
       "</g>\n",
       "<!-- 14&#45;&gt;15 -->\n",
       "<g class=\"edge\" id=\"edge15\"><title>14-&gt;15</title>\n",
       "<path d=\"M663.5,-460.907C663.5,-452.649 663.5,-443.864 663.5,-435.302\" fill=\"none\" stroke=\"black\"/>\n",
       "<polygon fill=\"black\" points=\"667,-435.021 663.5,-425.021 660,-435.021 667,-435.021\" stroke=\"black\"/>\n",
       "</g>\n",
       "<!-- 22 -->\n",
       "<g class=\"node\" id=\"node23\"><title>22</title>\n",
       "<polygon fill=\"#e58139\" fill-opacity=\"0.988235\" points=\"989.5,-425 839.5,-425 839.5,-342 989.5,-342 989.5,-425\" stroke=\"black\"/>\n",
       "<text font-family=\"Times,serif\" font-size=\"14.00\" text-anchor=\"middle\" x=\"914.5\" y=\"-409.8\">symmetry error &lt;= 0.01</text>\n",
       "<text font-family=\"Times,serif\" font-size=\"14.00\" text-anchor=\"middle\" x=\"914.5\" y=\"-394.8\">gini = 0.026</text>\n",
       "<text font-family=\"Times,serif\" font-size=\"14.00\" text-anchor=\"middle\" x=\"914.5\" y=\"-379.8\">samples = 151</text>\n",
       "<text font-family=\"Times,serif\" font-size=\"14.00\" text-anchor=\"middle\" x=\"914.5\" y=\"-364.8\">value = [149, 2]</text>\n",
       "<text font-family=\"Times,serif\" font-size=\"14.00\" text-anchor=\"middle\" x=\"914.5\" y=\"-349.8\">class = malignant</text>\n",
       "</g>\n",
       "<!-- 14&#45;&gt;22 -->\n",
       "<g class=\"edge\" id=\"edge22\"><title>14-&gt;22</title>\n",
       "<path d=\"M727.813,-471.522C758.88,-457.04 796.571,-439.471 829.93,-423.921\" fill=\"none\" stroke=\"black\"/>\n",
       "<polygon fill=\"black\" points=\"831.629,-426.991 839.214,-419.593 828.672,-420.646 831.629,-426.991\" stroke=\"black\"/>\n",
       "</g>\n",
       "<!-- 16 -->\n",
       "<g class=\"node\" id=\"node17\"><title>16</title>\n",
       "<polygon fill=\"#399de5\" points=\"687.5,-298.5 589.5,-298.5 589.5,-230.5 687.5,-230.5 687.5,-298.5\" stroke=\"black\"/>\n",
       "<text font-family=\"Times,serif\" font-size=\"14.00\" text-anchor=\"middle\" x=\"638.5\" y=\"-283.3\">gini = 0.0</text>\n",
       "<text font-family=\"Times,serif\" font-size=\"14.00\" text-anchor=\"middle\" x=\"638.5\" y=\"-268.3\">samples = 11</text>\n",
       "<text font-family=\"Times,serif\" font-size=\"14.00\" text-anchor=\"middle\" x=\"638.5\" y=\"-253.3\">value = [0, 11]</text>\n",
       "<text font-family=\"Times,serif\" font-size=\"14.00\" text-anchor=\"middle\" x=\"638.5\" y=\"-238.3\">class = benign</text>\n",
       "</g>\n",
       "<!-- 15&#45;&gt;16 -->\n",
       "<g class=\"edge\" id=\"edge16\"><title>15-&gt;16</title>\n",
       "<path d=\"M654.826,-341.907C652.539,-331.204 650.063,-319.615 647.747,-308.776\" fill=\"none\" stroke=\"black\"/>\n",
       "<polygon fill=\"black\" points=\"651.099,-307.715 645.587,-298.667 644.254,-309.178 651.099,-307.715\" stroke=\"black\"/>\n",
       "</g>\n",
       "<!-- 17 -->\n",
       "<g class=\"node\" id=\"node18\"><title>17</title>\n",
       "<polygon fill=\"#e58139\" fill-opacity=\"0.800000\" points=\"849,-306 706,-306 706,-223 849,-223 849,-306\" stroke=\"black\"/>\n",
       "<text font-family=\"Times,serif\" font-size=\"14.00\" text-anchor=\"middle\" x=\"777.5\" y=\"-290.8\">mean texture &lt;= 15.37</text>\n",
       "<text font-family=\"Times,serif\" font-size=\"14.00\" text-anchor=\"middle\" x=\"777.5\" y=\"-275.8\">gini = 0.278</text>\n",
       "<text font-family=\"Times,serif\" font-size=\"14.00\" text-anchor=\"middle\" x=\"777.5\" y=\"-260.8\">samples = 18</text>\n",
       "<text font-family=\"Times,serif\" font-size=\"14.00\" text-anchor=\"middle\" x=\"777.5\" y=\"-245.8\">value = [15, 3]</text>\n",
       "<text font-family=\"Times,serif\" font-size=\"14.00\" text-anchor=\"middle\" x=\"777.5\" y=\"-230.8\">class = malignant</text>\n",
       "</g>\n",
       "<!-- 15&#45;&gt;17 -->\n",
       "<g class=\"edge\" id=\"edge17\"><title>15-&gt;17</title>\n",
       "<path d=\"M703.052,-341.907C712.071,-332.651 721.735,-322.732 731.014,-313.209\" fill=\"none\" stroke=\"black\"/>\n",
       "<polygon fill=\"black\" points=\"733.546,-315.626 738.018,-306.021 728.533,-310.741 733.546,-315.626\" stroke=\"black\"/>\n",
       "</g>\n",
       "<!-- 18 -->\n",
       "<g class=\"node\" id=\"node19\"><title>18</title>\n",
       "<polygon fill=\"#399de5\" points=\"718,-179.5 623,-179.5 623,-111.5 718,-111.5 718,-179.5\" stroke=\"black\"/>\n",
       "<text font-family=\"Times,serif\" font-size=\"14.00\" text-anchor=\"middle\" x=\"670.5\" y=\"-164.3\">gini = 0.0</text>\n",
       "<text font-family=\"Times,serif\" font-size=\"14.00\" text-anchor=\"middle\" x=\"670.5\" y=\"-149.3\">samples = 2</text>\n",
       "<text font-family=\"Times,serif\" font-size=\"14.00\" text-anchor=\"middle\" x=\"670.5\" y=\"-134.3\">value = [0, 2]</text>\n",
       "<text font-family=\"Times,serif\" font-size=\"14.00\" text-anchor=\"middle\" x=\"670.5\" y=\"-119.3\">class = benign</text>\n",
       "</g>\n",
       "<!-- 17&#45;&gt;18 -->\n",
       "<g class=\"edge\" id=\"edge18\"><title>17-&gt;18</title>\n",
       "<path d=\"M740.377,-222.907C729.781,-211.321 718.236,-198.698 707.64,-187.111\" fill=\"none\" stroke=\"black\"/>\n",
       "<polygon fill=\"black\" points=\"710.164,-184.684 700.832,-179.667 704.998,-189.408 710.164,-184.684\" stroke=\"black\"/>\n",
       "</g>\n",
       "<!-- 19 -->\n",
       "<g class=\"node\" id=\"node20\"><title>19</title>\n",
       "<polygon fill=\"#e58139\" fill-opacity=\"0.933333\" points=\"890.5,-187 736.5,-187 736.5,-104 890.5,-104 890.5,-187\" stroke=\"black\"/>\n",
       "<text font-family=\"Times,serif\" font-size=\"14.00\" text-anchor=\"middle\" x=\"813.5\" y=\"-171.8\">concavity error &lt;= 0.016</text>\n",
       "<text font-family=\"Times,serif\" font-size=\"14.00\" text-anchor=\"middle\" x=\"813.5\" y=\"-156.8\">gini = 0.117</text>\n",
       "<text font-family=\"Times,serif\" font-size=\"14.00\" text-anchor=\"middle\" x=\"813.5\" y=\"-141.8\">samples = 16</text>\n",
       "<text font-family=\"Times,serif\" font-size=\"14.00\" text-anchor=\"middle\" x=\"813.5\" y=\"-126.8\">value = [15, 1]</text>\n",
       "<text font-family=\"Times,serif\" font-size=\"14.00\" text-anchor=\"middle\" x=\"813.5\" y=\"-111.8\">class = malignant</text>\n",
       "</g>\n",
       "<!-- 17&#45;&gt;19 -->\n",
       "<g class=\"edge\" id=\"edge19\"><title>17-&gt;19</title>\n",
       "<path d=\"M789.99,-222.907C792.587,-214.468 795.353,-205.477 798.042,-196.738\" fill=\"none\" stroke=\"black\"/>\n",
       "<polygon fill=\"black\" points=\"801.436,-197.608 801.032,-187.021 794.746,-195.549 801.436,-197.608\" stroke=\"black\"/>\n",
       "</g>\n",
       "<!-- 20 -->\n",
       "<g class=\"node\" id=\"node21\"><title>20</title>\n",
       "<polygon fill=\"#399de5\" points=\"760,-68 665,-68 665,-0 760,-0 760,-68\" stroke=\"black\"/>\n",
       "<text font-family=\"Times,serif\" font-size=\"14.00\" text-anchor=\"middle\" x=\"712.5\" y=\"-52.8\">gini = 0.0</text>\n",
       "<text font-family=\"Times,serif\" font-size=\"14.00\" text-anchor=\"middle\" x=\"712.5\" y=\"-37.8\">samples = 1</text>\n",
       "<text font-family=\"Times,serif\" font-size=\"14.00\" text-anchor=\"middle\" x=\"712.5\" y=\"-22.8\">value = [0, 1]</text>\n",
       "<text font-family=\"Times,serif\" font-size=\"14.00\" text-anchor=\"middle\" x=\"712.5\" y=\"-7.8\">class = benign</text>\n",
       "</g>\n",
       "<!-- 19&#45;&gt;20 -->\n",
       "<g class=\"edge\" id=\"edge20\"><title>19-&gt;20</title>\n",
       "<path d=\"M775.891,-103.726C767.479,-94.6054 758.554,-84.93 750.14,-75.8078\" fill=\"none\" stroke=\"black\"/>\n",
       "<polygon fill=\"black\" points=\"752.567,-73.2772 743.215,-68.2996 747.422,-78.0232 752.567,-73.2772\" stroke=\"black\"/>\n",
       "</g>\n",
       "<!-- 21 -->\n",
       "<g class=\"node\" id=\"node22\"><title>21</title>\n",
       "<polygon fill=\"#e58139\" points=\"891,-68 778,-68 778,-0 891,-0 891,-68\" stroke=\"black\"/>\n",
       "<text font-family=\"Times,serif\" font-size=\"14.00\" text-anchor=\"middle\" x=\"834.5\" y=\"-52.8\">gini = 0.0</text>\n",
       "<text font-family=\"Times,serif\" font-size=\"14.00\" text-anchor=\"middle\" x=\"834.5\" y=\"-37.8\">samples = 15</text>\n",
       "<text font-family=\"Times,serif\" font-size=\"14.00\" text-anchor=\"middle\" x=\"834.5\" y=\"-22.8\">value = [15, 0]</text>\n",
       "<text font-family=\"Times,serif\" font-size=\"14.00\" text-anchor=\"middle\" x=\"834.5\" y=\"-7.8\">class = malignant</text>\n",
       "</g>\n",
       "<!-- 19&#45;&gt;21 -->\n",
       "<g class=\"edge\" id=\"edge21\"><title>19-&gt;21</title>\n",
       "<path d=\"M821.32,-103.726C822.911,-95.4263 824.591,-86.6671 826.199,-78.2834\" fill=\"none\" stroke=\"black\"/>\n",
       "<polygon fill=\"black\" points=\"829.668,-78.7799 828.114,-68.2996 822.793,-77.4614 829.668,-78.7799\" stroke=\"black\"/>\n",
       "</g>\n",
       "<!-- 23 -->\n",
       "<g class=\"node\" id=\"node24\"><title>23</title>\n",
       "<polygon fill=\"#399de5\" points=\"962,-298.5 867,-298.5 867,-230.5 962,-230.5 962,-298.5\" stroke=\"black\"/>\n",
       "<text font-family=\"Times,serif\" font-size=\"14.00\" text-anchor=\"middle\" x=\"914.5\" y=\"-283.3\">gini = 0.0</text>\n",
       "<text font-family=\"Times,serif\" font-size=\"14.00\" text-anchor=\"middle\" x=\"914.5\" y=\"-268.3\">samples = 1</text>\n",
       "<text font-family=\"Times,serif\" font-size=\"14.00\" text-anchor=\"middle\" x=\"914.5\" y=\"-253.3\">value = [0, 1]</text>\n",
       "<text font-family=\"Times,serif\" font-size=\"14.00\" text-anchor=\"middle\" x=\"914.5\" y=\"-238.3\">class = benign</text>\n",
       "</g>\n",
       "<!-- 22&#45;&gt;23 -->\n",
       "<g class=\"edge\" id=\"edge23\"><title>22-&gt;23</title>\n",
       "<path d=\"M914.5,-341.907C914.5,-331.204 914.5,-319.615 914.5,-308.776\" fill=\"none\" stroke=\"black\"/>\n",
       "<polygon fill=\"black\" points=\"918,-308.667 914.5,-298.667 911,-308.667 918,-308.667\" stroke=\"black\"/>\n",
       "</g>\n",
       "<!-- 24 -->\n",
       "<g class=\"node\" id=\"node25\"><title>24</title>\n",
       "<polygon fill=\"#e58139\" fill-opacity=\"0.992157\" points=\"1129,-306 980,-306 980,-223 1129,-223 1129,-306\" stroke=\"black\"/>\n",
       "<text font-family=\"Times,serif\" font-size=\"14.00\" text-anchor=\"middle\" x=\"1054.5\" y=\"-290.8\">mean texture &lt;= 14.955</text>\n",
       "<text font-family=\"Times,serif\" font-size=\"14.00\" text-anchor=\"middle\" x=\"1054.5\" y=\"-275.8\">gini = 0.013</text>\n",
       "<text font-family=\"Times,serif\" font-size=\"14.00\" text-anchor=\"middle\" x=\"1054.5\" y=\"-260.8\">samples = 150</text>\n",
       "<text font-family=\"Times,serif\" font-size=\"14.00\" text-anchor=\"middle\" x=\"1054.5\" y=\"-245.8\">value = [149, 1]</text>\n",
       "<text font-family=\"Times,serif\" font-size=\"14.00\" text-anchor=\"middle\" x=\"1054.5\" y=\"-230.8\">class = malignant</text>\n",
       "</g>\n",
       "<!-- 22&#45;&gt;24 -->\n",
       "<g class=\"edge\" id=\"edge24\"><title>22-&gt;24</title>\n",
       "<path d=\"M963.072,-341.907C974.366,-332.469 986.483,-322.343 998.082,-312.649\" fill=\"none\" stroke=\"black\"/>\n",
       "<polygon fill=\"black\" points=\"1000.58,-315.119 1006.01,-306.021 996.096,-309.748 1000.58,-315.119\" stroke=\"black\"/>\n",
       "</g>\n",
       "<!-- 25 -->\n",
       "<g class=\"node\" id=\"node26\"><title>25</title>\n",
       "<polygon fill=\"#e58139\" fill-opacity=\"0.749020\" points=\"1087,-187 948,-187 948,-104 1087,-104 1087,-187\" stroke=\"black\"/>\n",
       "<text font-family=\"Times,serif\" font-size=\"14.00\" text-anchor=\"middle\" x=\"1017.5\" y=\"-171.8\">texture error &lt;= 0.648</text>\n",
       "<text font-family=\"Times,serif\" font-size=\"14.00\" text-anchor=\"middle\" x=\"1017.5\" y=\"-156.8\">gini = 0.32</text>\n",
       "<text font-family=\"Times,serif\" font-size=\"14.00\" text-anchor=\"middle\" x=\"1017.5\" y=\"-141.8\">samples = 5</text>\n",
       "<text font-family=\"Times,serif\" font-size=\"14.00\" text-anchor=\"middle\" x=\"1017.5\" y=\"-126.8\">value = [4, 1]</text>\n",
       "<text font-family=\"Times,serif\" font-size=\"14.00\" text-anchor=\"middle\" x=\"1017.5\" y=\"-111.8\">class = malignant</text>\n",
       "</g>\n",
       "<!-- 24&#45;&gt;25 -->\n",
       "<g class=\"edge\" id=\"edge25\"><title>24-&gt;25</title>\n",
       "<path d=\"M1041.66,-222.907C1038.99,-214.468 1036.15,-205.477 1033.39,-196.738\" fill=\"none\" stroke=\"black\"/>\n",
       "<polygon fill=\"black\" points=\"1036.67,-195.5 1030.31,-187.021 1029.99,-197.611 1036.67,-195.5\" stroke=\"black\"/>\n",
       "</g>\n",
       "<!-- 28 -->\n",
       "<g class=\"node\" id=\"node29\"><title>28</title>\n",
       "<polygon fill=\"#e58139\" points=\"1218,-179.5 1105,-179.5 1105,-111.5 1218,-111.5 1218,-179.5\" stroke=\"black\"/>\n",
       "<text font-family=\"Times,serif\" font-size=\"14.00\" text-anchor=\"middle\" x=\"1161.5\" y=\"-164.3\">gini = 0.0</text>\n",
       "<text font-family=\"Times,serif\" font-size=\"14.00\" text-anchor=\"middle\" x=\"1161.5\" y=\"-149.3\">samples = 145</text>\n",
       "<text font-family=\"Times,serif\" font-size=\"14.00\" text-anchor=\"middle\" x=\"1161.5\" y=\"-134.3\">value = [145, 0]</text>\n",
       "<text font-family=\"Times,serif\" font-size=\"14.00\" text-anchor=\"middle\" x=\"1161.5\" y=\"-119.3\">class = malignant</text>\n",
       "</g>\n",
       "<!-- 24&#45;&gt;28 -->\n",
       "<g class=\"edge\" id=\"edge28\"><title>24-&gt;28</title>\n",
       "<path d=\"M1091.62,-222.907C1102.22,-211.321 1113.76,-198.698 1124.36,-187.111\" fill=\"none\" stroke=\"black\"/>\n",
       "<polygon fill=\"black\" points=\"1127,-189.408 1131.17,-179.667 1121.84,-184.684 1127,-189.408\" stroke=\"black\"/>\n",
       "</g>\n",
       "<!-- 26 -->\n",
       "<g class=\"node\" id=\"node27\"><title>26</title>\n",
       "<polygon fill=\"#399de5\" points=\"1045,-68 950,-68 950,-0 1045,-0 1045,-68\" stroke=\"black\"/>\n",
       "<text font-family=\"Times,serif\" font-size=\"14.00\" text-anchor=\"middle\" x=\"997.5\" y=\"-52.8\">gini = 0.0</text>\n",
       "<text font-family=\"Times,serif\" font-size=\"14.00\" text-anchor=\"middle\" x=\"997.5\" y=\"-37.8\">samples = 1</text>\n",
       "<text font-family=\"Times,serif\" font-size=\"14.00\" text-anchor=\"middle\" x=\"997.5\" y=\"-22.8\">value = [0, 1]</text>\n",
       "<text font-family=\"Times,serif\" font-size=\"14.00\" text-anchor=\"middle\" x=\"997.5\" y=\"-7.8\">class = benign</text>\n",
       "</g>\n",
       "<!-- 25&#45;&gt;26 -->\n",
       "<g class=\"edge\" id=\"edge26\"><title>25-&gt;26</title>\n",
       "<path d=\"M1010.05,-103.726C1008.54,-95.4263 1006.94,-86.6671 1005.41,-78.2834\" fill=\"none\" stroke=\"black\"/>\n",
       "<polygon fill=\"black\" points=\"1008.82,-77.508 1003.58,-68.2996 1001.94,-78.7658 1008.82,-77.508\" stroke=\"black\"/>\n",
       "</g>\n",
       "<!-- 27 -->\n",
       "<g class=\"node\" id=\"node28\"><title>27</title>\n",
       "<polygon fill=\"#e58139\" points=\"1176,-68 1063,-68 1063,-0 1176,-0 1176,-68\" stroke=\"black\"/>\n",
       "<text font-family=\"Times,serif\" font-size=\"14.00\" text-anchor=\"middle\" x=\"1119.5\" y=\"-52.8\">gini = 0.0</text>\n",
       "<text font-family=\"Times,serif\" font-size=\"14.00\" text-anchor=\"middle\" x=\"1119.5\" y=\"-37.8\">samples = 4</text>\n",
       "<text font-family=\"Times,serif\" font-size=\"14.00\" text-anchor=\"middle\" x=\"1119.5\" y=\"-22.8\">value = [4, 0]</text>\n",
       "<text font-family=\"Times,serif\" font-size=\"14.00\" text-anchor=\"middle\" x=\"1119.5\" y=\"-7.8\">class = malignant</text>\n",
       "</g>\n",
       "<!-- 25&#45;&gt;27 -->\n",
       "<g class=\"edge\" id=\"edge27\"><title>25-&gt;27</title>\n",
       "<path d=\"M1055.48,-103.726C1063.98,-94.6054 1072.99,-84.93 1081.49,-75.8078\" fill=\"none\" stroke=\"black\"/>\n",
       "<polygon fill=\"black\" points=\"1084.23,-78.0025 1088.48,-68.2996 1079.1,-73.2312 1084.23,-78.0025\" stroke=\"black\"/>\n",
       "</g>\n",
       "</g>\n",
       "</svg>"
      ],
      "text/plain": [
       "<IPython.core.display.SVG object>"
      ]
     },
     "metadata": {},
     "output_type": "display_data"
    },
    {
     "data": {
      "text/html": [
       "<style>svg{width:70% !important;height:70% !important;}</style>"
      ],
      "text/plain": [
       "<IPython.core.display.HTML object>"
      ]
     },
     "execution_count": 16,
     "metadata": {},
     "output_type": "execute_result"
    }
   ],
   "source": [
    "graph = Source(export_graphviz(estimators[4], # model, za ktorym zacala rast chyba na validacnej vzorke\n",
    "                               out_file=None,\n",
    "                               feature_names=feature_names,\n",
    "                               class_names=label_names,\n",
    "                               filled = True))\n",
    "\n",
    "display(SVG(graph.pipe(format='svg')))\n",
    "\n",
    "from IPython.display import HTML # toto je tu len pre to aby sa mi obrazok zmestil na obrazovku\n",
    "style = \"<style>svg{width:70% !important;height:70% !important;}</style>\"\n",
    "HTML(style)"
   ]
  },
  {
   "cell_type": "code",
   "execution_count": 17,
   "metadata": {
    "slideshow": {
     "slide_type": "slide"
    }
   },
   "outputs": [
    {
     "data": {
      "image/svg+xml": [
       "<svg height=\"1147pt\" viewBox=\"0.00 0.00 1545.50 1147.00\" width=\"1546pt\" xmlns=\"http://www.w3.org/2000/svg\" xmlns:xlink=\"http://www.w3.org/1999/xlink\">\n",
       "<g class=\"graph\" id=\"graph0\" transform=\"scale(1 1) rotate(0) translate(4 1143)\">\n",
       "<title>Tree</title>\n",
       "<polygon fill=\"white\" points=\"-4,4 -4,-1143 1541.5,-1143 1541.5,4 -4,4\" stroke=\"none\"/>\n",
       "<!-- 0 -->\n",
       "<g class=\"node\" id=\"node1\"><title>0</title>\n",
       "<polygon fill=\"#399de5\" fill-opacity=\"0.356863\" points=\"950,-1139 786,-1139 786,-1056 950,-1056 950,-1139\" stroke=\"black\"/>\n",
       "<text font-family=\"Times,serif\" font-size=\"14.00\" text-anchor=\"middle\" x=\"868\" y=\"-1123.8\">worst perimeter &lt;= 105.95</text>\n",
       "<text font-family=\"Times,serif\" font-size=\"14.00\" text-anchor=\"middle\" x=\"868\" y=\"-1108.8\">gini = 0.476</text>\n",
       "<text font-family=\"Times,serif\" font-size=\"14.00\" text-anchor=\"middle\" x=\"868\" y=\"-1093.8\">samples = 455</text>\n",
       "<text font-family=\"Times,serif\" font-size=\"14.00\" text-anchor=\"middle\" x=\"868\" y=\"-1078.8\">value = [178, 277]</text>\n",
       "<text font-family=\"Times,serif\" font-size=\"14.00\" text-anchor=\"middle\" x=\"868\" y=\"-1063.8\">class = benign</text>\n",
       "</g>\n",
       "<!-- 1 -->\n",
       "<g class=\"node\" id=\"node2\"><title>1</title>\n",
       "<polygon fill=\"#399de5\" fill-opacity=\"0.945098\" points=\"859,-1020 673,-1020 673,-937 859,-937 859,-1020\" stroke=\"black\"/>\n",
       "<text font-family=\"Times,serif\" font-size=\"14.00\" text-anchor=\"middle\" x=\"766\" y=\"-1004.8\">worst concave points &lt;= 0.159</text>\n",
       "<text font-family=\"Times,serif\" font-size=\"14.00\" text-anchor=\"middle\" x=\"766\" y=\"-989.8\">gini = 0.097</text>\n",
       "<text font-family=\"Times,serif\" font-size=\"14.00\" text-anchor=\"middle\" x=\"766\" y=\"-974.8\">samples = 275</text>\n",
       "<text font-family=\"Times,serif\" font-size=\"14.00\" text-anchor=\"middle\" x=\"766\" y=\"-959.8\">value = [14, 261]</text>\n",
       "<text font-family=\"Times,serif\" font-size=\"14.00\" text-anchor=\"middle\" x=\"766\" y=\"-944.8\">class = benign</text>\n",
       "</g>\n",
       "<!-- 0&#45;&gt;1 -->\n",
       "<g class=\"edge\" id=\"edge1\"><title>0-&gt;1</title>\n",
       "<path d=\"M832.612,-1055.91C824.7,-1046.83 816.234,-1037.12 808.081,-1027.77\" fill=\"none\" stroke=\"black\"/>\n",
       "<polygon fill=\"black\" points=\"810.535,-1025.26 801.326,-1020.02 805.259,-1029.86 810.535,-1025.26\" stroke=\"black\"/>\n",
       "<text font-family=\"Times,serif\" font-size=\"14.00\" text-anchor=\"middle\" x=\"799.618\" y=\"-1041.26\">True</text>\n",
       "</g>\n",
       "<!-- 24 -->\n",
       "<g class=\"node\" id=\"node25\"><title>24</title>\n",
       "<polygon fill=\"#e58139\" fill-opacity=\"0.901961\" points=\"1035,-1020 907,-1020 907,-937 1035,-937 1035,-1020\" stroke=\"black\"/>\n",
       "<text font-family=\"Times,serif\" font-size=\"14.00\" text-anchor=\"middle\" x=\"971\" y=\"-1004.8\">worst area &lt;= 868.2</text>\n",
       "<text font-family=\"Times,serif\" font-size=\"14.00\" text-anchor=\"middle\" x=\"971\" y=\"-989.8\">gini = 0.162</text>\n",
       "<text font-family=\"Times,serif\" font-size=\"14.00\" text-anchor=\"middle\" x=\"971\" y=\"-974.8\">samples = 180</text>\n",
       "<text font-family=\"Times,serif\" font-size=\"14.00\" text-anchor=\"middle\" x=\"971\" y=\"-959.8\">value = [164, 16]</text>\n",
       "<text font-family=\"Times,serif\" font-size=\"14.00\" text-anchor=\"middle\" x=\"971\" y=\"-944.8\">class = malignant</text>\n",
       "</g>\n",
       "<!-- 0&#45;&gt;24 -->\n",
       "<g class=\"edge\" id=\"edge24\"><title>0-&gt;24</title>\n",
       "<path d=\"M903.735,-1055.91C911.725,-1046.83 920.274,-1037.12 928.506,-1027.77\" fill=\"none\" stroke=\"black\"/>\n",
       "<polygon fill=\"black\" points=\"931.347,-1029.84 935.328,-1020.02 926.093,-1025.21 931.347,-1029.84\" stroke=\"black\"/>\n",
       "<text font-family=\"Times,serif\" font-size=\"14.00\" text-anchor=\"middle\" x=\"936.916\" y=\"-1041.27\">False</text>\n",
       "</g>\n",
       "<!-- 2 -->\n",
       "<g class=\"node\" id=\"node3\"><title>2</title>\n",
       "<polygon fill=\"#399de5\" fill-opacity=\"0.972549\" points=\"645,-901 511,-901 511,-818 645,-818 645,-901\" stroke=\"black\"/>\n",
       "<text font-family=\"Times,serif\" font-size=\"14.00\" text-anchor=\"middle\" x=\"578\" y=\"-885.8\">radius error &lt;= 1.048</text>\n",
       "<text font-family=\"Times,serif\" font-size=\"14.00\" text-anchor=\"middle\" x=\"578\" y=\"-870.8\">gini = 0.051</text>\n",
       "<text font-family=\"Times,serif\" font-size=\"14.00\" text-anchor=\"middle\" x=\"578\" y=\"-855.8\">samples = 267</text>\n",
       "<text font-family=\"Times,serif\" font-size=\"14.00\" text-anchor=\"middle\" x=\"578\" y=\"-840.8\">value = [7, 260]</text>\n",
       "<text font-family=\"Times,serif\" font-size=\"14.00\" text-anchor=\"middle\" x=\"578\" y=\"-825.8\">class = benign</text>\n",
       "</g>\n",
       "<!-- 1&#45;&gt;2 -->\n",
       "<g class=\"edge\" id=\"edge2\"><title>1-&gt;2</title>\n",
       "<path d=\"M700.774,-936.907C685.026,-927.106 668.084,-916.563 651.967,-906.533\" fill=\"none\" stroke=\"black\"/>\n",
       "<polygon fill=\"black\" points=\"653.45,-903.333 643.11,-901.021 649.751,-909.276 653.45,-903.333\" stroke=\"black\"/>\n",
       "</g>\n",
       "<!-- 21 -->\n",
       "<g class=\"node\" id=\"node22\"><title>21</title>\n",
       "<polygon fill=\"#e58139\" fill-opacity=\"0.858824\" points=\"837.5,-901 694.5,-901 694.5,-818 837.5,-818 837.5,-901\" stroke=\"black\"/>\n",
       "<text font-family=\"Times,serif\" font-size=\"14.00\" text-anchor=\"middle\" x=\"766\" y=\"-885.8\">worst texture &lt;= 23.47</text>\n",
       "<text font-family=\"Times,serif\" font-size=\"14.00\" text-anchor=\"middle\" x=\"766\" y=\"-870.8\">gini = 0.219</text>\n",
       "<text font-family=\"Times,serif\" font-size=\"14.00\" text-anchor=\"middle\" x=\"766\" y=\"-855.8\">samples = 8</text>\n",
       "<text font-family=\"Times,serif\" font-size=\"14.00\" text-anchor=\"middle\" x=\"766\" y=\"-840.8\">value = [7, 1]</text>\n",
       "<text font-family=\"Times,serif\" font-size=\"14.00\" text-anchor=\"middle\" x=\"766\" y=\"-825.8\">class = malignant</text>\n",
       "</g>\n",
       "<!-- 1&#45;&gt;21 -->\n",
       "<g class=\"edge\" id=\"edge21\"><title>1-&gt;21</title>\n",
       "<path d=\"M766,-936.907C766,-928.649 766,-919.864 766,-911.302\" fill=\"none\" stroke=\"black\"/>\n",
       "<polygon fill=\"black\" points=\"769.5,-911.021 766,-901.021 762.5,-911.021 769.5,-911.021\" stroke=\"black\"/>\n",
       "</g>\n",
       "<!-- 3 -->\n",
       "<g class=\"node\" id=\"node4\"><title>3</title>\n",
       "<polygon fill=\"#399de5\" fill-opacity=\"0.976471\" points=\"503.5,-782 334.5,-782 334.5,-699 503.5,-699 503.5,-782\" stroke=\"black\"/>\n",
       "<text font-family=\"Times,serif\" font-size=\"14.00\" text-anchor=\"middle\" x=\"419\" y=\"-766.8\">worst smoothness &lt;= 0.178</text>\n",
       "<text font-family=\"Times,serif\" font-size=\"14.00\" text-anchor=\"middle\" x=\"419\" y=\"-751.8\">gini = 0.044</text>\n",
       "<text font-family=\"Times,serif\" font-size=\"14.00\" text-anchor=\"middle\" x=\"419\" y=\"-736.8\">samples = 266</text>\n",
       "<text font-family=\"Times,serif\" font-size=\"14.00\" text-anchor=\"middle\" x=\"419\" y=\"-721.8\">value = [6, 260]</text>\n",
       "<text font-family=\"Times,serif\" font-size=\"14.00\" text-anchor=\"middle\" x=\"419\" y=\"-706.8\">class = benign</text>\n",
       "</g>\n",
       "<!-- 2&#45;&gt;3 -->\n",
       "<g class=\"edge\" id=\"edge3\"><title>2-&gt;3</title>\n",
       "<path d=\"M522.836,-817.907C509.763,-808.288 495.719,-797.953 482.315,-788.09\" fill=\"none\" stroke=\"black\"/>\n",
       "<polygon fill=\"black\" points=\"484.196,-785.129 474.067,-782.021 480.047,-790.767 484.196,-785.129\" stroke=\"black\"/>\n",
       "</g>\n",
       "<!-- 20 -->\n",
       "<g class=\"node\" id=\"node21\"><title>20</title>\n",
       "<polygon fill=\"#e58139\" points=\"634.5,-774.5 521.5,-774.5 521.5,-706.5 634.5,-706.5 634.5,-774.5\" stroke=\"black\"/>\n",
       "<text font-family=\"Times,serif\" font-size=\"14.00\" text-anchor=\"middle\" x=\"578\" y=\"-759.3\">gini = 0.0</text>\n",
       "<text font-family=\"Times,serif\" font-size=\"14.00\" text-anchor=\"middle\" x=\"578\" y=\"-744.3\">samples = 1</text>\n",
       "<text font-family=\"Times,serif\" font-size=\"14.00\" text-anchor=\"middle\" x=\"578\" y=\"-729.3\">value = [1, 0]</text>\n",
       "<text font-family=\"Times,serif\" font-size=\"14.00\" text-anchor=\"middle\" x=\"578\" y=\"-714.3\">class = malignant</text>\n",
       "</g>\n",
       "<!-- 2&#45;&gt;20 -->\n",
       "<g class=\"edge\" id=\"edge20\"><title>2-&gt;20</title>\n",
       "<path d=\"M578,-817.907C578,-807.204 578,-795.615 578,-784.776\" fill=\"none\" stroke=\"black\"/>\n",
       "<polygon fill=\"black\" points=\"581.5,-784.667 578,-774.667 574.5,-784.667 581.5,-784.667\" stroke=\"black\"/>\n",
       "</g>\n",
       "<!-- 4 -->\n",
       "<g class=\"node\" id=\"node5\"><title>4</title>\n",
       "<polygon fill=\"#399de5\" fill-opacity=\"0.984314\" points=\"410.5,-663 279.5,-663 279.5,-580 410.5,-580 410.5,-663\" stroke=\"black\"/>\n",
       "<text font-family=\"Times,serif\" font-size=\"14.00\" text-anchor=\"middle\" x=\"345\" y=\"-647.8\">area error &lt;= 48.975</text>\n",
       "<text font-family=\"Times,serif\" font-size=\"14.00\" text-anchor=\"middle\" x=\"345\" y=\"-632.8\">gini = 0.03</text>\n",
       "<text font-family=\"Times,serif\" font-size=\"14.00\" text-anchor=\"middle\" x=\"345\" y=\"-617.8\">samples = 262</text>\n",
       "<text font-family=\"Times,serif\" font-size=\"14.00\" text-anchor=\"middle\" x=\"345\" y=\"-602.8\">value = [4, 258]</text>\n",
       "<text font-family=\"Times,serif\" font-size=\"14.00\" text-anchor=\"middle\" x=\"345\" y=\"-587.8\">class = benign</text>\n",
       "</g>\n",
       "<!-- 3&#45;&gt;4 -->\n",
       "<g class=\"edge\" id=\"edge4\"><title>3-&gt;4</title>\n",
       "<path d=\"M393.326,-698.907C387.758,-690.105 381.812,-680.703 376.062,-671.612\" fill=\"none\" stroke=\"black\"/>\n",
       "<polygon fill=\"black\" points=\"378.932,-669.601 370.629,-663.021 373.016,-673.343 378.932,-669.601\" stroke=\"black\"/>\n",
       "</g>\n",
       "<!-- 17 -->\n",
       "<g class=\"node\" id=\"node18\"><title>17</title>\n",
       "<polygon fill=\"none\" points=\"557,-663 429,-663 429,-580 557,-580 557,-663\" stroke=\"black\"/>\n",
       "<text font-family=\"Times,serif\" font-size=\"14.00\" text-anchor=\"middle\" x=\"493\" y=\"-647.8\">mean area &lt;= 321.8</text>\n",
       "<text font-family=\"Times,serif\" font-size=\"14.00\" text-anchor=\"middle\" x=\"493\" y=\"-632.8\">gini = 0.5</text>\n",
       "<text font-family=\"Times,serif\" font-size=\"14.00\" text-anchor=\"middle\" x=\"493\" y=\"-617.8\">samples = 4</text>\n",
       "<text font-family=\"Times,serif\" font-size=\"14.00\" text-anchor=\"middle\" x=\"493\" y=\"-602.8\">value = [2, 2]</text>\n",
       "<text font-family=\"Times,serif\" font-size=\"14.00\" text-anchor=\"middle\" x=\"493\" y=\"-587.8\">class = malignant</text>\n",
       "</g>\n",
       "<!-- 3&#45;&gt;17 -->\n",
       "<g class=\"edge\" id=\"edge17\"><title>3-&gt;17</title>\n",
       "<path d=\"M444.674,-698.907C450.242,-690.105 456.188,-680.703 461.938,-671.612\" fill=\"none\" stroke=\"black\"/>\n",
       "<polygon fill=\"black\" points=\"464.984,-673.343 467.371,-663.021 459.068,-669.601 464.984,-673.343\" stroke=\"black\"/>\n",
       "</g>\n",
       "<!-- 5 -->\n",
       "<g class=\"node\" id=\"node6\"><title>5</title>\n",
       "<polygon fill=\"#399de5\" fill-opacity=\"0.988235\" points=\"258.5,-544 109.5,-544 109.5,-461 258.5,-461 258.5,-544\" stroke=\"black\"/>\n",
       "<text font-family=\"Times,serif\" font-size=\"14.00\" text-anchor=\"middle\" x=\"184\" y=\"-528.8\">worst texture &lt;= 30.145</text>\n",
       "<text font-family=\"Times,serif\" font-size=\"14.00\" text-anchor=\"middle\" x=\"184\" y=\"-513.8\">gini = 0.023</text>\n",
       "<text font-family=\"Times,serif\" font-size=\"14.00\" text-anchor=\"middle\" x=\"184\" y=\"-498.8\">samples = 259</text>\n",
       "<text font-family=\"Times,serif\" font-size=\"14.00\" text-anchor=\"middle\" x=\"184\" y=\"-483.8\">value = [3, 256]</text>\n",
       "<text font-family=\"Times,serif\" font-size=\"14.00\" text-anchor=\"middle\" x=\"184\" y=\"-468.8\">class = benign</text>\n",
       "</g>\n",
       "<!-- 4&#45;&gt;5 -->\n",
       "<g class=\"edge\" id=\"edge5\"><title>4-&gt;5</title>\n",
       "<path d=\"M289.142,-579.907C275.905,-570.288 261.684,-559.953 248.111,-550.09\" fill=\"none\" stroke=\"black\"/>\n",
       "<polygon fill=\"black\" points=\"249.907,-547.068 239.759,-544.021 245.791,-552.731 249.907,-547.068\" stroke=\"black\"/>\n",
       "</g>\n",
       "<!-- 14 -->\n",
       "<g class=\"node\" id=\"node15\"><title>14</title>\n",
       "<polygon fill=\"#399de5\" fill-opacity=\"0.498039\" points=\"419.5,-544 276.5,-544 276.5,-461 419.5,-461 419.5,-544\" stroke=\"black\"/>\n",
       "<text font-family=\"Times,serif\" font-size=\"14.00\" text-anchor=\"middle\" x=\"348\" y=\"-528.8\">worst texture &lt;= 22.76</text>\n",
       "<text font-family=\"Times,serif\" font-size=\"14.00\" text-anchor=\"middle\" x=\"348\" y=\"-513.8\">gini = 0.444</text>\n",
       "<text font-family=\"Times,serif\" font-size=\"14.00\" text-anchor=\"middle\" x=\"348\" y=\"-498.8\">samples = 3</text>\n",
       "<text font-family=\"Times,serif\" font-size=\"14.00\" text-anchor=\"middle\" x=\"348\" y=\"-483.8\">value = [1, 2]</text>\n",
       "<text font-family=\"Times,serif\" font-size=\"14.00\" text-anchor=\"middle\" x=\"348\" y=\"-468.8\">class = benign</text>\n",
       "</g>\n",
       "<!-- 4&#45;&gt;14 -->\n",
       "<g class=\"edge\" id=\"edge14\"><title>4-&gt;14</title>\n",
       "<path d=\"M346.041,-579.907C346.255,-571.558 346.483,-562.671 346.705,-554.02\" fill=\"none\" stroke=\"black\"/>\n",
       "<polygon fill=\"black\" points=\"350.203,-554.107 346.961,-544.021 343.206,-553.928 350.203,-554.107\" stroke=\"black\"/>\n",
       "</g>\n",
       "<!-- 6 -->\n",
       "<g class=\"node\" id=\"node7\"><title>6</title>\n",
       "<polygon fill=\"#399de5\" points=\"110.5,-417.5 5.5,-417.5 5.5,-349.5 110.5,-349.5 110.5,-417.5\" stroke=\"black\"/>\n",
       "<text font-family=\"Times,serif\" font-size=\"14.00\" text-anchor=\"middle\" x=\"58\" y=\"-402.3\">gini = 0.0</text>\n",
       "<text font-family=\"Times,serif\" font-size=\"14.00\" text-anchor=\"middle\" x=\"58\" y=\"-387.3\">samples = 232</text>\n",
       "<text font-family=\"Times,serif\" font-size=\"14.00\" text-anchor=\"middle\" x=\"58\" y=\"-372.3\">value = [0, 232]</text>\n",
       "<text font-family=\"Times,serif\" font-size=\"14.00\" text-anchor=\"middle\" x=\"58\" y=\"-357.3\">class = benign</text>\n",
       "</g>\n",
       "<!-- 5&#45;&gt;6 -->\n",
       "<g class=\"edge\" id=\"edge6\"><title>5-&gt;6</title>\n",
       "<path d=\"M140.285,-460.907C127.689,-449.211 113.954,-436.457 101.378,-424.78\" fill=\"none\" stroke=\"black\"/>\n",
       "<polygon fill=\"black\" points=\"103.428,-421.907 93.7182,-417.667 98.6646,-427.036 103.428,-421.907\" stroke=\"black\"/>\n",
       "</g>\n",
       "<!-- 7 -->\n",
       "<g class=\"node\" id=\"node8\"><title>7</title>\n",
       "<polygon fill=\"#399de5\" fill-opacity=\"0.874510\" points=\"257,-425 129,-425 129,-342 257,-342 257,-425\" stroke=\"black\"/>\n",
       "<text font-family=\"Times,serif\" font-size=\"14.00\" text-anchor=\"middle\" x=\"193\" y=\"-409.8\">worst area &lt;= 721.9</text>\n",
       "<text font-family=\"Times,serif\" font-size=\"14.00\" text-anchor=\"middle\" x=\"193\" y=\"-394.8\">gini = 0.198</text>\n",
       "<text font-family=\"Times,serif\" font-size=\"14.00\" text-anchor=\"middle\" x=\"193\" y=\"-379.8\">samples = 27</text>\n",
       "<text font-family=\"Times,serif\" font-size=\"14.00\" text-anchor=\"middle\" x=\"193\" y=\"-364.8\">value = [3, 24]</text>\n",
       "<text font-family=\"Times,serif\" font-size=\"14.00\" text-anchor=\"middle\" x=\"193\" y=\"-349.8\">class = benign</text>\n",
       "</g>\n",
       "<!-- 5&#45;&gt;7 -->\n",
       "<g class=\"edge\" id=\"edge7\"><title>5-&gt;7</title>\n",
       "<path d=\"M187.123,-460.907C187.765,-452.558 188.448,-443.671 189.114,-435.02\" fill=\"none\" stroke=\"black\"/>\n",
       "<polygon fill=\"black\" points=\"192.606,-435.26 189.883,-425.021 185.626,-434.723 192.606,-435.26\" stroke=\"black\"/>\n",
       "</g>\n",
       "<!-- 8 -->\n",
       "<g class=\"node\" id=\"node9\"><title>8</title>\n",
       "<polygon fill=\"#399de5\" fill-opacity=\"0.956863\" points=\"190,-306 52,-306 52,-223 190,-223 190,-306\" stroke=\"black\"/>\n",
       "<text font-family=\"Times,serif\" font-size=\"14.00\" text-anchor=\"middle\" x=\"121\" y=\"-290.8\">worst radius &lt;= 14.43</text>\n",
       "<text font-family=\"Times,serif\" font-size=\"14.00\" text-anchor=\"middle\" x=\"121\" y=\"-275.8\">gini = 0.077</text>\n",
       "<text font-family=\"Times,serif\" font-size=\"14.00\" text-anchor=\"middle\" x=\"121\" y=\"-260.8\">samples = 25</text>\n",
       "<text font-family=\"Times,serif\" font-size=\"14.00\" text-anchor=\"middle\" x=\"121\" y=\"-245.8\">value = [1, 24]</text>\n",
       "<text font-family=\"Times,serif\" font-size=\"14.00\" text-anchor=\"middle\" x=\"121\" y=\"-230.8\">class = benign</text>\n",
       "</g>\n",
       "<!-- 7&#45;&gt;8 -->\n",
       "<g class=\"edge\" id=\"edge8\"><title>7-&gt;8</title>\n",
       "<path d=\"M168.02,-341.907C162.603,-333.105 156.817,-323.703 151.223,-314.612\" fill=\"none\" stroke=\"black\"/>\n",
       "<polygon fill=\"black\" points=\"154.158,-312.703 145.936,-306.021 148.196,-316.372 154.158,-312.703\" stroke=\"black\"/>\n",
       "</g>\n",
       "<!-- 13 -->\n",
       "<g class=\"node\" id=\"node14\"><title>13</title>\n",
       "<polygon fill=\"#e58139\" points=\"321.5,-298.5 208.5,-298.5 208.5,-230.5 321.5,-230.5 321.5,-298.5\" stroke=\"black\"/>\n",
       "<text font-family=\"Times,serif\" font-size=\"14.00\" text-anchor=\"middle\" x=\"265\" y=\"-283.3\">gini = 0.0</text>\n",
       "<text font-family=\"Times,serif\" font-size=\"14.00\" text-anchor=\"middle\" x=\"265\" y=\"-268.3\">samples = 2</text>\n",
       "<text font-family=\"Times,serif\" font-size=\"14.00\" text-anchor=\"middle\" x=\"265\" y=\"-253.3\">value = [2, 0]</text>\n",
       "<text font-family=\"Times,serif\" font-size=\"14.00\" text-anchor=\"middle\" x=\"265\" y=\"-238.3\">class = malignant</text>\n",
       "</g>\n",
       "<!-- 7&#45;&gt;13 -->\n",
       "<g class=\"edge\" id=\"edge13\"><title>7-&gt;13</title>\n",
       "<path d=\"M217.98,-341.907C224.838,-330.763 232.287,-318.658 239.191,-307.439\" fill=\"none\" stroke=\"black\"/>\n",
       "<polygon fill=\"black\" points=\"242.329,-309.018 244.59,-298.667 236.368,-305.349 242.329,-309.018\" stroke=\"black\"/>\n",
       "</g>\n",
       "<!-- 9 -->\n",
       "<g class=\"node\" id=\"node10\"><title>9</title>\n",
       "<polygon fill=\"#399de5\" points=\"98,-179.5 7.10543e-15,-179.5 7.10543e-15,-111.5 98,-111.5 98,-179.5\" stroke=\"black\"/>\n",
       "<text font-family=\"Times,serif\" font-size=\"14.00\" text-anchor=\"middle\" x=\"49\" y=\"-164.3\">gini = 0.0</text>\n",
       "<text font-family=\"Times,serif\" font-size=\"14.00\" text-anchor=\"middle\" x=\"49\" y=\"-149.3\">samples = 20</text>\n",
       "<text font-family=\"Times,serif\" font-size=\"14.00\" text-anchor=\"middle\" x=\"49\" y=\"-134.3\">value = [0, 20]</text>\n",
       "<text font-family=\"Times,serif\" font-size=\"14.00\" text-anchor=\"middle\" x=\"49\" y=\"-119.3\">class = benign</text>\n",
       "</g>\n",
       "<!-- 8&#45;&gt;9 -->\n",
       "<g class=\"edge\" id=\"edge9\"><title>8-&gt;9</title>\n",
       "<path d=\"M96.02,-222.907C89.1616,-211.763 81.7127,-199.658 74.8087,-188.439\" fill=\"none\" stroke=\"black\"/>\n",
       "<polygon fill=\"black\" points=\"77.6323,-186.349 69.4104,-179.667 71.6706,-190.018 77.6323,-186.349\" stroke=\"black\"/>\n",
       "</g>\n",
       "<!-- 10 -->\n",
       "<g class=\"node\" id=\"node11\"><title>10</title>\n",
       "<polygon fill=\"#399de5\" fill-opacity=\"0.749020\" points=\"270,-187 116,-187 116,-104 270,-104 270,-187\" stroke=\"black\"/>\n",
       "<text font-family=\"Times,serif\" font-size=\"14.00\" text-anchor=\"middle\" x=\"193\" y=\"-171.8\">concavity error &lt;= 0.022</text>\n",
       "<text font-family=\"Times,serif\" font-size=\"14.00\" text-anchor=\"middle\" x=\"193\" y=\"-156.8\">gini = 0.32</text>\n",
       "<text font-family=\"Times,serif\" font-size=\"14.00\" text-anchor=\"middle\" x=\"193\" y=\"-141.8\">samples = 5</text>\n",
       "<text font-family=\"Times,serif\" font-size=\"14.00\" text-anchor=\"middle\" x=\"193\" y=\"-126.8\">value = [1, 4]</text>\n",
       "<text font-family=\"Times,serif\" font-size=\"14.00\" text-anchor=\"middle\" x=\"193\" y=\"-111.8\">class = benign</text>\n",
       "</g>\n",
       "<!-- 8&#45;&gt;10 -->\n",
       "<g class=\"edge\" id=\"edge10\"><title>8-&gt;10</title>\n",
       "<path d=\"M145.98,-222.907C151.397,-214.105 157.183,-204.703 162.777,-195.612\" fill=\"none\" stroke=\"black\"/>\n",
       "<polygon fill=\"black\" points=\"165.804,-197.372 168.064,-187.021 159.842,-193.703 165.804,-197.372\" stroke=\"black\"/>\n",
       "</g>\n",
       "<!-- 11 -->\n",
       "<g class=\"node\" id=\"node12\"><title>11</title>\n",
       "<polygon fill=\"#399de5\" points=\"179.5,-68 84.5,-68 84.5,-0 179.5,-0 179.5,-68\" stroke=\"black\"/>\n",
       "<text font-family=\"Times,serif\" font-size=\"14.00\" text-anchor=\"middle\" x=\"132\" y=\"-52.8\">gini = 0.0</text>\n",
       "<text font-family=\"Times,serif\" font-size=\"14.00\" text-anchor=\"middle\" x=\"132\" y=\"-37.8\">samples = 4</text>\n",
       "<text font-family=\"Times,serif\" font-size=\"14.00\" text-anchor=\"middle\" x=\"132\" y=\"-22.8\">value = [0, 4]</text>\n",
       "<text font-family=\"Times,serif\" font-size=\"14.00\" text-anchor=\"middle\" x=\"132\" y=\"-7.8\">class = benign</text>\n",
       "</g>\n",
       "<!-- 10&#45;&gt;11 -->\n",
       "<g class=\"edge\" id=\"edge11\"><title>10-&gt;11</title>\n",
       "<path d=\"M170.286,-103.726C165.459,-95.0615 160.353,-85.8962 155.498,-77.1802\" fill=\"none\" stroke=\"black\"/>\n",
       "<polygon fill=\"black\" points=\"158.475,-75.3322 150.55,-68.2996 152.36,-78.7389 158.475,-75.3322\" stroke=\"black\"/>\n",
       "</g>\n",
       "<!-- 12 -->\n",
       "<g class=\"node\" id=\"node13\"><title>12</title>\n",
       "<polygon fill=\"#e58139\" points=\"310.5,-68 197.5,-68 197.5,-0 310.5,-0 310.5,-68\" stroke=\"black\"/>\n",
       "<text font-family=\"Times,serif\" font-size=\"14.00\" text-anchor=\"middle\" x=\"254\" y=\"-52.8\">gini = 0.0</text>\n",
       "<text font-family=\"Times,serif\" font-size=\"14.00\" text-anchor=\"middle\" x=\"254\" y=\"-37.8\">samples = 1</text>\n",
       "<text font-family=\"Times,serif\" font-size=\"14.00\" text-anchor=\"middle\" x=\"254\" y=\"-22.8\">value = [1, 0]</text>\n",
       "<text font-family=\"Times,serif\" font-size=\"14.00\" text-anchor=\"middle\" x=\"254\" y=\"-7.8\">class = malignant</text>\n",
       "</g>\n",
       "<!-- 10&#45;&gt;12 -->\n",
       "<g class=\"edge\" id=\"edge12\"><title>10-&gt;12</title>\n",
       "<path d=\"M215.714,-103.726C220.541,-95.0615 225.647,-85.8962 230.502,-77.1802\" fill=\"none\" stroke=\"black\"/>\n",
       "<polygon fill=\"black\" points=\"233.64,-78.7389 235.45,-68.2996 227.525,-75.3322 233.64,-78.7389\" stroke=\"black\"/>\n",
       "</g>\n",
       "<!-- 15 -->\n",
       "<g class=\"node\" id=\"node16\"><title>15</title>\n",
       "<polygon fill=\"#399de5\" points=\"378.5,-417.5 283.5,-417.5 283.5,-349.5 378.5,-349.5 378.5,-417.5\" stroke=\"black\"/>\n",
       "<text font-family=\"Times,serif\" font-size=\"14.00\" text-anchor=\"middle\" x=\"331\" y=\"-402.3\">gini = 0.0</text>\n",
       "<text font-family=\"Times,serif\" font-size=\"14.00\" text-anchor=\"middle\" x=\"331\" y=\"-387.3\">samples = 2</text>\n",
       "<text font-family=\"Times,serif\" font-size=\"14.00\" text-anchor=\"middle\" x=\"331\" y=\"-372.3\">value = [0, 2]</text>\n",
       "<text font-family=\"Times,serif\" font-size=\"14.00\" text-anchor=\"middle\" x=\"331\" y=\"-357.3\">class = benign</text>\n",
       "</g>\n",
       "<!-- 14&#45;&gt;15 -->\n",
       "<g class=\"edge\" id=\"edge15\"><title>14-&gt;15</title>\n",
       "<path d=\"M342.102,-460.907C340.547,-450.204 338.863,-438.615 337.288,-427.776\" fill=\"none\" stroke=\"black\"/>\n",
       "<polygon fill=\"black\" points=\"340.721,-427.06 335.819,-417.667 333.793,-428.066 340.721,-427.06\" stroke=\"black\"/>\n",
       "</g>\n",
       "<!-- 16 -->\n",
       "<g class=\"node\" id=\"node17\"><title>16</title>\n",
       "<polygon fill=\"#e58139\" points=\"509.5,-417.5 396.5,-417.5 396.5,-349.5 509.5,-349.5 509.5,-417.5\" stroke=\"black\"/>\n",
       "<text font-family=\"Times,serif\" font-size=\"14.00\" text-anchor=\"middle\" x=\"453\" y=\"-402.3\">gini = 0.0</text>\n",
       "<text font-family=\"Times,serif\" font-size=\"14.00\" text-anchor=\"middle\" x=\"453\" y=\"-387.3\">samples = 1</text>\n",
       "<text font-family=\"Times,serif\" font-size=\"14.00\" text-anchor=\"middle\" x=\"453\" y=\"-372.3\">value = [1, 0]</text>\n",
       "<text font-family=\"Times,serif\" font-size=\"14.00\" text-anchor=\"middle\" x=\"453\" y=\"-357.3\">class = malignant</text>\n",
       "</g>\n",
       "<!-- 14&#45;&gt;16 -->\n",
       "<g class=\"edge\" id=\"edge16\"><title>14-&gt;16</title>\n",
       "<path d=\"M384.429,-460.907C394.827,-449.321 406.156,-436.698 416.555,-425.111\" fill=\"none\" stroke=\"black\"/>\n",
       "<polygon fill=\"black\" points=\"419.161,-427.447 423.235,-417.667 413.951,-422.772 419.161,-427.447\" stroke=\"black\"/>\n",
       "</g>\n",
       "<!-- 18 -->\n",
       "<g class=\"node\" id=\"node19\"><title>18</title>\n",
       "<polygon fill=\"#399de5\" points=\"537.5,-536.5 442.5,-536.5 442.5,-468.5 537.5,-468.5 537.5,-536.5\" stroke=\"black\"/>\n",
       "<text font-family=\"Times,serif\" font-size=\"14.00\" text-anchor=\"middle\" x=\"490\" y=\"-521.3\">gini = 0.0</text>\n",
       "<text font-family=\"Times,serif\" font-size=\"14.00\" text-anchor=\"middle\" x=\"490\" y=\"-506.3\">samples = 2</text>\n",
       "<text font-family=\"Times,serif\" font-size=\"14.00\" text-anchor=\"middle\" x=\"490\" y=\"-491.3\">value = [0, 2]</text>\n",
       "<text font-family=\"Times,serif\" font-size=\"14.00\" text-anchor=\"middle\" x=\"490\" y=\"-476.3\">class = benign</text>\n",
       "</g>\n",
       "<!-- 17&#45;&gt;18 -->\n",
       "<g class=\"edge\" id=\"edge18\"><title>17-&gt;18</title>\n",
       "<path d=\"M491.959,-579.907C491.685,-569.204 491.388,-557.615 491.11,-546.776\" fill=\"none\" stroke=\"black\"/>\n",
       "<polygon fill=\"black\" points=\"494.606,-546.574 490.85,-536.667 487.608,-546.753 494.606,-546.574\" stroke=\"black\"/>\n",
       "</g>\n",
       "<!-- 19 -->\n",
       "<g class=\"node\" id=\"node20\"><title>19</title>\n",
       "<polygon fill=\"#e58139\" points=\"668.5,-536.5 555.5,-536.5 555.5,-468.5 668.5,-468.5 668.5,-536.5\" stroke=\"black\"/>\n",
       "<text font-family=\"Times,serif\" font-size=\"14.00\" text-anchor=\"middle\" x=\"612\" y=\"-521.3\">gini = 0.0</text>\n",
       "<text font-family=\"Times,serif\" font-size=\"14.00\" text-anchor=\"middle\" x=\"612\" y=\"-506.3\">samples = 2</text>\n",
       "<text font-family=\"Times,serif\" font-size=\"14.00\" text-anchor=\"middle\" x=\"612\" y=\"-491.3\">value = [2, 0]</text>\n",
       "<text font-family=\"Times,serif\" font-size=\"14.00\" text-anchor=\"middle\" x=\"612\" y=\"-476.3\">class = malignant</text>\n",
       "</g>\n",
       "<!-- 17&#45;&gt;19 -->\n",
       "<g class=\"edge\" id=\"edge19\"><title>17-&gt;19</title>\n",
       "<path d=\"M534.286,-579.907C546.183,-568.211 559.155,-555.457 571.032,-543.78\" fill=\"none\" stroke=\"black\"/>\n",
       "<polygon fill=\"black\" points=\"573.589,-546.174 578.266,-536.667 568.682,-541.182 573.589,-546.174\" stroke=\"black\"/>\n",
       "</g>\n",
       "<!-- 22 -->\n",
       "<g class=\"node\" id=\"node23\"><title>22</title>\n",
       "<polygon fill=\"#399de5\" points=\"747.5,-774.5 652.5,-774.5 652.5,-706.5 747.5,-706.5 747.5,-774.5\" stroke=\"black\"/>\n",
       "<text font-family=\"Times,serif\" font-size=\"14.00\" text-anchor=\"middle\" x=\"700\" y=\"-759.3\">gini = 0.0</text>\n",
       "<text font-family=\"Times,serif\" font-size=\"14.00\" text-anchor=\"middle\" x=\"700\" y=\"-744.3\">samples = 1</text>\n",
       "<text font-family=\"Times,serif\" font-size=\"14.00\" text-anchor=\"middle\" x=\"700\" y=\"-729.3\">value = [0, 1]</text>\n",
       "<text font-family=\"Times,serif\" font-size=\"14.00\" text-anchor=\"middle\" x=\"700\" y=\"-714.3\">class = benign</text>\n",
       "</g>\n",
       "<!-- 21&#45;&gt;22 -->\n",
       "<g class=\"edge\" id=\"edge22\"><title>21-&gt;22</title>\n",
       "<path d=\"M743.102,-817.907C736.815,-806.763 729.987,-794.658 723.658,-783.439\" fill=\"none\" stroke=\"black\"/>\n",
       "<polygon fill=\"black\" points=\"726.671,-781.657 718.71,-774.667 720.574,-785.096 726.671,-781.657\" stroke=\"black\"/>\n",
       "</g>\n",
       "<!-- 23 -->\n",
       "<g class=\"node\" id=\"node24\"><title>23</title>\n",
       "<polygon fill=\"#e58139\" points=\"878.5,-774.5 765.5,-774.5 765.5,-706.5 878.5,-706.5 878.5,-774.5\" stroke=\"black\"/>\n",
       "<text font-family=\"Times,serif\" font-size=\"14.00\" text-anchor=\"middle\" x=\"822\" y=\"-759.3\">gini = 0.0</text>\n",
       "<text font-family=\"Times,serif\" font-size=\"14.00\" text-anchor=\"middle\" x=\"822\" y=\"-744.3\">samples = 7</text>\n",
       "<text font-family=\"Times,serif\" font-size=\"14.00\" text-anchor=\"middle\" x=\"822\" y=\"-729.3\">value = [7, 0]</text>\n",
       "<text font-family=\"Times,serif\" font-size=\"14.00\" text-anchor=\"middle\" x=\"822\" y=\"-714.3\">class = malignant</text>\n",
       "</g>\n",
       "<!-- 21&#45;&gt;23 -->\n",
       "<g class=\"edge\" id=\"edge23\"><title>21-&gt;23</title>\n",
       "<path d=\"M785.429,-817.907C790.71,-806.873 796.442,-794.898 801.767,-783.773\" fill=\"none\" stroke=\"black\"/>\n",
       "<polygon fill=\"black\" points=\"804.965,-785.198 806.125,-774.667 798.651,-782.176 804.965,-785.198\" stroke=\"black\"/>\n",
       "</g>\n",
       "<!-- 25 -->\n",
       "<g class=\"node\" id=\"node26\"><title>25</title>\n",
       "<polygon fill=\"#e58139\" fill-opacity=\"0.066667\" points=\"1055.5,-901 886.5,-901 886.5,-818 1055.5,-818 1055.5,-901\" stroke=\"black\"/>\n",
       "<text font-family=\"Times,serif\" font-size=\"14.00\" text-anchor=\"middle\" x=\"971\" y=\"-885.8\">worst smoothness &lt;= 0.125</text>\n",
       "<text font-family=\"Times,serif\" font-size=\"14.00\" text-anchor=\"middle\" x=\"971\" y=\"-870.8\">gini = 0.499</text>\n",
       "<text font-family=\"Times,serif\" font-size=\"14.00\" text-anchor=\"middle\" x=\"971\" y=\"-855.8\">samples = 29</text>\n",
       "<text font-family=\"Times,serif\" font-size=\"14.00\" text-anchor=\"middle\" x=\"971\" y=\"-840.8\">value = [15, 14]</text>\n",
       "<text font-family=\"Times,serif\" font-size=\"14.00\" text-anchor=\"middle\" x=\"971\" y=\"-825.8\">class = malignant</text>\n",
       "</g>\n",
       "<!-- 24&#45;&gt;25 -->\n",
       "<g class=\"edge\" id=\"edge25\"><title>24-&gt;25</title>\n",
       "<path d=\"M971,-936.907C971,-928.649 971,-919.864 971,-911.302\" fill=\"none\" stroke=\"black\"/>\n",
       "<polygon fill=\"black\" points=\"974.5,-911.021 971,-901.021 967.5,-911.021 974.5,-911.021\" stroke=\"black\"/>\n",
       "</g>\n",
       "<!-- 32 -->\n",
       "<g class=\"node\" id=\"node33\"><title>32</title>\n",
       "<polygon fill=\"#e58139\" fill-opacity=\"0.988235\" points=\"1301.5,-901 1152.5,-901 1152.5,-818 1301.5,-818 1301.5,-901\" stroke=\"black\"/>\n",
       "<text font-family=\"Times,serif\" font-size=\"14.00\" text-anchor=\"middle\" x=\"1227\" y=\"-885.8\">worst texture &lt;= 16.295</text>\n",
       "<text font-family=\"Times,serif\" font-size=\"14.00\" text-anchor=\"middle\" x=\"1227\" y=\"-870.8\">gini = 0.026</text>\n",
       "<text font-family=\"Times,serif\" font-size=\"14.00\" text-anchor=\"middle\" x=\"1227\" y=\"-855.8\">samples = 151</text>\n",
       "<text font-family=\"Times,serif\" font-size=\"14.00\" text-anchor=\"middle\" x=\"1227\" y=\"-840.8\">value = [149, 2]</text>\n",
       "<text font-family=\"Times,serif\" font-size=\"14.00\" text-anchor=\"middle\" x=\"1227\" y=\"-825.8\">class = malignant</text>\n",
       "</g>\n",
       "<!-- 24&#45;&gt;32 -->\n",
       "<g class=\"edge\" id=\"edge32\"><title>24-&gt;32</title>\n",
       "<path d=\"M1035.27,-948.127C1067.9,-933.214 1107.95,-914.91 1142.99,-898.895\" fill=\"none\" stroke=\"black\"/>\n",
       "<polygon fill=\"black\" points=\"1144.61,-902.001 1152.26,-894.661 1141.71,-895.634 1144.61,-902.001\" stroke=\"black\"/>\n",
       "</g>\n",
       "<!-- 26 -->\n",
       "<g class=\"node\" id=\"node27\"><title>26</title>\n",
       "<polygon fill=\"#399de5\" points=\"995,-774.5 897,-774.5 897,-706.5 995,-706.5 995,-774.5\" stroke=\"black\"/>\n",
       "<text font-family=\"Times,serif\" font-size=\"14.00\" text-anchor=\"middle\" x=\"946\" y=\"-759.3\">gini = 0.0</text>\n",
       "<text font-family=\"Times,serif\" font-size=\"14.00\" text-anchor=\"middle\" x=\"946\" y=\"-744.3\">samples = 11</text>\n",
       "<text font-family=\"Times,serif\" font-size=\"14.00\" text-anchor=\"middle\" x=\"946\" y=\"-729.3\">value = [0, 11]</text>\n",
       "<text font-family=\"Times,serif\" font-size=\"14.00\" text-anchor=\"middle\" x=\"946\" y=\"-714.3\">class = benign</text>\n",
       "</g>\n",
       "<!-- 25&#45;&gt;26 -->\n",
       "<g class=\"edge\" id=\"edge26\"><title>25-&gt;26</title>\n",
       "<path d=\"M962.326,-817.907C960.039,-807.204 957.563,-795.615 955.247,-784.776\" fill=\"none\" stroke=\"black\"/>\n",
       "<polygon fill=\"black\" points=\"958.599,-783.715 953.087,-774.667 951.754,-785.178 958.599,-783.715\" stroke=\"black\"/>\n",
       "</g>\n",
       "<!-- 27 -->\n",
       "<g class=\"node\" id=\"node28\"><title>27</title>\n",
       "<polygon fill=\"#e58139\" fill-opacity=\"0.800000\" points=\"1161.5,-782 1012.5,-782 1012.5,-699 1161.5,-699 1161.5,-782\" stroke=\"black\"/>\n",
       "<text font-family=\"Times,serif\" font-size=\"14.00\" text-anchor=\"middle\" x=\"1087\" y=\"-766.8\">worst texture &lt;= 20.355</text>\n",
       "<text font-family=\"Times,serif\" font-size=\"14.00\" text-anchor=\"middle\" x=\"1087\" y=\"-751.8\">gini = 0.278</text>\n",
       "<text font-family=\"Times,serif\" font-size=\"14.00\" text-anchor=\"middle\" x=\"1087\" y=\"-736.8\">samples = 18</text>\n",
       "<text font-family=\"Times,serif\" font-size=\"14.00\" text-anchor=\"middle\" x=\"1087\" y=\"-721.8\">value = [15, 3]</text>\n",
       "<text font-family=\"Times,serif\" font-size=\"14.00\" text-anchor=\"middle\" x=\"1087\" y=\"-706.8\">class = malignant</text>\n",
       "</g>\n",
       "<!-- 25&#45;&gt;27 -->\n",
       "<g class=\"edge\" id=\"edge27\"><title>25-&gt;27</title>\n",
       "<path d=\"M1011.25,-817.907C1020.42,-808.651 1030.26,-798.732 1039.7,-789.209\" fill=\"none\" stroke=\"black\"/>\n",
       "<polygon fill=\"black\" points=\"1042.27,-791.586 1046.83,-782.021 1037.3,-786.658 1042.27,-791.586\" stroke=\"black\"/>\n",
       "</g>\n",
       "<!-- 28 -->\n",
       "<g class=\"node\" id=\"node29\"><title>28</title>\n",
       "<polygon fill=\"#399de5\" points=\"1027.5,-655.5 932.5,-655.5 932.5,-587.5 1027.5,-587.5 1027.5,-655.5\" stroke=\"black\"/>\n",
       "<text font-family=\"Times,serif\" font-size=\"14.00\" text-anchor=\"middle\" x=\"980\" y=\"-640.3\">gini = 0.0</text>\n",
       "<text font-family=\"Times,serif\" font-size=\"14.00\" text-anchor=\"middle\" x=\"980\" y=\"-625.3\">samples = 2</text>\n",
       "<text font-family=\"Times,serif\" font-size=\"14.00\" text-anchor=\"middle\" x=\"980\" y=\"-610.3\">value = [0, 2]</text>\n",
       "<text font-family=\"Times,serif\" font-size=\"14.00\" text-anchor=\"middle\" x=\"980\" y=\"-595.3\">class = benign</text>\n",
       "</g>\n",
       "<!-- 27&#45;&gt;28 -->\n",
       "<g class=\"edge\" id=\"edge28\"><title>27-&gt;28</title>\n",
       "<path d=\"M1049.88,-698.907C1039.28,-687.321 1027.74,-674.698 1017.14,-663.111\" fill=\"none\" stroke=\"black\"/>\n",
       "<polygon fill=\"black\" points=\"1019.66,-660.684 1010.33,-655.667 1014.5,-665.408 1019.66,-660.684\" stroke=\"black\"/>\n",
       "</g>\n",
       "<!-- 29 -->\n",
       "<g class=\"node\" id=\"node30\"><title>29</title>\n",
       "<polygon fill=\"#e58139\" fill-opacity=\"0.933333\" points=\"1204,-663 1046,-663 1046,-580 1204,-580 1204,-663\" stroke=\"black\"/>\n",
       "<text font-family=\"Times,serif\" font-size=\"14.00\" text-anchor=\"middle\" x=\"1125\" y=\"-647.8\">worst concavity &lt;= 0.229</text>\n",
       "<text font-family=\"Times,serif\" font-size=\"14.00\" text-anchor=\"middle\" x=\"1125\" y=\"-632.8\">gini = 0.117</text>\n",
       "<text font-family=\"Times,serif\" font-size=\"14.00\" text-anchor=\"middle\" x=\"1125\" y=\"-617.8\">samples = 16</text>\n",
       "<text font-family=\"Times,serif\" font-size=\"14.00\" text-anchor=\"middle\" x=\"1125\" y=\"-602.8\">value = [15, 1]</text>\n",
       "<text font-family=\"Times,serif\" font-size=\"14.00\" text-anchor=\"middle\" x=\"1125\" y=\"-587.8\">class = malignant</text>\n",
       "</g>\n",
       "<!-- 27&#45;&gt;29 -->\n",
       "<g class=\"edge\" id=\"edge29\"><title>27-&gt;29</title>\n",
       "<path d=\"M1100.18,-698.907C1102.93,-690.468 1105.84,-681.477 1108.68,-672.738\" fill=\"none\" stroke=\"black\"/>\n",
       "<polygon fill=\"black\" points=\"1112.08,-673.613 1111.84,-663.021 1105.42,-671.451 1112.08,-673.613\" stroke=\"black\"/>\n",
       "</g>\n",
       "<!-- 30 -->\n",
       "<g class=\"node\" id=\"node31\"><title>30</title>\n",
       "<polygon fill=\"#399de5\" points=\"1072.5,-536.5 977.5,-536.5 977.5,-468.5 1072.5,-468.5 1072.5,-536.5\" stroke=\"black\"/>\n",
       "<text font-family=\"Times,serif\" font-size=\"14.00\" text-anchor=\"middle\" x=\"1025\" y=\"-521.3\">gini = 0.0</text>\n",
       "<text font-family=\"Times,serif\" font-size=\"14.00\" text-anchor=\"middle\" x=\"1025\" y=\"-506.3\">samples = 1</text>\n",
       "<text font-family=\"Times,serif\" font-size=\"14.00\" text-anchor=\"middle\" x=\"1025\" y=\"-491.3\">value = [0, 1]</text>\n",
       "<text font-family=\"Times,serif\" font-size=\"14.00\" text-anchor=\"middle\" x=\"1025\" y=\"-476.3\">class = benign</text>\n",
       "</g>\n",
       "<!-- 29&#45;&gt;30 -->\n",
       "<g class=\"edge\" id=\"edge30\"><title>29-&gt;30</title>\n",
       "<path d=\"M1090.31,-579.907C1080.5,-568.432 1069.82,-555.938 1059.99,-544.442\" fill=\"none\" stroke=\"black\"/>\n",
       "<polygon fill=\"black\" points=\"1062.51,-541.995 1053.35,-536.667 1057.18,-546.543 1062.51,-541.995\" stroke=\"black\"/>\n",
       "</g>\n",
       "<!-- 31 -->\n",
       "<g class=\"node\" id=\"node32\"><title>31</title>\n",
       "<polygon fill=\"#e58139\" points=\"1203.5,-536.5 1090.5,-536.5 1090.5,-468.5 1203.5,-468.5 1203.5,-536.5\" stroke=\"black\"/>\n",
       "<text font-family=\"Times,serif\" font-size=\"14.00\" text-anchor=\"middle\" x=\"1147\" y=\"-521.3\">gini = 0.0</text>\n",
       "<text font-family=\"Times,serif\" font-size=\"14.00\" text-anchor=\"middle\" x=\"1147\" y=\"-506.3\">samples = 15</text>\n",
       "<text font-family=\"Times,serif\" font-size=\"14.00\" text-anchor=\"middle\" x=\"1147\" y=\"-491.3\">value = [15, 0]</text>\n",
       "<text font-family=\"Times,serif\" font-size=\"14.00\" text-anchor=\"middle\" x=\"1147\" y=\"-476.3\">class = malignant</text>\n",
       "</g>\n",
       "<!-- 29&#45;&gt;31 -->\n",
       "<g class=\"edge\" id=\"edge31\"><title>29-&gt;31</title>\n",
       "<path d=\"M1132.63,-579.907C1134.65,-569.204 1136.82,-557.615 1138.86,-546.776\" fill=\"none\" stroke=\"black\"/>\n",
       "<polygon fill=\"black\" points=\"1142.36,-547.142 1140.76,-536.667 1135.48,-545.848 1142.36,-547.142\" stroke=\"black\"/>\n",
       "</g>\n",
       "<!-- 33 -->\n",
       "<g class=\"node\" id=\"node34\"><title>33</title>\n",
       "<polygon fill=\"#399de5\" points=\"1274.5,-774.5 1179.5,-774.5 1179.5,-706.5 1274.5,-706.5 1274.5,-774.5\" stroke=\"black\"/>\n",
       "<text font-family=\"Times,serif\" font-size=\"14.00\" text-anchor=\"middle\" x=\"1227\" y=\"-759.3\">gini = 0.0</text>\n",
       "<text font-family=\"Times,serif\" font-size=\"14.00\" text-anchor=\"middle\" x=\"1227\" y=\"-744.3\">samples = 1</text>\n",
       "<text font-family=\"Times,serif\" font-size=\"14.00\" text-anchor=\"middle\" x=\"1227\" y=\"-729.3\">value = [0, 1]</text>\n",
       "<text font-family=\"Times,serif\" font-size=\"14.00\" text-anchor=\"middle\" x=\"1227\" y=\"-714.3\">class = benign</text>\n",
       "</g>\n",
       "<!-- 32&#45;&gt;33 -->\n",
       "<g class=\"edge\" id=\"edge33\"><title>32-&gt;33</title>\n",
       "<path d=\"M1227,-817.907C1227,-807.204 1227,-795.615 1227,-784.776\" fill=\"none\" stroke=\"black\"/>\n",
       "<polygon fill=\"black\" points=\"1230.5,-784.667 1227,-774.667 1223.5,-784.667 1230.5,-784.667\" stroke=\"black\"/>\n",
       "</g>\n",
       "<!-- 34 -->\n",
       "<g class=\"node\" id=\"node35\"><title>34</title>\n",
       "<polygon fill=\"#e58139\" fill-opacity=\"0.992157\" points=\"1447,-782 1293,-782 1293,-699 1447,-699 1447,-782\" stroke=\"black\"/>\n",
       "<text font-family=\"Times,serif\" font-size=\"14.00\" text-anchor=\"middle\" x=\"1370\" y=\"-766.8\">perimeter error &lt;= 1.752</text>\n",
       "<text font-family=\"Times,serif\" font-size=\"14.00\" text-anchor=\"middle\" x=\"1370\" y=\"-751.8\">gini = 0.013</text>\n",
       "<text font-family=\"Times,serif\" font-size=\"14.00\" text-anchor=\"middle\" x=\"1370\" y=\"-736.8\">samples = 150</text>\n",
       "<text font-family=\"Times,serif\" font-size=\"14.00\" text-anchor=\"middle\" x=\"1370\" y=\"-721.8\">value = [149, 1]</text>\n",
       "<text font-family=\"Times,serif\" font-size=\"14.00\" text-anchor=\"middle\" x=\"1370\" y=\"-706.8\">class = malignant</text>\n",
       "</g>\n",
       "<!-- 32&#45;&gt;34 -->\n",
       "<g class=\"edge\" id=\"edge34\"><title>32-&gt;34</title>\n",
       "<path d=\"M1276.61,-817.907C1288.26,-808.379 1300.76,-798.148 1312.71,-788.37\" fill=\"none\" stroke=\"black\"/>\n",
       "<polygon fill=\"black\" points=\"1314.95,-791.062 1320.47,-782.021 1310.52,-785.644 1314.95,-791.062\" stroke=\"black\"/>\n",
       "</g>\n",
       "<!-- 35 -->\n",
       "<g class=\"node\" id=\"node36\"><title>35</title>\n",
       "<polygon fill=\"#e58139\" fill-opacity=\"0.749020\" points=\"1406.5,-663 1257.5,-663 1257.5,-580 1406.5,-580 1406.5,-663\" stroke=\"black\"/>\n",
       "<text font-family=\"Times,serif\" font-size=\"14.00\" text-anchor=\"middle\" x=\"1332\" y=\"-647.8\">worst texture &lt;= 23.805</text>\n",
       "<text font-family=\"Times,serif\" font-size=\"14.00\" text-anchor=\"middle\" x=\"1332\" y=\"-632.8\">gini = 0.32</text>\n",
       "<text font-family=\"Times,serif\" font-size=\"14.00\" text-anchor=\"middle\" x=\"1332\" y=\"-617.8\">samples = 5</text>\n",
       "<text font-family=\"Times,serif\" font-size=\"14.00\" text-anchor=\"middle\" x=\"1332\" y=\"-602.8\">value = [4, 1]</text>\n",
       "<text font-family=\"Times,serif\" font-size=\"14.00\" text-anchor=\"middle\" x=\"1332\" y=\"-587.8\">class = malignant</text>\n",
       "</g>\n",
       "<!-- 34&#45;&gt;35 -->\n",
       "<g class=\"edge\" id=\"edge35\"><title>34-&gt;35</title>\n",
       "<path d=\"M1356.82,-698.907C1354.07,-690.468 1351.16,-681.477 1348.32,-672.738\" fill=\"none\" stroke=\"black\"/>\n",
       "<polygon fill=\"black\" points=\"1351.58,-671.451 1345.16,-663.021 1344.92,-673.613 1351.58,-671.451\" stroke=\"black\"/>\n",
       "</g>\n",
       "<!-- 38 -->\n",
       "<g class=\"node\" id=\"node39\"><title>38</title>\n",
       "<polygon fill=\"#e58139\" points=\"1537.5,-655.5 1424.5,-655.5 1424.5,-587.5 1537.5,-587.5 1537.5,-655.5\" stroke=\"black\"/>\n",
       "<text font-family=\"Times,serif\" font-size=\"14.00\" text-anchor=\"middle\" x=\"1481\" y=\"-640.3\">gini = 0.0</text>\n",
       "<text font-family=\"Times,serif\" font-size=\"14.00\" text-anchor=\"middle\" x=\"1481\" y=\"-625.3\">samples = 145</text>\n",
       "<text font-family=\"Times,serif\" font-size=\"14.00\" text-anchor=\"middle\" x=\"1481\" y=\"-610.3\">value = [145, 0]</text>\n",
       "<text font-family=\"Times,serif\" font-size=\"14.00\" text-anchor=\"middle\" x=\"1481\" y=\"-595.3\">class = malignant</text>\n",
       "</g>\n",
       "<!-- 34&#45;&gt;38 -->\n",
       "<g class=\"edge\" id=\"edge38\"><title>34-&gt;38</title>\n",
       "<path d=\"M1408.51,-698.907C1419.5,-687.321 1431.48,-674.698 1442.47,-663.111\" fill=\"none\" stroke=\"black\"/>\n",
       "<polygon fill=\"black\" points=\"1445.19,-665.331 1449.53,-655.667 1440.11,-660.513 1445.19,-665.331\" stroke=\"black\"/>\n",
       "</g>\n",
       "<!-- 36 -->\n",
       "<g class=\"node\" id=\"node37\"><title>36</title>\n",
       "<polygon fill=\"#399de5\" points=\"1358.5,-536.5 1263.5,-536.5 1263.5,-468.5 1358.5,-468.5 1358.5,-536.5\" stroke=\"black\"/>\n",
       "<text font-family=\"Times,serif\" font-size=\"14.00\" text-anchor=\"middle\" x=\"1311\" y=\"-521.3\">gini = 0.0</text>\n",
       "<text font-family=\"Times,serif\" font-size=\"14.00\" text-anchor=\"middle\" x=\"1311\" y=\"-506.3\">samples = 1</text>\n",
       "<text font-family=\"Times,serif\" font-size=\"14.00\" text-anchor=\"middle\" x=\"1311\" y=\"-491.3\">value = [0, 1]</text>\n",
       "<text font-family=\"Times,serif\" font-size=\"14.00\" text-anchor=\"middle\" x=\"1311\" y=\"-476.3\">class = benign</text>\n",
       "</g>\n",
       "<!-- 35&#45;&gt;36 -->\n",
       "<g class=\"edge\" id=\"edge36\"><title>35-&gt;36</title>\n",
       "<path d=\"M1324.71,-579.907C1322.79,-569.204 1320.71,-557.615 1318.77,-546.776\" fill=\"none\" stroke=\"black\"/>\n",
       "<polygon fill=\"black\" points=\"1322.16,-545.891 1316.95,-536.667 1315.27,-547.128 1322.16,-545.891\" stroke=\"black\"/>\n",
       "</g>\n",
       "<!-- 37 -->\n",
       "<g class=\"node\" id=\"node38\"><title>37</title>\n",
       "<polygon fill=\"#e58139\" points=\"1489.5,-536.5 1376.5,-536.5 1376.5,-468.5 1489.5,-468.5 1489.5,-536.5\" stroke=\"black\"/>\n",
       "<text font-family=\"Times,serif\" font-size=\"14.00\" text-anchor=\"middle\" x=\"1433\" y=\"-521.3\">gini = 0.0</text>\n",
       "<text font-family=\"Times,serif\" font-size=\"14.00\" text-anchor=\"middle\" x=\"1433\" y=\"-506.3\">samples = 4</text>\n",
       "<text font-family=\"Times,serif\" font-size=\"14.00\" text-anchor=\"middle\" x=\"1433\" y=\"-491.3\">value = [4, 0]</text>\n",
       "<text font-family=\"Times,serif\" font-size=\"14.00\" text-anchor=\"middle\" x=\"1433\" y=\"-476.3\">class = malignant</text>\n",
       "</g>\n",
       "<!-- 35&#45;&gt;37 -->\n",
       "<g class=\"edge\" id=\"edge37\"><title>35-&gt;37</title>\n",
       "<path d=\"M1367.04,-579.907C1376.95,-568.432 1387.73,-555.938 1397.66,-544.442\" fill=\"none\" stroke=\"black\"/>\n",
       "<polygon fill=\"black\" points=\"1400.48,-546.524 1404.37,-536.667 1395.18,-541.95 1400.48,-546.524\" stroke=\"black\"/>\n",
       "</g>\n",
       "</g>\n",
       "</svg>"
      ],
      "text/plain": [
       "<IPython.core.display.SVG object>"
      ]
     },
     "metadata": {},
     "output_type": "display_data"
    },
    {
     "data": {
      "text/html": [
       "<style>svg{width:40% !important;height:40% !important;}</style>"
      ],
      "text/plain": [
       "<IPython.core.display.HTML object>"
      ]
     },
     "execution_count": 17,
     "metadata": {},
     "output_type": "execute_result"
    }
   ],
   "source": [
    "graph = Source(export_graphviz(estimators[-1], # najzlozitejsi model\n",
    "                               out_file=None,\n",
    "                               feature_names=feature_names,\n",
    "                               class_names=label_names,\n",
    "                               filled = True))\n",
    "\n",
    "display(SVG(graph.pipe(format='svg')))\n",
    "\n",
    "from IPython.display import HTML # toto je tu len pre to aby sa mi obrazok zmestil na obrazovku\n",
    "style = \"<style>svg{width:40% !important;height:40% !important;}</style>\"\n",
    "HTML(style)"
   ]
  },
  {
   "cell_type": "markdown",
   "metadata": {
    "slideshow": {
     "slide_type": "slide"
    }
   },
   "source": [
    "# Existuju viacere sposoby ako riesit pretrenovanie a kontrolovat varianciu a bias\n",
    "\n",
    "## Ziskat viac dat :)\n",
    "\n",
    "## Ucenie suborom metod (ensemble learning)\n",
    "toto nemusite teraz vediet, ale je dobre ak poznate, ze take nieco existuje\n",
    "\n",
    "* **Bagging** \n",
    "\n",
    "> Kombinovanie predikcii **nezavyslich** modelov do jednej predikcie. Kazdy model musi byt **lepsi ako nahoda**.\n",
    "\n",
    "> Pouziva sa na znizenie variancie\n",
    "\n",
    "* **Boosting** \n",
    "\n",
    "> Pouziva na znizenie biasu. Pozor, moze zvysit varianciu!\n",
    "\n",
    "> Iterativne trenovanie dalsich klasifikatorov s vahou na tie pozorovania, na ktorych sa predchadzajucim modelom nedarilo\n",
    "\n",
    "\n",
    "## Zjednodusenie modelu\n",
    "* Vyber atributov\n",
    "* Regularizacia\n",
    "* Orezavanie stromov"
   ]
  },
  {
   "cell_type": "markdown",
   "metadata": {
    "slideshow": {
     "slide_type": "slide"
    }
   },
   "source": [
    "# Vyber atributov"
   ]
  },
  {
   "cell_type": "markdown",
   "metadata": {
    "slideshow": {
     "slide_type": "slide"
    }
   },
   "source": [
    "# Preco by som mal vyberat len niektore atributy?\n",
    "\n",
    "* redundancia - skryte zavyslosti medzi nimi \n",
    "* irelevancia - nemusia mat ziadny vplyv na predikovanu hodnotu\n",
    "* pretrenovanie - model sa da natrenovat aj na nahodnych datach a na trenovacej sade bude fungovat. Na testovacej ale bude fungovat uplne strasne\n",
    "* prekliatie dimenzionality - pri velkom pocte atributov potrebujem vela dat na to aby som dostatocne pokryl priestor moznych hodnot\n",
    "* produktivita / rychlost - moja ako analytika a aj mojich modelov (trenovanie aj predikcia)\n",
    "* zrozumitelnost - lahsie sa vysvetluje model, ktory ma menej atributov"
   ]
  },
  {
   "cell_type": "markdown",
   "metadata": {
    "slideshow": {
     "slide_type": "slide"
    }
   },
   "source": [
    "# Existuju 3 skupiny pristupov na vyber atributov\n",
    "\n",
    "> ## 1. Filter\n",
    "\n",
    "> ## 2. Wrapper\n",
    "\n",
    "> ## 3. Embedded"
   ]
  },
  {
   "cell_type": "markdown",
   "metadata": {
    "slideshow": {
     "slide_type": "slide"
    }
   },
   "source": [
    "# 1. Filter\n",
    "\n",
    "Vyber atributov bez ohladu na model, ktory sa chystame trenovat.\n",
    "\n",
    "* rychle\n",
    "* nezavisle na modeli (to je dobre aj zle: mozem ich pouzit na rozne modely, ale nedokazu vyuzit specificke vlastnosti konkretnych algoritmov)"
   ]
  },
  {
   "cell_type": "markdown",
   "metadata": {
    "slideshow": {
     "slide_type": "slide"
    }
   },
   "source": [
    "# Najjednoduchsia moznost je vyhodit atributy, ktore maju vsade rovnake hodnoty\n",
    "\n",
    "pozor, nie malu varianciu. Hlavne pri nevyvazenych triedach mozu byt prave taketo atributy velmi uzitocne"
   ]
  },
  {
   "cell_type": "code",
   "execution_count": 18,
   "metadata": {
    "slideshow": {
     "slide_type": "slide"
    }
   },
   "outputs": [
    {
     "data": {
      "text/plain": [
       "array([[0, 2, 0, 3],\n",
       "       [0, 1, 4, 3],\n",
       "       [0, 1, 1, 3]])"
      ]
     },
     "execution_count": 18,
     "metadata": {},
     "output_type": "execute_result"
    }
   ],
   "source": [
    "from sklearn.feature_selection import VarianceThreshold\n",
    "\n",
    "X = np.array([[0, 2, 0, 3], [0, 1, 4, 3], [0, 1, 1, 3]])\n",
    "X"
   ]
  },
  {
   "cell_type": "code",
   "execution_count": 19,
   "metadata": {
    "slideshow": {
     "slide_type": "fragment"
    }
   },
   "outputs": [
    {
     "data": {
      "text/plain": [
       "array([[2, 0],\n",
       "       [1, 4],\n",
       "       [1, 1]])"
      ]
     },
     "execution_count": 19,
     "metadata": {},
     "output_type": "execute_result"
    }
   ],
   "source": [
    "selector = VarianceThreshold(threshold=0.0)\n",
    "selector.fit_transform(X)"
   ]
  },
  {
   "cell_type": "markdown",
   "metadata": {
    "slideshow": {
     "slide_type": "slide"
    }
   },
   "source": [
    "# Mozeme vyberat atributy aj na zaklade zavislosti atributu a predikovanej hodnoty"
   ]
  },
  {
   "cell_type": "code",
   "execution_count": 20,
   "metadata": {
    "slideshow": {
     "slide_type": "slide"
    }
   },
   "outputs": [
    {
     "data": {
      "text/plain": [
       "(150, 4)"
      ]
     },
     "execution_count": 20,
     "metadata": {},
     "output_type": "execute_result"
    }
   ],
   "source": [
    "from sklearn.datasets import load_iris\n",
    "from sklearn.feature_selection import SelectKBest\n",
    "from sklearn.feature_selection import chi2 # daju sa pouzit aj ine metriky\n",
    "\n",
    "iris = load_iris()\n",
    "X, y = iris.data, iris.target\n",
    "X.shape"
   ]
  },
  {
   "cell_type": "markdown",
   "metadata": {
    "slideshow": {
     "slide_type": "slide"
    }
   },
   "source": [
    "## Metriku ako napriklad Chi kvadrat pouzijeme na kvantifikovanie zavislosti k predikovanej premennej.\n",
    "\n",
    "Najlepsie atributy nechame"
   ]
  },
  {
   "cell_type": "code",
   "execution_count": 21,
   "metadata": {
    "slideshow": {
     "slide_type": "fragment"
    }
   },
   "outputs": [
    {
     "data": {
      "text/plain": [
       "(150, 2)"
      ]
     },
     "execution_count": 21,
     "metadata": {},
     "output_type": "execute_result"
    }
   ],
   "source": [
    "X_new = SelectKBest(chi2, k=2).fit_transform(X, y)\n",
    "X_new.shape"
   ]
  },
  {
   "cell_type": "markdown",
   "metadata": {
    "slideshow": {
     "slide_type": "slide"
    }
   },
   "source": [
    "## Daju sa pouzivat rozne metriky\n",
    "> Klasifikacia\n",
    "* chi2 - nezaporne cisla\n",
    "* mutual_info_classif - diskretne data\n",
    "* f_classif - ANOVA medzi predikovanou premennou a atributmi\n",
    "\n",
    "> Regresia\n",
    "* f_regression - F test medzi predikovanou hodnotou a atributmi\n",
    "* mutual_info_regression - Mutual information na realnych cislach"
   ]
  },
  {
   "cell_type": "markdown",
   "metadata": {
    "slideshow": {
     "slide_type": "slide"
    }
   },
   "source": [
    "## Da sa vyberat K najlepsich alebo nejaky percentil alebo nechat pocet atributov na statisticky test\n",
    "\n",
    "* SelectKBest \n",
    "* SelectPercentile\n",
    "\n",
    "* SelectFpr - false positive rate\n",
    "* SelectFdr - false discovery rate  \n",
    "* SelectFwe - family wise error\n",
    "\n",
    "* GenericUnivariateSelect - Vsetko dohromady a strategia sa da nastavit parametrom"
   ]
  },
  {
   "cell_type": "markdown",
   "metadata": {
    "slideshow": {
     "slide_type": "slide"
    }
   },
   "source": [
    "# Vlastnosti filtrov\n",
    "\n",
    "* vacsinou rychle\n",
    "* nezavisle na modely (nepotrebujem opakovane trenovat model ale vybrane atributy nemusia byt najvhodnejsie pre kazdy model)\n",
    "* vacsinou sa pozeraju len na vlastnosti dvojic predikovana premenna - atribut, kombinacie viacerych atributov nezohladnuju\n"
   ]
  },
  {
   "cell_type": "markdown",
   "metadata": {
    "slideshow": {
     "slide_type": "slide"
    }
   },
   "source": [
    "# Varovanie, PCA sa casto pouziva na redukciu dimenzionality ale nie na vyber atributov\n",
    "\n",
    "Je to casta chyba\n",
    "\n",
    "PCA **vytvara nove** atributy ako **linearnu kombinaciu** povodnych. Nevybera z povodnych.\n",
    "\n",
    "Ak pouzijeme dolezitost atributov, ktore vstupuju do PCA, tak ziskame len ich varianciu. To je ekvivalentne s VarianceThreshold spomenutym vyssie. Aby sme toto ziskali ale nemusime pocitat cele PCA. Staci nam variancia kazdeho atributu oddelene. \n",
    "\n",
    "Navyse do PCA by mali vstupovat data s normalizovanou varianciou, takze by sme namiesto variance score pre kazdy atribut dostali stale rovnaku hodnotu."
   ]
  },
  {
   "cell_type": "markdown",
   "metadata": {
    "slideshow": {
     "slide_type": "slide"
    }
   },
   "source": [
    "# 2. Wrapper"
   ]
  },
  {
   "cell_type": "markdown",
   "metadata": {
    "slideshow": {
     "slide_type": "slide"
    }
   },
   "source": [
    "# Zakladna myslienka\n",
    "\n",
    "haldame podmnozinu atributov, na ktorej bude model davat najlepsie vysledky\n",
    "\n",
    "Skusame rozne podmnoziny a vyberame tu najlepsiu"
   ]
  },
  {
   "cell_type": "markdown",
   "metadata": {
    "slideshow": {
     "slide_type": "slide"
    }
   },
   "source": [
    "# Problem\n",
    "\n",
    "Ak mame dataset s N atributmi, tak pocet roznych podmnozin je $2^N$\n",
    "\n",
    "To znamena, ze by sme museli nas model natrenovat $2^N$ krat.\n",
    "\n",
    "Chcelo by to najst proces, ktory minimalizuje pocet pokusov a zaroven maximalizuje uspesnost modelu"
   ]
  },
  {
   "cell_type": "markdown",
   "metadata": {
    "slideshow": {
     "slide_type": "slide"
    }
   },
   "source": [
    "# Greedy pristupy\n",
    "\n",
    "Najcastejsie sa pouzivaju greedy pristupy, ktore postupne zvacsuju sadu atributov (alebo zmensuju) tak, ze pridavaju (odoberaju) atribut tak aby sa co najviac zvysila uspesnost. Skusaju rozne podmnoziny atributov, ktore postupne zvacsuju alebo zmensuju."
   ]
  },
  {
   "cell_type": "markdown",
   "metadata": {
    "slideshow": {
     "slide_type": "slide"
    }
   },
   "source": [
    "# Kniznica Mlxtend\n",
    "\n",
    "* Sequential Forward Selection (SFS)\n",
    "> Postupne zvacsuje mnozinu atributov o ten, ktory najviac prispel k zlepseniu\n",
    "\n",
    "> Zacina s mnozinami velksoti 1, vyberie najlepsiu a zafixuje atribut. K fixovanemu atributu prida dalsi a vytvori vsetky mozne podmnoziny velkosti 2. Vyberie najlepsiu ...\n",
    "\n",
    "* Sequential Backward Selection (SBS)\n",
    "> Postupne zmensuje mnozinu atributov o ten, ktory najmenej pomahal.\n",
    "\n",
    "* Sequential Floating Forward Selection (SFFS)\n",
    "> SFS s pokusom o vyhodenie uz pridanych atributov ak sa ukaze ze velmi nepomahaju \n",
    "\n",
    "* Sequential Floating Backward Selection (SFBS)\n",
    "> SBS s pokusom o pridanie uz raz vyhodeneho atributu\n"
   ]
  },
  {
   "cell_type": "markdown",
   "metadata": {
    "slideshow": {
     "slide_type": "slide"
    }
   },
   "source": [
    "# Scikit-Learn\n",
    "\n",
    "* RFE - Recursive feature elimination\n",
    "> Postupne vyhadzovanie atributov, ktore maju v modeli najnizsiu vahu (potrebujeme aby to model vedel povedat) \n",
    "\n",
    "* RFECV - RFE with cross-validation\n",
    "> RFE s krizovou validaciou"
   ]
  },
  {
   "cell_type": "markdown",
   "metadata": {
    "slideshow": {
     "slide_type": "slide"
    }
   },
   "source": [
    "# Priklad SFS"
   ]
  },
  {
   "cell_type": "code",
   "execution_count": 22,
   "metadata": {
    "slideshow": {
     "slide_type": "slide"
    }
   },
   "outputs": [],
   "source": [
    "from sklearn.neighbors import KNeighborsClassifier\n",
    "from sklearn.datasets import load_iris\n",
    "\n",
    "iris = load_iris()\n",
    "X = iris.data\n",
    "y = iris.target\n",
    "knn = KNeighborsClassifier(n_neighbors=4)"
   ]
  },
  {
   "cell_type": "code",
   "execution_count": 23,
   "metadata": {
    "slideshow": {
     "slide_type": "slide"
    }
   },
   "outputs": [
    {
     "name": "stderr",
     "output_type": "stream",
     "text": [
      "[Parallel(n_jobs=1)]: Done   1 out of   1 | elapsed:    0.0s remaining:    0.0s\n",
      "[Parallel(n_jobs=1)]: Done   4 out of   4 | elapsed:    0.0s finished\n",
      "\n",
      "[2018-11-28 22:27:52] Features: 1/3 -- score: 0.96[Parallel(n_jobs=1)]: Done   1 out of   1 | elapsed:    0.0s remaining:    0.0s\n",
      "[Parallel(n_jobs=1)]: Done   3 out of   3 | elapsed:    0.0s finished\n",
      "\n",
      "[2018-11-28 22:27:52] Features: 2/3 -- score: 0.9733333333333334[Parallel(n_jobs=1)]: Done   1 out of   1 | elapsed:    0.0s remaining:    0.0s\n",
      "[Parallel(n_jobs=1)]: Done   2 out of   2 | elapsed:    0.0s finished\n",
      "\n",
      "[2018-11-28 22:27:52] Features: 3/3 -- score: 0.9733333333333334"
     ]
    }
   ],
   "source": [
    "from mlxtend.feature_selection import SequentialFeatureSelector as SFS\n",
    "\n",
    "sfs1 = SFS(knn, k_features=3, forward=True,  floating=False, verbose=2, scoring='accuracy', cv=0)\n",
    "# pomocou tejto triedy vieme robit SFS, SFFS, SBS aj SFBS a dokonca aj pridat cross-validaciu\n",
    "\n",
    "sfs1 = sfs1.fit(X, y)"
   ]
  },
  {
   "cell_type": "markdown",
   "metadata": {
    "slideshow": {
     "slide_type": "slide"
    }
   },
   "source": [
    "## Zoznamy najlepsich podmnozin atributov pre jednotlive velkosti podmnozin"
   ]
  },
  {
   "cell_type": "code",
   "execution_count": 24,
   "metadata": {
    "slideshow": {
     "slide_type": "-"
    }
   },
   "outputs": [
    {
     "data": {
      "text/plain": [
       "{1: {'feature_idx': (3,),\n",
       "  'cv_scores': array([0.96]),\n",
       "  'avg_score': 0.96,\n",
       "  'feature_names': ('3',)},\n",
       " 2: {'feature_idx': (2, 3),\n",
       "  'cv_scores': array([0.97333333]),\n",
       "  'avg_score': 0.9733333333333334,\n",
       "  'feature_names': ('2', '3')},\n",
       " 3: {'feature_idx': (1, 2, 3),\n",
       "  'cv_scores': array([0.97333333]),\n",
       "  'avg_score': 0.9733333333333334,\n",
       "  'feature_names': ('1', '2', '3')}}"
      ]
     },
     "execution_count": 24,
     "metadata": {},
     "output_type": "execute_result"
    }
   ],
   "source": [
    "sfs1.subsets_"
   ]
  },
  {
   "cell_type": "markdown",
   "metadata": {
    "slideshow": {
     "slide_type": "slide"
    }
   },
   "source": [
    "# 3. Embedded"
   ]
  },
  {
   "cell_type": "markdown",
   "metadata": {
    "slideshow": {
     "slide_type": "slide"
    }
   },
   "source": [
    "# Hlavna myslienka\n",
    "\n",
    "Skombinovat vyhody filtrov a wrapprov\n",
    "\n",
    "Model, ktory sa trenuje si bude priamo vyberat atributy, ktore su pre neho najlepsie\n",
    "\n",
    "Len malo modelov to podporuje\n",
    "\n",
    "* Linearne modely penalizovnae L1 (Lasso) alebo L1+L2 (Elastic Net) regularizaciou: SVM, Linearna regresia, Logisticka regresia ...\n",
    "\n",
    "> Regularizacia zavadza do modelu penalizaciu za pocet / velkost vah atributov modelu. Nieje tam len chyba predikcie. Prirodzene sa tak vybera jednoduchsi model.\n",
    "\n",
    "* RandomForest"
   ]
  },
  {
   "cell_type": "code",
   "execution_count": 25,
   "metadata": {
    "slideshow": {
     "slide_type": "slide"
    }
   },
   "outputs": [
    {
     "name": "stderr",
     "output_type": "stream",
     "text": [
      "/home/ganimedes/anaconda3/lib/python3.6/site-packages/sklearn/ensemble/weight_boosting.py:29: DeprecationWarning: numpy.core.umath_tests is an internal NumPy module and should not be imported. It will be removed in a future NumPy release.\n",
      "  from numpy.core.umath_tests import inner1d\n"
     ]
    },
    {
     "data": {
      "text/plain": [
       "(150, 4)"
      ]
     },
     "execution_count": 25,
     "metadata": {},
     "output_type": "execute_result"
    }
   ],
   "source": [
    "from sklearn.ensemble import RandomForestClassifier\n",
    "from sklearn.datasets import load_iris\n",
    "from sklearn.feature_selection import SelectFromModel\n",
    "iris = load_iris()\n",
    "X, y = iris.data, iris.target\n",
    "X.shape"
   ]
  },
  {
   "cell_type": "markdown",
   "metadata": {
    "slideshow": {
     "slide_type": "slide"
    }
   },
   "source": [
    "# Po natrenovani nahodneho lesu viem vybrat dolezitost atributov.\n",
    "\n",
    "Nahodny les je zjednodusene povedane: skupina stromov.\n",
    "\n",
    "Viem sa pozriet ake atributy pouzivaju stromy na rozhodovanie a ako vysoko su v nich a podla toho odvodit ich dolezitost."
   ]
  },
  {
   "cell_type": "code",
   "execution_count": 26,
   "metadata": {
    "slideshow": {
     "slide_type": "fragment"
    }
   },
   "outputs": [
    {
     "data": {
      "text/plain": [
       "array([0.11953934, 0.02307273, 0.32547631, 0.53191161])"
      ]
     },
     "execution_count": 26,
     "metadata": {},
     "output_type": "execute_result"
    }
   ],
   "source": [
    "clf = RandomForestClassifier()\n",
    "clf = clf.fit(X, y)\n",
    "clf.feature_importances_  "
   ]
  },
  {
   "cell_type": "code",
   "execution_count": 27,
   "metadata": {
    "slideshow": {
     "slide_type": "slide"
    }
   },
   "outputs": [
    {
     "data": {
      "text/plain": [
       "(150, 2)"
      ]
     },
     "execution_count": 27,
     "metadata": {},
     "output_type": "execute_result"
    }
   ],
   "source": [
    "model = SelectFromModel(clf, prefit=True)\n",
    "X_new = model.transform(X)\n",
    "X_new.shape  "
   ]
  },
  {
   "cell_type": "markdown",
   "metadata": {
    "slideshow": {
     "slide_type": "slide"
    }
   },
   "source": [
    "# Co si odniest z prednasky?\n",
    "\n",
    "* Rozhodovacie stromy su pomerne jednoduchy ale zaroven velmi silny nastroj.\n",
    "\n",
    "* Pri stromoch sa velmi dobre interpretuje natrenovany model pomocou pravidiel.\n",
    "\n",
    "* Pozor na pretrenovanie (nie len pri stromoch)\n",
    "\n",
    "* Vyber atributov je dobry na redukciu problemu prekliatia dimenzionality.\n",
    "\n",
    "> * Ak pouzivate nejaky linearny model alebo les, tak je zbytocne robit filtre a este viac zbytocne robit wrappre. Mozete vyuzit to, ze sa daju pouzit na embedded vyber atributov\n",
    "\n",
    "> * Ak nemate cas na opakovane trenovanie modelu, tak filtre mozu byt dostatocny hotfix. Treba ale zvazit aku vlastnost atributov chcete pouzit na najdenie najdolezitejsich. \n",
    "\n",
    "> * Ak mate cas spustit to trenovanie viac krat, tak asi najlepsia moznost je SFFS alebo SFECV"
   ]
  },
  {
   "cell_type": "markdown",
   "metadata": {
    "slideshow": {
     "slide_type": "slide"
    }
   },
   "source": [
    "<img src=\"img/potato-tree.jpg\" alt=\"Drawing\" style=\"width: 500px;\"/>"
   ]
  }
 ],
 "metadata": {
  "celltoolbar": "Slideshow",
  "kernelspec": {
   "display_name": "Python 3.6",
   "language": "python",
   "name": "python3.6"
  },
  "language_info": {
   "codemirror_mode": {
    "name": "ipython",
    "version": 3
   },
   "file_extension": ".py",
   "mimetype": "text/x-python",
   "name": "python",
   "nbconvert_exporter": "python",
   "pygments_lexer": "ipython3",
   "version": "3.6.6"
  }
 },
 "nbformat": 4,
 "nbformat_minor": 2
}
